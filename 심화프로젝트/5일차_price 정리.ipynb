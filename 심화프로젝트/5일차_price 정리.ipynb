{
 "cells": [
  {
   "cell_type": "code",
   "execution_count": null,
   "metadata": {},
   "outputs": [],
   "source": [
    "import pandas as pd\n",
    "\n",
    "pd.describe_option()\n",
    "pd.set_option('display.max_columns',None)\n",
    "\n",
    "customers_df= pd.read_csv('dataset/customers.csv')\n",
    "orders_df= pd.read_csv('dataset/orders.csv')\n",
    "order_items_df= pd.read_csv('dataset/order_items.csv')\n",
    "payments_df= pd.read_csv('dataset/payments.csv')\n",
    "products_df= pd.read_csv('dataset/products.csv')"
   ]
  },
  {
   "cell_type": "code",
   "execution_count": 2,
   "metadata": {},
   "outputs": [
    {
     "data": {
      "text/html": [
       "<div>\n",
       "<style scoped>\n",
       "    .dataframe tbody tr th:only-of-type {\n",
       "        vertical-align: middle;\n",
       "    }\n",
       "\n",
       "    .dataframe tbody tr th {\n",
       "        vertical-align: top;\n",
       "    }\n",
       "\n",
       "    .dataframe thead th {\n",
       "        text-align: right;\n",
       "    }\n",
       "</style>\n",
       "<table border=\"1\" class=\"dataframe\">\n",
       "  <thead>\n",
       "    <tr style=\"text-align: right;\">\n",
       "      <th></th>\n",
       "      <th>order_id</th>\n",
       "      <th>price</th>\n",
       "      <th>shipping_charges</th>\n",
       "    </tr>\n",
       "  </thead>\n",
       "  <tbody>\n",
       "    <tr>\n",
       "      <th>0</th>\n",
       "      <td>00010242fe8c5a6d1ba2dd792cb16214</td>\n",
       "      <td>58.9</td>\n",
       "      <td>13.29</td>\n",
       "    </tr>\n",
       "    <tr>\n",
       "      <th>1</th>\n",
       "      <td>00018f77f2f0320c557190d7a144bdd3</td>\n",
       "      <td>239.9</td>\n",
       "      <td>19.93</td>\n",
       "    </tr>\n",
       "    <tr>\n",
       "      <th>2</th>\n",
       "      <td>000229ec398224ef6ca0657da4fc703e</td>\n",
       "      <td>199.0</td>\n",
       "      <td>17.87</td>\n",
       "    </tr>\n",
       "  </tbody>\n",
       "</table>\n",
       "</div>"
      ],
      "text/plain": [
       "                           order_id  price  shipping_charges\n",
       "0  00010242fe8c5a6d1ba2dd792cb16214   58.9             13.29\n",
       "1  00018f77f2f0320c557190d7a144bdd3  239.9             19.93\n",
       "2  000229ec398224ef6ca0657da4fc703e  199.0             17.87"
      ]
     },
     "execution_count": 2,
     "metadata": {},
     "output_type": "execute_result"
    }
   ],
   "source": [
    "# 가격 정의 - 어떤 컬럼들을 합쳐서 새로운 파생 변수로 만들었는지\n",
    "# 가격 변동 있는 데이터 있는지.\n",
    "\n",
    "# order_items_df: price shipping_charges / product_id order_item_id \n",
    "# payments_df: payment_sequential payment_installments payment_value / order_id \n",
    "\n",
    "#! pirce + shipping_charges + (payment_sequential 별 payment_value)\n",
    "\n",
    "# order_item_id 가 여러개니까 order_id에 따라 병합\n",
    "order_items_df[['order_id', 'order_item_id', 'price', 'shipping_charges']]\n",
    "order_items_grouped_order_id= order_items_df.groupby('order_id').agg({\n",
    "    'price': 'sum'\n",
    "    , 'shipping_charges': 'sum'\n",
    "}).reset_index()\n",
    "\n",
    "order_items_grouped_order_id.head(3)\n",
    "\n",
    "# order_items_grouped_order_id.isna().sum() 결측치 존재 X"
   ]
  },
  {
   "cell_type": "code",
   "execution_count": 28,
   "metadata": {},
   "outputs": [
    {
     "data": {
      "text/html": [
       "<div>\n",
       "<style scoped>\n",
       "    .dataframe tbody tr th:only-of-type {\n",
       "        vertical-align: middle;\n",
       "    }\n",
       "\n",
       "    .dataframe tbody tr th {\n",
       "        vertical-align: top;\n",
       "    }\n",
       "\n",
       "    .dataframe thead th {\n",
       "        text-align: right;\n",
       "    }\n",
       "</style>\n",
       "<table border=\"1\" class=\"dataframe\">\n",
       "  <thead>\n",
       "    <tr style=\"text-align: right;\">\n",
       "      <th></th>\n",
       "      <th>order_id</th>\n",
       "      <th>order_item_id</th>\n",
       "      <th>product_id</th>\n",
       "      <th>seller_id</th>\n",
       "      <th>price</th>\n",
       "      <th>shipping_charges</th>\n",
       "    </tr>\n",
       "  </thead>\n",
       "  <tbody>\n",
       "    <tr>\n",
       "      <th>57317</th>\n",
       "      <td>8272b63d03f5f79c56e9e4120aec44ef</td>\n",
       "      <td>21</td>\n",
       "      <td>79ce45dbc2ea29b22b5a261bbb7b7ee7</td>\n",
       "      <td>2709af9587499e95e803a6498a5a56e9</td>\n",
       "      <td>7.8</td>\n",
       "      <td>6.57</td>\n",
       "    </tr>\n",
       "  </tbody>\n",
       "</table>\n",
       "</div>"
      ],
      "text/plain": [
       "                               order_id  order_item_id  \\\n",
       "57317  8272b63d03f5f79c56e9e4120aec44ef             21   \n",
       "\n",
       "                             product_id                         seller_id  \\\n",
       "57317  79ce45dbc2ea29b22b5a261bbb7b7ee7  2709af9587499e95e803a6498a5a56e9   \n",
       "\n",
       "       price  shipping_charges  \n",
       "57317    7.8              6.57  "
      ]
     },
     "execution_count": 28,
     "metadata": {},
     "output_type": "execute_result"
    }
   ],
   "source": [
    "order_items_df['order_item_id'].value_counts()\n",
    "order_items_df[order_items_df['order_item_id']==21]"
   ]
  },
  {
   "cell_type": "code",
   "execution_count": 26,
   "metadata": {},
   "outputs": [
    {
     "name": "stdout",
     "output_type": "stream",
     "text": [
      "False\n",
      "False\n"
     ]
    },
    {
     "data": {
      "text/plain": [
       "31.799999999999997"
      ]
     },
     "execution_count": 26,
     "metadata": {},
     "output_type": "execute_result"
    }
   ],
   "source": [
    "print(order_items_grouped_order_id['price'].equals(order_items_df['price']))\n",
    "print(order_items_grouped_order_id['shipping_charges'].equals(order_items_df['shipping_charges']))\n",
    "\n",
    "order_items_df[order_items_df['order_id']=='8272b63d03f5f79c56e9e4120aec44ef'].price.sum()"
   ]
  },
  {
   "cell_type": "code",
   "execution_count": 27,
   "metadata": {},
   "outputs": [
    {
     "data": {
      "text/html": [
       "<div>\n",
       "<style scoped>\n",
       "    .dataframe tbody tr th:only-of-type {\n",
       "        vertical-align: middle;\n",
       "    }\n",
       "\n",
       "    .dataframe tbody tr th {\n",
       "        vertical-align: top;\n",
       "    }\n",
       "\n",
       "    .dataframe thead th {\n",
       "        text-align: right;\n",
       "    }\n",
       "</style>\n",
       "<table border=\"1\" class=\"dataframe\">\n",
       "  <thead>\n",
       "    <tr style=\"text-align: right;\">\n",
       "      <th></th>\n",
       "      <th>order_id</th>\n",
       "      <th>price</th>\n",
       "      <th>shipping_charges</th>\n",
       "    </tr>\n",
       "  </thead>\n",
       "  <tbody>\n",
       "    <tr>\n",
       "      <th>50137</th>\n",
       "      <td>8272b63d03f5f79c56e9e4120aec44ef</td>\n",
       "      <td>31.8</td>\n",
       "      <td>164.37</td>\n",
       "    </tr>\n",
       "  </tbody>\n",
       "</table>\n",
       "</div>"
      ],
      "text/plain": [
       "                               order_id  price  shipping_charges\n",
       "50137  8272b63d03f5f79c56e9e4120aec44ef   31.8            164.37"
      ]
     },
     "execution_count": 27,
     "metadata": {},
     "output_type": "execute_result"
    }
   ],
   "source": [
    "order_items_grouped_order_id[order_items_grouped_order_id['order_id']=='8272b63d03f5f79c56e9e4120aec44ef']\n",
    "# 각 order_id별 order_item 병합 확인"
   ]
  },
  {
   "cell_type": "code",
   "execution_count": 7,
   "metadata": {},
   "outputs": [
    {
     "data": {
      "text/html": [
       "<div>\n",
       "<style scoped>\n",
       "    .dataframe tbody tr th:only-of-type {\n",
       "        vertical-align: middle;\n",
       "    }\n",
       "\n",
       "    .dataframe tbody tr th {\n",
       "        vertical-align: top;\n",
       "    }\n",
       "\n",
       "    .dataframe thead th {\n",
       "        text-align: right;\n",
       "    }\n",
       "</style>\n",
       "<table border=\"1\" class=\"dataframe\">\n",
       "  <thead>\n",
       "    <tr style=\"text-align: right;\">\n",
       "      <th></th>\n",
       "      <th>order_id</th>\n",
       "      <th>payment_sequential</th>\n",
       "      <th>payment_type</th>\n",
       "      <th>payment_installments</th>\n",
       "      <th>payment_value</th>\n",
       "    </tr>\n",
       "  </thead>\n",
       "  <tbody>\n",
       "    <tr>\n",
       "      <th>39108</th>\n",
       "      <td>fa65dad1b0e818e3ccc5cb0e39231352</td>\n",
       "      <td>29</td>\n",
       "      <td>voucher</td>\n",
       "      <td>1</td>\n",
       "      <td>19.26</td>\n",
       "    </tr>\n",
       "    <tr>\n",
       "      <th>39111</th>\n",
       "      <td>fa65dad1b0e818e3ccc5cb0e39231352</td>\n",
       "      <td>28</td>\n",
       "      <td>voucher</td>\n",
       "      <td>1</td>\n",
       "      <td>29.05</td>\n",
       "    </tr>\n",
       "    <tr>\n",
       "      <th>4885</th>\n",
       "      <td>fa65dad1b0e818e3ccc5cb0e39231352</td>\n",
       "      <td>27</td>\n",
       "      <td>voucher</td>\n",
       "      <td>1</td>\n",
       "      <td>66.02</td>\n",
       "    </tr>\n",
       "    <tr>\n",
       "      <th>32393</th>\n",
       "      <td>ccf804e764ed5650cd8759557269dc13</td>\n",
       "      <td>26</td>\n",
       "      <td>voucher</td>\n",
       "      <td>1</td>\n",
       "      <td>23.10</td>\n",
       "    </tr>\n",
       "    <tr>\n",
       "      <th>79587</th>\n",
       "      <td>fa65dad1b0e818e3ccc5cb0e39231352</td>\n",
       "      <td>26</td>\n",
       "      <td>voucher</td>\n",
       "      <td>1</td>\n",
       "      <td>28.27</td>\n",
       "    </tr>\n",
       "  </tbody>\n",
       "</table>\n",
       "</div>"
      ],
      "text/plain": [
       "                               order_id  payment_sequential payment_type  \\\n",
       "39108  fa65dad1b0e818e3ccc5cb0e39231352                  29      voucher   \n",
       "39111  fa65dad1b0e818e3ccc5cb0e39231352                  28      voucher   \n",
       "4885   fa65dad1b0e818e3ccc5cb0e39231352                  27      voucher   \n",
       "32393  ccf804e764ed5650cd8759557269dc13                  26      voucher   \n",
       "79587  fa65dad1b0e818e3ccc5cb0e39231352                  26      voucher   \n",
       "\n",
       "       payment_installments  payment_value  \n",
       "39108                     1          19.26  \n",
       "39111                     1          29.05  \n",
       "4885                      1          66.02  \n",
       "32393                     1          23.10  \n",
       "79587                     1          28.27  "
      ]
     },
     "execution_count": 7,
     "metadata": {},
     "output_type": "execute_result"
    }
   ],
   "source": [
    "# (payment_sequential 별 payment_value) \n",
    "payments_df.sort_values(by='payment_sequential', ascending=False).head(5)"
   ]
  },
  {
   "cell_type": "code",
   "execution_count": 36,
   "metadata": {},
   "outputs": [
    {
     "data": {
      "text/plain": [
       "0         72.19\n",
       "1        259.83\n",
       "2        216.87\n",
       "3         25.78\n",
       "4        218.04\n",
       "          ...  \n",
       "98661    343.40\n",
       "98662    386.53\n",
       "98663    116.85\n",
       "98664     64.71\n",
       "98665     55.79\n",
       "Name: total_price, Length: 98666, dtype: float64"
      ]
     },
     "execution_count": 36,
     "metadata": {},
     "output_type": "execute_result"
    }
   ],
   "source": [
    "test_df= pd.merge(order_items_df, order_items_grouped_order_id, on= 'order_id', how= 'left')\n",
    "test_df\n",
    "\n",
    "test1=  order_items_grouped_order_id['total_price']\n",
    "test1"
   ]
  },
  {
   "cell_type": "code",
   "execution_count": 41,
   "metadata": {},
   "outputs": [
    {
     "data": {
      "text/plain": [
       "array(['00010242fe8c5a6d1ba2dd792cb16214',\n",
       "       '00018f77f2f0320c557190d7a144bdd3',\n",
       "       '000229ec398224ef6ca0657da4fc703e', ...,\n",
       "       'fffce4705a9662cd70adb13d4a31832d',\n",
       "       'fffe18544ffabc95dfada21779c9644f',\n",
       "       'fffe41c64501cc87c801fd61db3f6244'], dtype=object)"
      ]
     },
     "execution_count": 41,
     "metadata": {},
     "output_type": "execute_result"
    }
   ],
   "source": [
    "order_items_df['order_id'].unique()"
   ]
  },
  {
   "cell_type": "code",
   "execution_count": 43,
   "metadata": {},
   "outputs": [
    {
     "data": {
      "text/html": [
       "<div>\n",
       "<style scoped>\n",
       "    .dataframe tbody tr th:only-of-type {\n",
       "        vertical-align: middle;\n",
       "    }\n",
       "\n",
       "    .dataframe tbody tr th {\n",
       "        vertical-align: top;\n",
       "    }\n",
       "\n",
       "    .dataframe thead th {\n",
       "        text-align: right;\n",
       "    }\n",
       "</style>\n",
       "<table border=\"1\" class=\"dataframe\">\n",
       "  <thead>\n",
       "    <tr style=\"text-align: right;\">\n",
       "      <th></th>\n",
       "      <th>order_id</th>\n",
       "      <th>order_item_id</th>\n",
       "      <th>product_id</th>\n",
       "      <th>seller_id</th>\n",
       "      <th>price</th>\n",
       "      <th>shipping_charges</th>\n",
       "    </tr>\n",
       "  </thead>\n",
       "  <tbody>\n",
       "    <tr>\n",
       "      <th>112648</th>\n",
       "      <td>fffe18544ffabc95dfada21779c9644f</td>\n",
       "      <td>1</td>\n",
       "      <td>9c422a519119dcad7575db5af1ba540e</td>\n",
       "      <td>2b3e4a2a3ea8e01938cabda2a3e5cc79</td>\n",
       "      <td>55.99</td>\n",
       "      <td>8.72</td>\n",
       "    </tr>\n",
       "  </tbody>\n",
       "</table>\n",
       "</div>"
      ],
      "text/plain": [
       "                                order_id  order_item_id  \\\n",
       "112648  fffe18544ffabc95dfada21779c9644f              1   \n",
       "\n",
       "                              product_id                         seller_id  \\\n",
       "112648  9c422a519119dcad7575db5af1ba540e  2b3e4a2a3ea8e01938cabda2a3e5cc79   \n",
       "\n",
       "        price  shipping_charges  \n",
       "112648  55.99              8.72  "
      ]
     },
     "execution_count": 43,
     "metadata": {},
     "output_type": "execute_result"
    }
   ],
   "source": [
    "order_items_df[order_items_df['order_id']== 'fffe18544ffabc95dfada21779c9644f']"
   ]
  },
  {
   "cell_type": "code",
   "execution_count": 16,
   "metadata": {},
   "outputs": [
    {
     "data": {
      "text/plain": [
       "457.99"
      ]
     },
     "execution_count": 16,
     "metadata": {},
     "output_type": "execute_result"
    }
   ],
   "source": [
    "payments_df[payments_df['order_id']== 'fa65dad1b0e818e3ccc5cb0e39231352'].payment_value.sum()"
   ]
  },
  {
   "cell_type": "code",
   "execution_count": 8,
   "metadata": {},
   "outputs": [
    {
     "data": {
      "text/html": [
       "<div>\n",
       "<style scoped>\n",
       "    .dataframe tbody tr th:only-of-type {\n",
       "        vertical-align: middle;\n",
       "    }\n",
       "\n",
       "    .dataframe tbody tr th {\n",
       "        vertical-align: top;\n",
       "    }\n",
       "\n",
       "    .dataframe thead th {\n",
       "        text-align: right;\n",
       "    }\n",
       "</style>\n",
       "<table border=\"1\" class=\"dataframe\">\n",
       "  <thead>\n",
       "    <tr style=\"text-align: right;\">\n",
       "      <th></th>\n",
       "      <th>order_id</th>\n",
       "      <th>payment_sequential</th>\n",
       "      <th>payment_value</th>\n",
       "    </tr>\n",
       "  </thead>\n",
       "  <tbody>\n",
       "    <tr>\n",
       "      <th>97261</th>\n",
       "      <td>fa65dad1b0e818e3ccc5cb0e39231352</td>\n",
       "      <td>435</td>\n",
       "      <td>457.99</td>\n",
       "    </tr>\n",
       "    <tr>\n",
       "      <th>79611</th>\n",
       "      <td>ccf804e764ed5650cd8759557269dc13</td>\n",
       "      <td>351</td>\n",
       "      <td>62.68</td>\n",
       "    </tr>\n",
       "    <tr>\n",
       "      <th>15577</th>\n",
       "      <td>285c2e15bebd4ac83635ccc563dc71f4</td>\n",
       "      <td>253</td>\n",
       "      <td>40.85</td>\n",
       "    </tr>\n",
       "  </tbody>\n",
       "</table>\n",
       "</div>"
      ],
      "text/plain": [
       "                               order_id  payment_sequential  payment_value\n",
       "97261  fa65dad1b0e818e3ccc5cb0e39231352                 435         457.99\n",
       "79611  ccf804e764ed5650cd8759557269dc13                 351          62.68\n",
       "15577  285c2e15bebd4ac83635ccc563dc71f4                 253          40.85"
      ]
     },
     "execution_count": 8,
     "metadata": {},
     "output_type": "execute_result"
    }
   ],
   "source": [
    "# -- order_id로 그룹화\n",
    "payments_grouped_order_id= payments_df.groupby('order_id').agg({\n",
    "    'payment_sequential': 'sum'\n",
    "    , 'payment_value': 'sum'\n",
    "}).reset_index()\n",
    "\n",
    "payments_grouped_order_id.sort_values(by='payment_sequential', ascending=False).head(3)\n",
    "# 29+28+27+26+...+3+2+1 = 435"
   ]
  },
  {
   "cell_type": "code",
   "execution_count": null,
   "metadata": {},
   "outputs": [],
   "source": [
    "# -- order_id로 그룹화\n",
    "payments_grouped_order_id= payments_df.groupby('order_id').agg({\n",
    "    , 'payment_value': 'sum'\n",
    "}).reset_index()\n",
    "\n",
    "payments_grouped_order_id.sort_values(by='payment_sequential', ascending=False).head(3)\n",
    "# 29+28+27+26+...+3+2+1 = 435\n",
    "\n",
    "##### paymet_value_sum으로 이름 재정의"
   ]
  },
  {
   "cell_type": "code",
   "execution_count": 9,
   "metadata": {},
   "outputs": [
    {
     "data": {
      "text/plain": [
       "order_id              0\n",
       "payment_sequential    0\n",
       "payment_value         0\n",
       "dtype: int64"
      ]
     },
     "execution_count": 9,
     "metadata": {},
     "output_type": "execute_result"
    }
   ],
   "source": [
    "payments_grouped_order_id.isna().sum()"
   ]
  },
  {
   "cell_type": "code",
   "execution_count": 29,
   "metadata": {},
   "outputs": [
    {
     "data": {
      "text/html": [
       "<div>\n",
       "<style scoped>\n",
       "    .dataframe tbody tr th:only-of-type {\n",
       "        vertical-align: middle;\n",
       "    }\n",
       "\n",
       "    .dataframe tbody tr th {\n",
       "        vertical-align: top;\n",
       "    }\n",
       "\n",
       "    .dataframe thead th {\n",
       "        text-align: right;\n",
       "    }\n",
       "</style>\n",
       "<table border=\"1\" class=\"dataframe\">\n",
       "  <thead>\n",
       "    <tr style=\"text-align: right;\">\n",
       "      <th></th>\n",
       "      <th>order_id</th>\n",
       "      <th>payment_sequential</th>\n",
       "      <th>payment_value</th>\n",
       "    </tr>\n",
       "  </thead>\n",
       "  <tbody>\n",
       "    <tr>\n",
       "      <th>97261</th>\n",
       "      <td>fa65dad1b0e818e3ccc5cb0e39231352</td>\n",
       "      <td>435</td>\n",
       "      <td>457.99</td>\n",
       "    </tr>\n",
       "  </tbody>\n",
       "</table>\n",
       "</div>"
      ],
      "text/plain": [
       "                               order_id  payment_sequential  payment_value\n",
       "97261  fa65dad1b0e818e3ccc5cb0e39231352                 435         457.99"
      ]
     },
     "execution_count": 29,
     "metadata": {},
     "output_type": "execute_result"
    }
   ],
   "source": [
    "payments_grouped_order_id[payments_grouped_order_id['order_id']=='fa65dad1b0e818e3ccc5cb0e39231352']"
   ]
  },
  {
   "cell_type": "code",
   "execution_count": 30,
   "metadata": {},
   "outputs": [
    {
     "data": {
      "text/html": [
       "<div>\n",
       "<style scoped>\n",
       "    .dataframe tbody tr th:only-of-type {\n",
       "        vertical-align: middle;\n",
       "    }\n",
       "\n",
       "    .dataframe tbody tr th {\n",
       "        vertical-align: top;\n",
       "    }\n",
       "\n",
       "    .dataframe thead th {\n",
       "        text-align: right;\n",
       "    }\n",
       "</style>\n",
       "<table border=\"1\" class=\"dataframe\">\n",
       "  <thead>\n",
       "    <tr style=\"text-align: right;\">\n",
       "      <th></th>\n",
       "      <th>order_id</th>\n",
       "      <th>price</th>\n",
       "      <th>shipping_charges</th>\n",
       "    </tr>\n",
       "  </thead>\n",
       "  <tbody>\n",
       "    <tr>\n",
       "      <th>96502</th>\n",
       "      <td>fa65dad1b0e818e3ccc5cb0e39231352</td>\n",
       "      <td>392.55</td>\n",
       "      <td>65.44</td>\n",
       "    </tr>\n",
       "  </tbody>\n",
       "</table>\n",
       "</div>"
      ],
      "text/plain": [
       "                               order_id   price  shipping_charges\n",
       "96502  fa65dad1b0e818e3ccc5cb0e39231352  392.55             65.44"
      ]
     },
     "execution_count": 30,
     "metadata": {},
     "output_type": "execute_result"
    }
   ],
   "source": [
    "order_items_grouped_order_id[order_items_grouped_order_id['order_id']=='fa65dad1b0e818e3ccc5cb0e39231352']"
   ]
  },
  {
   "cell_type": "code",
   "execution_count": 71,
   "metadata": {},
   "outputs": [
    {
     "data": {
      "text/html": [
       "<div>\n",
       "<style scoped>\n",
       "    .dataframe tbody tr th:only-of-type {\n",
       "        vertical-align: middle;\n",
       "    }\n",
       "\n",
       "    .dataframe tbody tr th {\n",
       "        vertical-align: top;\n",
       "    }\n",
       "\n",
       "    .dataframe thead th {\n",
       "        text-align: right;\n",
       "    }\n",
       "</style>\n",
       "<table border=\"1\" class=\"dataframe\">\n",
       "  <thead>\n",
       "    <tr style=\"text-align: right;\">\n",
       "      <th></th>\n",
       "      <th>order_id</th>\n",
       "      <th>order_item_id</th>\n",
       "      <th>product_id</th>\n",
       "      <th>seller_id</th>\n",
       "      <th>price</th>\n",
       "      <th>shipping_charges</th>\n",
       "    </tr>\n",
       "  </thead>\n",
       "  <tbody>\n",
       "    <tr>\n",
       "      <th>11943</th>\n",
       "      <td>1b15974a0141d54e36626dca3fdc731a</td>\n",
       "      <td>12</td>\n",
       "      <td>ee3d532c8a438679776d222e997606b3</td>\n",
       "      <td>8e6d7754bc7e0f22c96d255ebda59eba</td>\n",
       "      <td>100.00</td>\n",
       "      <td>10.12</td>\n",
       "    </tr>\n",
       "    <tr>\n",
       "      <th>19217</th>\n",
       "      <td>2c2a19b5703863c908512d135aa6accc</td>\n",
       "      <td>12</td>\n",
       "      <td>03e1c946c0ddfc58724ff262aef08dff</td>\n",
       "      <td>98dac6635aee4995d501a3972e047414</td>\n",
       "      <td>20.70</td>\n",
       "      <td>16.11</td>\n",
       "    </tr>\n",
       "    <tr>\n",
       "      <th>24561</th>\n",
       "      <td>37ee401157a3a0b28c9c6d0ed8c3b24b</td>\n",
       "      <td>12</td>\n",
       "      <td>d34c07a2d817ac73f4caf8c574215fed</td>\n",
       "      <td>e7d5b006eb624f13074497221eb37807</td>\n",
       "      <td>29.99</td>\n",
       "      <td>7.39</td>\n",
       "    </tr>\n",
       "    <tr>\n",
       "      <th>25575</th>\n",
       "      <td>3a213fcdfe7d98be74ea0dc05a8b31ae</td>\n",
       "      <td>12</td>\n",
       "      <td>a62e25e09e05e6faf31d90c6ec1aa3d1</td>\n",
       "      <td>634964b17796e64304cadf1ad3050fb7</td>\n",
       "      <td>108.00</td>\n",
       "      <td>15.52</td>\n",
       "    </tr>\n",
       "    <tr>\n",
       "      <th>29268</th>\n",
       "      <td>428a2f660dc84138d969ccd69a0ab6d5</td>\n",
       "      <td>12</td>\n",
       "      <td>89b190a046022486c635022524a974a8</td>\n",
       "      <td>f326006815956455b2859abd58fe7e39</td>\n",
       "      <td>65.49</td>\n",
       "      <td>16.22</td>\n",
       "    </tr>\n",
       "    <tr>\n",
       "      <th>43766</th>\n",
       "      <td>637617b3ffe9e2f7a2411243829226d0</td>\n",
       "      <td>12</td>\n",
       "      <td>bf44071ef18f5c9ded039681c68b1996</td>\n",
       "      <td>1f50f920176fa81dab994f9023523100</td>\n",
       "      <td>79.90</td>\n",
       "      <td>24.02</td>\n",
       "    </tr>\n",
       "    <tr>\n",
       "      <th>50925</th>\n",
       "      <td>73c8ab38f07dc94389065f7eba4f297a</td>\n",
       "      <td>12</td>\n",
       "      <td>422879e10f46682990de24d770e7f83d</td>\n",
       "      <td>1f50f920176fa81dab994f9023523100</td>\n",
       "      <td>59.00</td>\n",
       "      <td>13.43</td>\n",
       "    </tr>\n",
       "    <tr>\n",
       "      <th>57308</th>\n",
       "      <td>8272b63d03f5f79c56e9e4120aec44ef</td>\n",
       "      <td>12</td>\n",
       "      <td>270516a3f41dc035aa87d220228f844c</td>\n",
       "      <td>2709af9587499e95e803a6498a5a56e9</td>\n",
       "      <td>1.20</td>\n",
       "      <td>7.89</td>\n",
       "    </tr>\n",
       "    <tr>\n",
       "      <th>68196</th>\n",
       "      <td>9bdc4d4c71aa1de4606060929dee888c</td>\n",
       "      <td>12</td>\n",
       "      <td>44a5d24dd383324a421569ca697b13c2</td>\n",
       "      <td>e7d5b006eb624f13074497221eb37807</td>\n",
       "      <td>29.99</td>\n",
       "      <td>7.78</td>\n",
       "    </tr>\n",
       "    <tr>\n",
       "      <th>69651</th>\n",
       "      <td>9ef13efd6949e4573a18964dd1bbe7f5</td>\n",
       "      <td>12</td>\n",
       "      <td>37eb69aca8718e843d897aa7b82f462d</td>\n",
       "      <td>0b36063d5818f81ccb94b54adfaebbf5</td>\n",
       "      <td>51.00</td>\n",
       "      <td>1.20</td>\n",
       "    </tr>\n",
       "    <tr>\n",
       "      <th>75114</th>\n",
       "      <td>ab14fdcfbe524636d65ee38360e22ce8</td>\n",
       "      <td>12</td>\n",
       "      <td>9571759451b1d780ee7c15012ea109d4</td>\n",
       "      <td>ce27a3cc3c8cc1ea79d11e561e9bebb6</td>\n",
       "      <td>98.70</td>\n",
       "      <td>14.44</td>\n",
       "    </tr>\n",
       "    <tr>\n",
       "      <th>77086</th>\n",
       "      <td>af822dacd6f5cff7376413c03a388bb7</td>\n",
       "      <td>12</td>\n",
       "      <td>62995b7e571f5760017991632bbfd311</td>\n",
       "      <td>98dac6635aee4995d501a3972e047414</td>\n",
       "      <td>5.31</td>\n",
       "      <td>15.23</td>\n",
       "    </tr>\n",
       "    <tr>\n",
       "      <th>84669</th>\n",
       "      <td>c05d6a79e55da72ca780ce90364abed9</td>\n",
       "      <td>12</td>\n",
       "      <td>a9d9db064d4afd4458eb3e139fe29167</td>\n",
       "      <td>98dac6635aee4995d501a3972e047414</td>\n",
       "      <td>14.49</td>\n",
       "      <td>9.24</td>\n",
       "    </tr>\n",
       "  </tbody>\n",
       "</table>\n",
       "</div>"
      ],
      "text/plain": [
       "                               order_id  order_item_id  \\\n",
       "11943  1b15974a0141d54e36626dca3fdc731a             12   \n",
       "19217  2c2a19b5703863c908512d135aa6accc             12   \n",
       "24561  37ee401157a3a0b28c9c6d0ed8c3b24b             12   \n",
       "25575  3a213fcdfe7d98be74ea0dc05a8b31ae             12   \n",
       "29268  428a2f660dc84138d969ccd69a0ab6d5             12   \n",
       "43766  637617b3ffe9e2f7a2411243829226d0             12   \n",
       "50925  73c8ab38f07dc94389065f7eba4f297a             12   \n",
       "57308  8272b63d03f5f79c56e9e4120aec44ef             12   \n",
       "68196  9bdc4d4c71aa1de4606060929dee888c             12   \n",
       "69651  9ef13efd6949e4573a18964dd1bbe7f5             12   \n",
       "75114  ab14fdcfbe524636d65ee38360e22ce8             12   \n",
       "77086  af822dacd6f5cff7376413c03a388bb7             12   \n",
       "84669  c05d6a79e55da72ca780ce90364abed9             12   \n",
       "\n",
       "                             product_id                         seller_id  \\\n",
       "11943  ee3d532c8a438679776d222e997606b3  8e6d7754bc7e0f22c96d255ebda59eba   \n",
       "19217  03e1c946c0ddfc58724ff262aef08dff  98dac6635aee4995d501a3972e047414   \n",
       "24561  d34c07a2d817ac73f4caf8c574215fed  e7d5b006eb624f13074497221eb37807   \n",
       "25575  a62e25e09e05e6faf31d90c6ec1aa3d1  634964b17796e64304cadf1ad3050fb7   \n",
       "29268  89b190a046022486c635022524a974a8  f326006815956455b2859abd58fe7e39   \n",
       "43766  bf44071ef18f5c9ded039681c68b1996  1f50f920176fa81dab994f9023523100   \n",
       "50925  422879e10f46682990de24d770e7f83d  1f50f920176fa81dab994f9023523100   \n",
       "57308  270516a3f41dc035aa87d220228f844c  2709af9587499e95e803a6498a5a56e9   \n",
       "68196  44a5d24dd383324a421569ca697b13c2  e7d5b006eb624f13074497221eb37807   \n",
       "69651  37eb69aca8718e843d897aa7b82f462d  0b36063d5818f81ccb94b54adfaebbf5   \n",
       "75114  9571759451b1d780ee7c15012ea109d4  ce27a3cc3c8cc1ea79d11e561e9bebb6   \n",
       "77086  62995b7e571f5760017991632bbfd311  98dac6635aee4995d501a3972e047414   \n",
       "84669  a9d9db064d4afd4458eb3e139fe29167  98dac6635aee4995d501a3972e047414   \n",
       "\n",
       "        price  shipping_charges  \n",
       "11943  100.00             10.12  \n",
       "19217   20.70             16.11  \n",
       "24561   29.99              7.39  \n",
       "25575  108.00             15.52  \n",
       "29268   65.49             16.22  \n",
       "43766   79.90             24.02  \n",
       "50925   59.00             13.43  \n",
       "57308    1.20              7.89  \n",
       "68196   29.99              7.78  \n",
       "69651   51.00              1.20  \n",
       "75114   98.70             14.44  \n",
       "77086    5.31             15.23  \n",
       "84669   14.49              9.24  "
      ]
     },
     "execution_count": 71,
     "metadata": {},
     "output_type": "execute_result"
    }
   ],
   "source": [
    "order_items_df['order_item_id'].value_counts()\n",
    "order_items_df[order_items_df['order_item_id']==21]\n",
    "order_items_df[order_items_df['order_item_id']==12]"
   ]
  },
  {
   "cell_type": "code",
   "execution_count": 74,
   "metadata": {},
   "outputs": [
    {
     "data": {
      "text/html": [
       "<div>\n",
       "<style scoped>\n",
       "    .dataframe tbody tr th:only-of-type {\n",
       "        vertical-align: middle;\n",
       "    }\n",
       "\n",
       "    .dataframe tbody tr th {\n",
       "        vertical-align: top;\n",
       "    }\n",
       "\n",
       "    .dataframe thead th {\n",
       "        text-align: right;\n",
       "    }\n",
       "</style>\n",
       "<table border=\"1\" class=\"dataframe\">\n",
       "  <thead>\n",
       "    <tr style=\"text-align: right;\">\n",
       "      <th></th>\n",
       "      <th>order_id</th>\n",
       "      <th>order_item_id</th>\n",
       "      <th>product_id</th>\n",
       "      <th>seller_id</th>\n",
       "      <th>price</th>\n",
       "      <th>shipping_charges</th>\n",
       "    </tr>\n",
       "  </thead>\n",
       "  <tbody>\n",
       "    <tr>\n",
       "      <th>84658</th>\n",
       "      <td>c05d6a79e55da72ca780ce90364abed9</td>\n",
       "      <td>1</td>\n",
       "      <td>710b7c26b7a742f497bba45fab91a25f</td>\n",
       "      <td>98dac6635aee4995d501a3972e047414</td>\n",
       "      <td>21.15</td>\n",
       "      <td>5.54</td>\n",
       "    </tr>\n",
       "    <tr>\n",
       "      <th>84659</th>\n",
       "      <td>c05d6a79e55da72ca780ce90364abed9</td>\n",
       "      <td>2</td>\n",
       "      <td>a9d9db064d4afd4458eb3e139fe29167</td>\n",
       "      <td>98dac6635aee4995d501a3972e047414</td>\n",
       "      <td>14.49</td>\n",
       "      <td>9.24</td>\n",
       "    </tr>\n",
       "    <tr>\n",
       "      <th>84660</th>\n",
       "      <td>c05d6a79e55da72ca780ce90364abed9</td>\n",
       "      <td>3</td>\n",
       "      <td>a9d9db064d4afd4458eb3e139fe29167</td>\n",
       "      <td>98dac6635aee4995d501a3972e047414</td>\n",
       "      <td>14.49</td>\n",
       "      <td>9.24</td>\n",
       "    </tr>\n",
       "    <tr>\n",
       "      <th>84661</th>\n",
       "      <td>c05d6a79e55da72ca780ce90364abed9</td>\n",
       "      <td>4</td>\n",
       "      <td>710b7c26b7a742f497bba45fab91a25f</td>\n",
       "      <td>98dac6635aee4995d501a3972e047414</td>\n",
       "      <td>21.15</td>\n",
       "      <td>5.54</td>\n",
       "    </tr>\n",
       "    <tr>\n",
       "      <th>84662</th>\n",
       "      <td>c05d6a79e55da72ca780ce90364abed9</td>\n",
       "      <td>5</td>\n",
       "      <td>a9d9db064d4afd4458eb3e139fe29167</td>\n",
       "      <td>98dac6635aee4995d501a3972e047414</td>\n",
       "      <td>14.49</td>\n",
       "      <td>9.24</td>\n",
       "    </tr>\n",
       "    <tr>\n",
       "      <th>84663</th>\n",
       "      <td>c05d6a79e55da72ca780ce90364abed9</td>\n",
       "      <td>6</td>\n",
       "      <td>710b7c26b7a742f497bba45fab91a25f</td>\n",
       "      <td>98dac6635aee4995d501a3972e047414</td>\n",
       "      <td>21.15</td>\n",
       "      <td>5.54</td>\n",
       "    </tr>\n",
       "    <tr>\n",
       "      <th>84664</th>\n",
       "      <td>c05d6a79e55da72ca780ce90364abed9</td>\n",
       "      <td>7</td>\n",
       "      <td>a9d9db064d4afd4458eb3e139fe29167</td>\n",
       "      <td>98dac6635aee4995d501a3972e047414</td>\n",
       "      <td>14.49</td>\n",
       "      <td>9.24</td>\n",
       "    </tr>\n",
       "    <tr>\n",
       "      <th>84665</th>\n",
       "      <td>c05d6a79e55da72ca780ce90364abed9</td>\n",
       "      <td>8</td>\n",
       "      <td>710b7c26b7a742f497bba45fab91a25f</td>\n",
       "      <td>98dac6635aee4995d501a3972e047414</td>\n",
       "      <td>21.15</td>\n",
       "      <td>5.54</td>\n",
       "    </tr>\n",
       "    <tr>\n",
       "      <th>84666</th>\n",
       "      <td>c05d6a79e55da72ca780ce90364abed9</td>\n",
       "      <td>9</td>\n",
       "      <td>a9d9db064d4afd4458eb3e139fe29167</td>\n",
       "      <td>98dac6635aee4995d501a3972e047414</td>\n",
       "      <td>14.49</td>\n",
       "      <td>9.24</td>\n",
       "    </tr>\n",
       "    <tr>\n",
       "      <th>84667</th>\n",
       "      <td>c05d6a79e55da72ca780ce90364abed9</td>\n",
       "      <td>10</td>\n",
       "      <td>710b7c26b7a742f497bba45fab91a25f</td>\n",
       "      <td>98dac6635aee4995d501a3972e047414</td>\n",
       "      <td>21.15</td>\n",
       "      <td>5.54</td>\n",
       "    </tr>\n",
       "    <tr>\n",
       "      <th>84668</th>\n",
       "      <td>c05d6a79e55da72ca780ce90364abed9</td>\n",
       "      <td>11</td>\n",
       "      <td>710b7c26b7a742f497bba45fab91a25f</td>\n",
       "      <td>98dac6635aee4995d501a3972e047414</td>\n",
       "      <td>21.15</td>\n",
       "      <td>5.54</td>\n",
       "    </tr>\n",
       "    <tr>\n",
       "      <th>84669</th>\n",
       "      <td>c05d6a79e55da72ca780ce90364abed9</td>\n",
       "      <td>12</td>\n",
       "      <td>a9d9db064d4afd4458eb3e139fe29167</td>\n",
       "      <td>98dac6635aee4995d501a3972e047414</td>\n",
       "      <td>14.49</td>\n",
       "      <td>9.24</td>\n",
       "    </tr>\n",
       "  </tbody>\n",
       "</table>\n",
       "</div>"
      ],
      "text/plain": [
       "                               order_id  order_item_id  \\\n",
       "84658  c05d6a79e55da72ca780ce90364abed9              1   \n",
       "84659  c05d6a79e55da72ca780ce90364abed9              2   \n",
       "84660  c05d6a79e55da72ca780ce90364abed9              3   \n",
       "84661  c05d6a79e55da72ca780ce90364abed9              4   \n",
       "84662  c05d6a79e55da72ca780ce90364abed9              5   \n",
       "84663  c05d6a79e55da72ca780ce90364abed9              6   \n",
       "84664  c05d6a79e55da72ca780ce90364abed9              7   \n",
       "84665  c05d6a79e55da72ca780ce90364abed9              8   \n",
       "84666  c05d6a79e55da72ca780ce90364abed9              9   \n",
       "84667  c05d6a79e55da72ca780ce90364abed9             10   \n",
       "84668  c05d6a79e55da72ca780ce90364abed9             11   \n",
       "84669  c05d6a79e55da72ca780ce90364abed9             12   \n",
       "\n",
       "                             product_id                         seller_id  \\\n",
       "84658  710b7c26b7a742f497bba45fab91a25f  98dac6635aee4995d501a3972e047414   \n",
       "84659  a9d9db064d4afd4458eb3e139fe29167  98dac6635aee4995d501a3972e047414   \n",
       "84660  a9d9db064d4afd4458eb3e139fe29167  98dac6635aee4995d501a3972e047414   \n",
       "84661  710b7c26b7a742f497bba45fab91a25f  98dac6635aee4995d501a3972e047414   \n",
       "84662  a9d9db064d4afd4458eb3e139fe29167  98dac6635aee4995d501a3972e047414   \n",
       "84663  710b7c26b7a742f497bba45fab91a25f  98dac6635aee4995d501a3972e047414   \n",
       "84664  a9d9db064d4afd4458eb3e139fe29167  98dac6635aee4995d501a3972e047414   \n",
       "84665  710b7c26b7a742f497bba45fab91a25f  98dac6635aee4995d501a3972e047414   \n",
       "84666  a9d9db064d4afd4458eb3e139fe29167  98dac6635aee4995d501a3972e047414   \n",
       "84667  710b7c26b7a742f497bba45fab91a25f  98dac6635aee4995d501a3972e047414   \n",
       "84668  710b7c26b7a742f497bba45fab91a25f  98dac6635aee4995d501a3972e047414   \n",
       "84669  a9d9db064d4afd4458eb3e139fe29167  98dac6635aee4995d501a3972e047414   \n",
       "\n",
       "       price  shipping_charges  \n",
       "84658  21.15              5.54  \n",
       "84659  14.49              9.24  \n",
       "84660  14.49              9.24  \n",
       "84661  21.15              5.54  \n",
       "84662  14.49              9.24  \n",
       "84663  21.15              5.54  \n",
       "84664  14.49              9.24  \n",
       "84665  21.15              5.54  \n",
       "84666  14.49              9.24  \n",
       "84667  21.15              5.54  \n",
       "84668  21.15              5.54  \n",
       "84669  14.49              9.24  "
      ]
     },
     "execution_count": 74,
     "metadata": {},
     "output_type": "execute_result"
    }
   ],
   "source": [
    "order_items_df[order_items_df['order_id']=='c05d6a79e55da72ca780ce90364abed9']"
   ]
  },
  {
   "cell_type": "code",
   "execution_count": 32,
   "metadata": {},
   "outputs": [
    {
     "data": {
      "text/html": [
       "<div>\n",
       "<style scoped>\n",
       "    .dataframe tbody tr th:only-of-type {\n",
       "        vertical-align: middle;\n",
       "    }\n",
       "\n",
       "    .dataframe tbody tr th {\n",
       "        vertical-align: top;\n",
       "    }\n",
       "\n",
       "    .dataframe thead th {\n",
       "        text-align: right;\n",
       "    }\n",
       "</style>\n",
       "<table border=\"1\" class=\"dataframe\">\n",
       "  <thead>\n",
       "    <tr style=\"text-align: right;\">\n",
       "      <th></th>\n",
       "      <th>order_id</th>\n",
       "      <th>price</th>\n",
       "      <th>shipping_charges</th>\n",
       "      <th>total</th>\n",
       "      <th>total_price</th>\n",
       "    </tr>\n",
       "  </thead>\n",
       "  <tbody>\n",
       "    <tr>\n",
       "      <th>96502</th>\n",
       "      <td>fa65dad1b0e818e3ccc5cb0e39231352</td>\n",
       "      <td>392.55</td>\n",
       "      <td>65.44</td>\n",
       "      <td>457.99</td>\n",
       "      <td>457.99</td>\n",
       "    </tr>\n",
       "  </tbody>\n",
       "</table>\n",
       "</div>"
      ],
      "text/plain": [
       "                               order_id   price  shipping_charges   total  \\\n",
       "96502  fa65dad1b0e818e3ccc5cb0e39231352  392.55             65.44  457.99   \n",
       "\n",
       "       total_price  \n",
       "96502       457.99  "
      ]
     },
     "execution_count": 32,
     "metadata": {},
     "output_type": "execute_result"
    }
   ],
   "source": [
    "# 설명\n",
    "order_items_grouped_order_id['total_price']=order_items_grouped_order_id['price']+order_items_grouped_order_id['shipping_charges']\n",
    "order_items_grouped_order_id[order_items_grouped_order_id['order_id']=='fa65dad1b0e818e3ccc5cb0e39231352']"
   ]
  },
  {
   "cell_type": "markdown",
   "metadata": {},
   "source": [
    "# 각 order_id로 그룹화한 price + payment_value = total_value"
   ]
  },
  {
   "cell_type": "code",
   "execution_count": 10,
   "metadata": {},
   "outputs": [],
   "source": [
    "value_grouped_df= pd.merge(order_items_grouped_order_id, payments_grouped_order_id, on= 'order_id', how= 'left')\n",
    "value_grouped_df\n",
    "\n",
    "value_grouped_df= value_grouped_df.drop(labels= 'payment_sequential', axis= 1)"
   ]
  },
  {
   "cell_type": "code",
   "execution_count": 11,
   "metadata": {},
   "outputs": [
    {
     "data": {
      "text/html": [
       "<div>\n",
       "<style scoped>\n",
       "    .dataframe tbody tr th:only-of-type {\n",
       "        vertical-align: middle;\n",
       "    }\n",
       "\n",
       "    .dataframe tbody tr th {\n",
       "        vertical-align: top;\n",
       "    }\n",
       "\n",
       "    .dataframe thead th {\n",
       "        text-align: right;\n",
       "    }\n",
       "</style>\n",
       "<table border=\"1\" class=\"dataframe\">\n",
       "  <thead>\n",
       "    <tr style=\"text-align: right;\">\n",
       "      <th></th>\n",
       "      <th>order_id</th>\n",
       "      <th>price</th>\n",
       "      <th>shipping_charges</th>\n",
       "      <th>payment_value</th>\n",
       "      <th>total_value</th>\n",
       "      <th>total_value_shipping</th>\n",
       "    </tr>\n",
       "  </thead>\n",
       "  <tbody>\n",
       "    <tr>\n",
       "      <th>0</th>\n",
       "      <td>00010242fe8c5a6d1ba2dd792cb16214</td>\n",
       "      <td>58.90</td>\n",
       "      <td>13.29</td>\n",
       "      <td>72.19</td>\n",
       "      <td>131.09</td>\n",
       "      <td>144.38</td>\n",
       "    </tr>\n",
       "    <tr>\n",
       "      <th>1</th>\n",
       "      <td>00018f77f2f0320c557190d7a144bdd3</td>\n",
       "      <td>239.90</td>\n",
       "      <td>19.93</td>\n",
       "      <td>259.83</td>\n",
       "      <td>499.73</td>\n",
       "      <td>519.66</td>\n",
       "    </tr>\n",
       "    <tr>\n",
       "      <th>2</th>\n",
       "      <td>000229ec398224ef6ca0657da4fc703e</td>\n",
       "      <td>199.00</td>\n",
       "      <td>17.87</td>\n",
       "      <td>216.87</td>\n",
       "      <td>415.87</td>\n",
       "      <td>433.74</td>\n",
       "    </tr>\n",
       "    <tr>\n",
       "      <th>3</th>\n",
       "      <td>00024acbcdf0a6daa1e931b038114c75</td>\n",
       "      <td>12.99</td>\n",
       "      <td>12.79</td>\n",
       "      <td>25.78</td>\n",
       "      <td>38.77</td>\n",
       "      <td>51.56</td>\n",
       "    </tr>\n",
       "    <tr>\n",
       "      <th>4</th>\n",
       "      <td>00042b26cf59d7ce69dfabb4e55b4fd9</td>\n",
       "      <td>199.90</td>\n",
       "      <td>18.14</td>\n",
       "      <td>218.04</td>\n",
       "      <td>417.94</td>\n",
       "      <td>436.08</td>\n",
       "    </tr>\n",
       "  </tbody>\n",
       "</table>\n",
       "</div>"
      ],
      "text/plain": [
       "                           order_id   price  shipping_charges  payment_value  \\\n",
       "0  00010242fe8c5a6d1ba2dd792cb16214   58.90             13.29          72.19   \n",
       "1  00018f77f2f0320c557190d7a144bdd3  239.90             19.93         259.83   \n",
       "2  000229ec398224ef6ca0657da4fc703e  199.00             17.87         216.87   \n",
       "3  00024acbcdf0a6daa1e931b038114c75   12.99             12.79          25.78   \n",
       "4  00042b26cf59d7ce69dfabb4e55b4fd9  199.90             18.14         218.04   \n",
       "\n",
       "   total_value  total_value_shipping  \n",
       "0       131.09                144.38  \n",
       "1       499.73                519.66  \n",
       "2       415.87                433.74  \n",
       "3        38.77                 51.56  \n",
       "4       417.94                436.08  "
      ]
     },
     "execution_count": 11,
     "metadata": {},
     "output_type": "execute_result"
    }
   ],
   "source": [
    "value_grouped_df['total_value']= value_grouped_df['price']+value_grouped_df['payment_value']\n",
    "value_grouped_df['total_value_shipping']= value_grouped_df['total_value']+value_grouped_df['shipping_charges']\n",
    "\n",
    "value_grouped_df.head()"
   ]
  },
  {
   "cell_type": "code",
   "execution_count": 12,
   "metadata": {},
   "outputs": [
    {
     "data": {
      "text/plain": [
       "order_id                0\n",
       "price                   0\n",
       "shipping_charges        0\n",
       "payment_value           1\n",
       "total_value             1\n",
       "total_value_shipping    1\n",
       "dtype: int64"
      ]
     },
     "execution_count": 12,
     "metadata": {},
     "output_type": "execute_result"
    }
   ],
   "source": [
    "value_grouped_df.isna().sum()\n",
    "# ....???"
   ]
  },
  {
   "cell_type": "code",
   "execution_count": 13,
   "metadata": {},
   "outputs": [
    {
     "data": {
      "text/plain": [
       "order_id                0\n",
       "price                   0\n",
       "shipping_charges        0\n",
       "payment_value           0\n",
       "total_value             0\n",
       "total_value_shipping    0\n",
       "dtype: int64"
      ]
     },
     "execution_count": 13,
     "metadata": {},
     "output_type": "execute_result"
    }
   ],
   "source": [
    "value_grouped_df= value_grouped_df[value_grouped_df['payment_value'].notna()]\n",
    "value_grouped_df= value_grouped_df[value_grouped_df['total_value'].notna()]\n",
    "value_grouped_df= value_grouped_df[value_grouped_df['total_value_shipping'].notna()]\n",
    "\n",
    "value_grouped_df.isna().sum()"
   ]
  },
  {
   "cell_type": "code",
   "execution_count": 14,
   "metadata": {},
   "outputs": [
    {
     "name": "stdout",
     "output_type": "stream",
     "text": [
      "<class 'pandas.core.frame.DataFrame'>\n",
      "Index: 98665 entries, 0 to 98665\n",
      "Data columns (total 6 columns):\n",
      " #   Column                Non-Null Count  Dtype  \n",
      "---  ------                --------------  -----  \n",
      " 0   order_id              98665 non-null  object \n",
      " 1   price                 98665 non-null  float64\n",
      " 2   shipping_charges      98665 non-null  float64\n",
      " 3   payment_value         98665 non-null  float64\n",
      " 4   total_value           98665 non-null  float64\n",
      " 5   total_value_shipping  98665 non-null  float64\n",
      "dtypes: float64(5), object(1)\n",
      "memory usage: 5.3+ MB\n"
     ]
    }
   ],
   "source": [
    "value_grouped_df.info()"
   ]
  },
  {
   "cell_type": "markdown",
   "metadata": {},
   "source": [
    "# 가격 변동 있는 데이터 있는지."
   ]
  },
  {
   "cell_type": "code",
   "execution_count": 15,
   "metadata": {},
   "outputs": [
    {
     "data": {
      "text/plain": [
       "price\n",
       "0.000000     8934\n",
       "7.071068      145\n",
       "3.535534       59\n",
       "14.142136      49\n",
       "0.707107       39\n",
       "             ... \n",
       "12.879510       1\n",
       "2.640502        1\n",
       "0.487463        1\n",
       "6.032856        1\n",
       "0.070711        1\n",
       "Name: count, Length: 4412, dtype: int64"
      ]
     },
     "execution_count": 15,
     "metadata": {},
     "output_type": "execute_result"
    }
   ],
   "source": [
    "# order_items_df: product_id price \n",
    "order_items_df_price= order_items_df.groupby('product_id').agg({\n",
    "    'price': 'std'\n",
    "}).reset_index()\n",
    "\n",
    "order_items_df_price['price'].value_counts()"
   ]
  },
  {
   "cell_type": "code",
   "execution_count": null,
   "metadata": {},
   "outputs": [],
   "source": []
  }
 ],
 "metadata": {
  "kernelspec": {
   "display_name": "base",
   "language": "python",
   "name": "python3"
  },
  "language_info": {
   "codemirror_mode": {
    "name": "ipython",
    "version": 3
   },
   "file_extension": ".py",
   "mimetype": "text/x-python",
   "name": "python",
   "nbconvert_exporter": "python",
   "pygments_lexer": "ipython3",
   "version": "3.12.4"
  }
 },
 "nbformat": 4,
 "nbformat_minor": 2
}
