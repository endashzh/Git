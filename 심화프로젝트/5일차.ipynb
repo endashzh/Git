{
 "cells": [
  {
   "cell_type": "markdown",
   "metadata": {},
   "source": [
    "# 공용처리"
   ]
  },
  {
   "cell_type": "code",
   "execution_count": 1,
   "metadata": {},
   "outputs": [],
   "source": [
    "## Retail_dataset.xlsx\n",
    "import sklearn as sklearn\n",
    "import numpy as np\n",
    "import pandas as pd\n",
    "import matplotlib.pyplot as plt\n",
    "import seaborn as sns\n",
    "from sklearn.metrics import accuracy_score, f1_score"
   ]
  },
  {
   "cell_type": "code",
   "execution_count": 2,
   "metadata": {},
   "outputs": [],
   "source": [
    "import platform\n",
    "\n",
    "def set_matplotlib_font():\n",
    "    system = platform.system()\n",
    "\n",
    "    if system == \"Windows\":\n",
    "        plt.rc('font', family='Malgun Gothic')\n",
    "    elif system == \"Darwin\":  # macOS\n",
    "        plt.rc('font', family='AppleGothic')\n",
    "    elif system == \"Linux\":\n",
    "        plt.rc('font', family='NanumGothic')\n",
    "    else:\n",
    "        print(\"Unknown system. Please set font manually.\")\n",
    "\n",
    "    plt.rcParams['axes.unicode_minus'] = False\n",
    "\n",
    "# 폰트 설정 함수 호출\n",
    "set_matplotlib_font()\n",
    "\n",
    "# 이후 평소대로 matplotlib 사용"
   ]
  },
  {
   "cell_type": "code",
   "execution_count": 3,
   "metadata": {},
   "outputs": [
    {
     "name": "stdout",
     "output_type": "stream",
     "text": [
      "compute.use_bottleneck : bool\n",
      "    Use the bottleneck library to accelerate if it is installed,\n",
      "    the default is True\n",
      "    Valid values: False,True\n",
      "    [default: True] [currently: True]\n",
      "compute.use_numba : bool\n",
      "    Use the numba engine option for select operations if it is installed,\n",
      "    the default is False\n",
      "    Valid values: False,True\n",
      "    [default: False] [currently: False]\n",
      "compute.use_numexpr : bool\n",
      "    Use the numexpr library to accelerate computation if it is installed,\n",
      "    the default is True\n",
      "    Valid values: False,True\n",
      "    [default: True] [currently: True]\n",
      "display.chop_threshold : float or None\n",
      "    if set to a float value, all float values smaller than the given threshold\n",
      "    will be displayed as exactly 0 by repr and friends.\n",
      "    [default: None] [currently: None]\n",
      "display.colheader_justify : 'left'/'right'\n",
      "    Controls the justification of column headers. used by DataFrameFormatter.\n",
      "    [default: right] [currently: right]\n",
      "display.date_dayfirst : boolean\n",
      "    When True, prints and parses dates with the day first, eg 20/01/2005\n",
      "    [default: False] [currently: False]\n",
      "display.date_yearfirst : boolean\n",
      "    When True, prints and parses dates with the year first, eg 2005/01/20\n",
      "    [default: False] [currently: False]\n",
      "display.encoding : str/unicode\n",
      "    Defaults to the detected encoding of the console.\n",
      "    Specifies the encoding to be used for strings returned by to_string,\n",
      "    these are generally strings meant to be displayed on the console.\n",
      "    [default: UTF-8] [currently: UTF-8]\n",
      "display.expand_frame_repr : boolean\n",
      "    Whether to print out the full DataFrame repr for wide DataFrames across\n",
      "    multiple lines, `max_columns` is still respected, but the output will\n",
      "    wrap-around across multiple \"pages\" if its width exceeds `display.width`.\n",
      "    [default: True] [currently: True]\n",
      "display.float_format : callable\n",
      "    The callable should accept a floating point number and return\n",
      "    a string with the desired format of the number. This is used\n",
      "    in some places like SeriesFormatter.\n",
      "    See formats.format.EngFormatter for an example.\n",
      "    [default: None] [currently: None]\n",
      "display.html.border : int\n",
      "    A ``border=value`` attribute is inserted in the ``<table>`` tag\n",
      "    for the DataFrame HTML repr.\n",
      "    [default: 1] [currently: 1]\n",
      "display.html.table_schema : boolean\n",
      "    Whether to publish a Table Schema representation for frontends\n",
      "    that support it.\n",
      "    (default: False)\n",
      "    [default: False] [currently: False]\n",
      "display.html.use_mathjax : boolean\n",
      "    When True, Jupyter notebook will process table contents using MathJax,\n",
      "    rendering mathematical expressions enclosed by the dollar symbol.\n",
      "    (default: True)\n",
      "    [default: True] [currently: True]\n",
      "display.large_repr : 'truncate'/'info'\n",
      "    For DataFrames exceeding max_rows/max_cols, the repr (and HTML repr) can\n",
      "    show a truncated table, or switch to the view from\n",
      "    df.info() (the behaviour in earlier versions of pandas).\n",
      "    [default: truncate] [currently: truncate]\n",
      "display.max_categories : int\n",
      "    This sets the maximum number of categories pandas should output when\n",
      "    printing out a `Categorical` or a Series of dtype \"category\".\n",
      "    [default: 8] [currently: 8]\n",
      "display.max_columns : int\n",
      "    If max_cols is exceeded, switch to truncate view. Depending on\n",
      "    `large_repr`, objects are either centrally truncated or printed as\n",
      "    a summary view. 'None' value means unlimited.\n",
      "\n",
      "    In case python/IPython is running in a terminal and `large_repr`\n",
      "    equals 'truncate' this can be set to 0 or None and pandas will auto-detect\n",
      "    the width of the terminal and print a truncated object which fits\n",
      "    the screen width. The IPython notebook, IPython qtconsole, or IDLE\n",
      "    do not run in a terminal and hence it is not possible to do\n",
      "    correct auto-detection and defaults to 20.\n",
      "    [default: 20] [currently: 20]\n",
      "display.max_colwidth : int or None\n",
      "    The maximum width in characters of a column in the repr of\n",
      "    a pandas data structure. When the column overflows, a \"...\"\n",
      "    placeholder is embedded in the output. A 'None' value means unlimited.\n",
      "    [default: 50] [currently: 50]\n",
      "display.max_dir_items : int\n",
      "    The number of items that will be added to `dir(...)`. 'None' value means\n",
      "    unlimited. Because dir is cached, changing this option will not immediately\n",
      "    affect already existing dataframes until a column is deleted or added.\n",
      "\n",
      "    This is for instance used to suggest columns from a dataframe to tab\n",
      "    completion.\n",
      "    [default: 100] [currently: 100]\n",
      "display.max_info_columns : int\n",
      "    max_info_columns is used in DataFrame.info method to decide if\n",
      "    per column information will be printed.\n",
      "    [default: 100] [currently: 100]\n",
      "display.max_info_rows : int\n",
      "    df.info() will usually show null-counts for each column.\n",
      "    For large frames this can be quite slow. max_info_rows and max_info_cols\n",
      "    limit this null check only to frames with smaller dimensions than\n",
      "    specified.\n",
      "    [default: 1690785] [currently: 1690785]\n",
      "display.max_rows : int\n",
      "    If max_rows is exceeded, switch to truncate view. Depending on\n",
      "    `large_repr`, objects are either centrally truncated or printed as\n",
      "    a summary view. 'None' value means unlimited.\n",
      "\n",
      "    In case python/IPython is running in a terminal and `large_repr`\n",
      "    equals 'truncate' this can be set to 0 and pandas will auto-detect\n",
      "    the height of the terminal and print a truncated object which fits\n",
      "    the screen height. The IPython notebook, IPython qtconsole, or\n",
      "    IDLE do not run in a terminal and hence it is not possible to do\n",
      "    correct auto-detection.\n",
      "    [default: 60] [currently: 60]\n",
      "display.max_seq_items : int or None\n",
      "    When pretty-printing a long sequence, no more then `max_seq_items`\n",
      "    will be printed. If items are omitted, they will be denoted by the\n",
      "    addition of \"...\" to the resulting string.\n",
      "\n",
      "    If set to None, the number of items to be printed is unlimited.\n",
      "    [default: 100] [currently: 100]\n",
      "display.memory_usage : bool, string or None\n",
      "    This specifies if the memory usage of a DataFrame should be displayed when\n",
      "    df.info() is called. Valid values True,False,'deep'\n",
      "    [default: True] [currently: True]\n",
      "display.min_rows : int\n",
      "    The numbers of rows to show in a truncated view (when `max_rows` is\n",
      "    exceeded). Ignored when `max_rows` is set to None or 0. When set to\n",
      "    None, follows the value of `max_rows`.\n",
      "    [default: 10] [currently: 10]\n",
      "display.multi_sparse : boolean\n",
      "    \"sparsify\" MultiIndex display (don't display repeated\n",
      "    elements in outer levels within groups)\n",
      "    [default: True] [currently: True]\n",
      "display.notebook_repr_html : boolean\n",
      "    When True, IPython notebook will use html representation for\n",
      "    pandas objects (if it is available).\n",
      "    [default: True] [currently: True]\n",
      "display.pprint_nest_depth : int\n",
      "    Controls the number of nested levels to process when pretty-printing\n",
      "    [default: 3] [currently: 3]\n",
      "display.precision : int\n",
      "    Floating point output precision in terms of number of places after the\n",
      "    decimal, for regular formatting as well as scientific notation. Similar\n",
      "    to ``precision`` in :meth:`numpy.set_printoptions`.\n",
      "    [default: 6] [currently: 6]\n",
      "display.show_dimensions : boolean or 'truncate'\n",
      "    Whether to print out dimensions at the end of DataFrame repr.\n",
      "    If 'truncate' is specified, only print out the dimensions if the\n",
      "    frame is truncated (e.g. not display all rows and/or columns)\n",
      "    [default: truncate] [currently: truncate]\n",
      "display.unicode.ambiguous_as_wide : boolean\n",
      "    Whether to use the Unicode East Asian Width to calculate the display text\n",
      "    width.\n",
      "    Enabling this may affect to the performance (default: False)\n",
      "    [default: False] [currently: False]\n",
      "display.unicode.east_asian_width : boolean\n",
      "    Whether to use the Unicode East Asian Width to calculate the display text\n",
      "    width.\n",
      "    Enabling this may affect to the performance (default: False)\n",
      "    [default: False] [currently: False]\n",
      "display.width : int\n",
      "    Width of the display in characters. In case python/IPython is running in\n",
      "    a terminal this can be set to None and pandas will correctly auto-detect\n",
      "    the width.\n",
      "    Note that the IPython notebook, IPython qtconsole, or IDLE do not run in a\n",
      "    terminal and hence it is not possible to correctly detect the width.\n",
      "    [default: 80] [currently: 80]\n",
      "future.infer_string Whether to infer sequence of str objects as pyarrow string dtype, which will be the default in pandas 3.0 (at which point this option will be deprecated).\n",
      "    [default: False] [currently: False]\n",
      "future.no_silent_downcasting Whether to opt-in to the future behavior which will *not* silently downcast results from Series and DataFrame `where`, `mask`, and `clip` methods. Silent downcasting will be removed in pandas 3.0 (at which point this option will be deprecated).\n",
      "    [default: False] [currently: False]\n",
      "io.excel.ods.reader : string\n",
      "    The default Excel reader engine for 'ods' files. Available options:\n",
      "    auto, odf, calamine.\n",
      "    [default: auto] [currently: auto]\n",
      "io.excel.ods.writer : string\n",
      "    The default Excel writer engine for 'ods' files. Available options:\n",
      "    auto, odf.\n",
      "    [default: auto] [currently: auto]\n",
      "io.excel.xls.reader : string\n",
      "    The default Excel reader engine for 'xls' files. Available options:\n",
      "    auto, xlrd, calamine.\n",
      "    [default: auto] [currently: auto]\n",
      "io.excel.xlsb.reader : string\n",
      "    The default Excel reader engine for 'xlsb' files. Available options:\n",
      "    auto, pyxlsb, calamine.\n",
      "    [default: auto] [currently: auto]\n",
      "io.excel.xlsm.reader : string\n",
      "    The default Excel reader engine for 'xlsm' files. Available options:\n",
      "    auto, xlrd, openpyxl, calamine.\n",
      "    [default: auto] [currently: auto]\n",
      "io.excel.xlsm.writer : string\n",
      "    The default Excel writer engine for 'xlsm' files. Available options:\n",
      "    auto, openpyxl.\n",
      "    [default: auto] [currently: auto]\n",
      "io.excel.xlsx.reader : string\n",
      "    The default Excel reader engine for 'xlsx' files. Available options:\n",
      "    auto, xlrd, openpyxl, calamine.\n",
      "    [default: auto] [currently: auto]\n",
      "io.excel.xlsx.writer : string\n",
      "    The default Excel writer engine for 'xlsx' files. Available options:\n",
      "    auto, openpyxl, xlsxwriter.\n",
      "    [default: auto] [currently: auto]\n",
      "io.hdf.default_format : format\n",
      "    default format writing format, if None, then\n",
      "    put will default to 'fixed' and append will default to 'table'\n",
      "    [default: None] [currently: None]\n",
      "io.hdf.dropna_table : boolean\n",
      "    drop ALL nan rows when appending to a table\n",
      "    [default: False] [currently: False]\n",
      "io.parquet.engine : string\n",
      "    The default parquet reader/writer engine. Available options:\n",
      "    'auto', 'pyarrow', 'fastparquet', the default is 'auto'\n",
      "    [default: auto] [currently: auto]\n",
      "io.sql.engine : string\n",
      "    The default sql reader/writer engine. Available options:\n",
      "    'auto', 'sqlalchemy', the default is 'auto'\n",
      "    [default: auto] [currently: auto]\n",
      "mode.chained_assignment : string\n",
      "    Raise an exception, warn, or no action if trying to use chained assignment,\n",
      "    The default is warn\n",
      "    [default: warn] [currently: warn]\n",
      "mode.copy_on_write : bool\n",
      "    Use new copy-view behaviour using Copy-on-Write. Defaults to False,\n",
      "    unless overridden by the 'PANDAS_COPY_ON_WRITE' environment variable\n",
      "    (if set to \"1\" for True, needs to be set before pandas is imported).\n",
      "    [default: False] [currently: False]\n",
      "mode.data_manager : string\n",
      "    Internal data manager type; can be \"block\" or \"array\". Defaults to \"block\",\n",
      "    unless overridden by the 'PANDAS_DATA_MANAGER' environment variable (needs\n",
      "    to be set before pandas is imported).\n",
      "    [default: block] [currently: block]\n",
      "    (Deprecated, use `` instead.)\n",
      "mode.sim_interactive : boolean\n",
      "    Whether to simulate interactive mode for purposes of testing\n",
      "    [default: False] [currently: False]\n",
      "mode.string_storage : string\n",
      "    The default storage for StringDtype. This option is ignored if\n",
      "    ``future.infer_string`` is set to True.\n",
      "    [default: python] [currently: python]\n",
      "mode.use_inf_as_na : boolean\n",
      "    True means treat None, NaN, INF, -INF as NA (old way),\n",
      "    False means None and NaN are null, but INF, -INF are not NA\n",
      "    (new way).\n",
      "\n",
      "    This option is deprecated in pandas 2.1.0 and will be removed in 3.0.\n",
      "    [default: False] [currently: False]\n",
      "    (Deprecated, use `` instead.)\n",
      "plotting.backend : str\n",
      "    The plotting backend to use. The default value is \"matplotlib\", the\n",
      "    backend provided with pandas. Other backends can be specified by\n",
      "    providing the name of the module that implements the backend.\n",
      "    [default: matplotlib] [currently: matplotlib]\n",
      "plotting.matplotlib.register_converters : bool or 'auto'.\n",
      "    Whether to register converters with matplotlib's units registry for\n",
      "    dates, times, datetimes, and Periods. Toggling to False will remove\n",
      "    the converters, restoring any converters that pandas overwrote.\n",
      "    [default: auto] [currently: auto]\n",
      "styler.format.decimal : str\n",
      "    The character representation for the decimal separator for floats and complex.\n",
      "    [default: .] [currently: .]\n",
      "styler.format.escape : str, optional\n",
      "    Whether to escape certain characters according to the given context; html or latex.\n",
      "    [default: None] [currently: None]\n",
      "styler.format.formatter : str, callable, dict, optional\n",
      "    A formatter object to be used as default within ``Styler.format``.\n",
      "    [default: None] [currently: None]\n",
      "styler.format.na_rep : str, optional\n",
      "    The string representation for values identified as missing.\n",
      "    [default: None] [currently: None]\n",
      "styler.format.precision : int\n",
      "    The precision for floats and complex numbers.\n",
      "    [default: 6] [currently: 6]\n",
      "styler.format.thousands : str, optional\n",
      "    The character representation for thousands separator for floats, int and complex.\n",
      "    [default: None] [currently: None]\n",
      "styler.html.mathjax : bool\n",
      "    If False will render special CSS classes to table attributes that indicate Mathjax\n",
      "    will not be used in Jupyter Notebook.\n",
      "    [default: True] [currently: True]\n",
      "styler.latex.environment : str\n",
      "    The environment to replace ``\\begin{table}``. If \"longtable\" is used results\n",
      "    in a specific longtable environment format.\n",
      "    [default: None] [currently: None]\n",
      "styler.latex.hrules : bool\n",
      "    Whether to add horizontal rules on top and bottom and below the headers.\n",
      "    [default: False] [currently: False]\n",
      "styler.latex.multicol_align : {\"r\", \"c\", \"l\", \"naive-l\", \"naive-r\"}\n",
      "    The specifier for horizontal alignment of sparsified LaTeX multicolumns. Pipe\n",
      "    decorators can also be added to non-naive values to draw vertical\n",
      "    rules, e.g. \"\\|r\" will draw a rule on the left side of right aligned merged cells.\n",
      "    [default: r] [currently: r]\n",
      "styler.latex.multirow_align : {\"c\", \"t\", \"b\"}\n",
      "    The specifier for vertical alignment of sparsified LaTeX multirows.\n",
      "    [default: c] [currently: c]\n",
      "styler.render.encoding : str\n",
      "    The encoding used for output HTML and LaTeX files.\n",
      "    [default: utf-8] [currently: utf-8]\n",
      "styler.render.max_columns : int, optional\n",
      "    The maximum number of columns that will be rendered. May still be reduced to\n",
      "    satisfy ``max_elements``, which takes precedence.\n",
      "    [default: None] [currently: None]\n",
      "styler.render.max_elements : int\n",
      "    The maximum number of data-cell (<td>) elements that will be rendered before\n",
      "    trimming will occur over columns, rows or both if needed.\n",
      "    [default: 262144] [currently: 262144]\n",
      "styler.render.max_rows : int, optional\n",
      "    The maximum number of rows that will be rendered. May still be reduced to\n",
      "    satisfy ``max_elements``, which takes precedence.\n",
      "    [default: None] [currently: None]\n",
      "styler.render.repr : str\n",
      "    Determine which output to use in Jupyter Notebook in {\"html\", \"latex\"}.\n",
      "    [default: html] [currently: html]\n",
      "styler.sparse.columns : bool\n",
      "    Whether to sparsify the display of hierarchical columns. Setting to False will\n",
      "    display each explicit level element in a hierarchical key for each column.\n",
      "    [default: True] [currently: True]\n",
      "styler.sparse.index : bool\n",
      "    Whether to sparsify the display of a hierarchical index. Setting to False will\n",
      "    display each explicit level element in a hierarchical key for each row.\n",
      "    [default: True] [currently: True]\n"
     ]
    }
   ],
   "source": [
    "pd.describe_option()\n",
    "pd.set_option('display.max_columns',None)\n",
    "pd.set_option('display.max_rows', None)"
   ]
  },
  {
   "cell_type": "markdown",
   "metadata": {},
   "source": [
    "- 컬럼 추가 우선, 컬럼 삭제는 merge 후 최종 단계에!\n",
    "- "
   ]
  },
  {
   "cell_type": "markdown",
   "metadata": {},
   "source": [
    "# 데이터 불러오기"
   ]
  },
  {
   "cell_type": "code",
   "execution_count": 4,
   "metadata": {},
   "outputs": [],
   "source": [
    "# retail_dataset = pd.read_excel(\"C:/Git/심화프로젝트/dataset/Retail_dataset.xlsx\", sheet_name=None)"
   ]
  },
  {
   "cell_type": "code",
   "execution_count": 5,
   "metadata": {},
   "outputs": [],
   "source": [
    "# !kaggle datasets download -d quangvinhhuynh/marketing-and-retail-analyst-e-comerce\n",
    "# import shutil\n",
    "# filename = 'marketing-and-retail-analyst-e-comerce.zip' # 압축 해제할 파일 이름\n",
    "# extrac_dir = 'dataset' # 압축 해제할 폴더 이름\n",
    "# archive_format = 'zip' # 압축 파일 형태\n",
    "# shutil.unpack_archive(filename, extrac_dir, archive_format)\n",
    "# import os\n",
    "# # 파일들이 있는 폴더명으로 폴더내 파일 목록 확인\n",
    "# os.listdir('dataset/') \n",
    "customers_df= pd.read_csv('dataset/customers.csv')\n",
    "orders_df= pd.read_csv('dataset/orders.csv')\n",
    "order_items_df= pd.read_csv('dataset/order_items.csv')\n",
    "payments_df= pd.read_csv('dataset/payments.csv')\n",
    "products_df= pd.read_csv('dataset/products.csv')"
   ]
  },
  {
   "cell_type": "code",
   "execution_count": 6,
   "metadata": {},
   "outputs": [],
   "source": [
    "# order_df = retail_dataset['orders']\n",
    "# order_items_df = retail_dataset['order_items']\n",
    "# customers_df = retail_dataset['customers']\n",
    "# payments_df = retail_dataset['payments']\n",
    "# products_df = retail_dataset['products']"
   ]
  },
  {
   "cell_type": "markdown",
   "metadata": {},
   "source": [
    "# 데이터 전처리"
   ]
  },
  {
   "cell_type": "markdown",
   "metadata": {},
   "source": [
    "## ID 형 변환 (int -> str)"
   ]
  },
  {
   "cell_type": "markdown",
   "metadata": {},
   "source": [
    "### order_items_df"
   ]
  },
  {
   "cell_type": "code",
   "execution_count": 7,
   "metadata": {},
   "outputs": [],
   "source": [
    "order_items_df['order_item_id'] = order_items_df['order_item_id'].astype(str)"
   ]
  },
  {
   "cell_type": "markdown",
   "metadata": {},
   "source": [
    "## product_df 결측치 처리"
   ]
  },
  {
   "cell_type": "code",
   "execution_count": 8,
   "metadata": {},
   "outputs": [],
   "source": [
    "#제품 크기에 대한 정보가 없는 레코드가 2개 -> 삭제 처리\n",
    "products_df= products_df[products_df['product_category_name'].notnull()]\n",
    "products_df= products_df[products_df['product_length_cm'].notnull()]"
   ]
  },
  {
   "cell_type": "markdown",
   "metadata": {},
   "source": [
    "## product_volume 추가"
   ]
  },
  {
   "cell_type": "code",
   "execution_count": 9,
   "metadata": {},
   "outputs": [],
   "source": [
    "products_df['product_volume'] = products_df['product_length_cm'] *  products_df['product_height_cm'] *  products_df['product_width_cm'] "
   ]
  },
  {
   "cell_type": "markdown",
   "metadata": {},
   "source": [
    "# 데이터 병합 진행"
   ]
  },
  {
   "cell_type": "code",
   "execution_count": 10,
   "metadata": {},
   "outputs": [],
   "source": [
    "retail_df_merged = pd.merge(orders_df, order_items_df, on='order_id', how='left')\n",
    "retail_df_merged = pd.merge(retail_df_merged, payments_df, on='order_id', how='left')\n",
    "retail_df_merged = pd.merge(retail_df_merged, customers_df, on='customer_id', how='right')\n",
    "retail_df_merged = pd.merge(retail_df_merged, products_df, on='product_id', how='right')"
   ]
  },
  {
   "cell_type": "code",
   "execution_count": 11,
   "metadata": {},
   "outputs": [
    {
     "name": "stdout",
     "output_type": "stream",
     "text": [
      "<class 'pandas.core.frame.DataFrame'>\n",
      "RangeIndex: 127097 entries, 0 to 127096\n",
      "Data columns (total 25 columns):\n",
      " #   Column                         Non-Null Count   Dtype  \n",
      "---  ------                         --------------   -----  \n",
      " 0   order_id                       127097 non-null  object \n",
      " 1   customer_id                    127097 non-null  object \n",
      " 2   order_status                   127097 non-null  object \n",
      " 3   order_purchase_timestamp       127097 non-null  object \n",
      " 4   order_approved_at              127081 non-null  object \n",
      " 5   order_delivered_timestamp      124354 non-null  object \n",
      " 6   order_estimated_delivery_date  127097 non-null  object \n",
      " 7   order_item_id                  127097 non-null  object \n",
      " 8   product_id                     127097 non-null  object \n",
      " 9   seller_id                      127097 non-null  object \n",
      " 10  price                          127097 non-null  float64\n",
      " 11  shipping_charges               127097 non-null  float64\n",
      " 12  payment_sequential             127094 non-null  float64\n",
      " 13  payment_type                   127094 non-null  object \n",
      " 14  payment_installments           127094 non-null  float64\n",
      " 15  payment_value                  127094 non-null  float64\n",
      " 16  customer_zip_code_prefix       127097 non-null  int64  \n",
      " 17  customer_city                  127097 non-null  object \n",
      " 18  customer_state                 127097 non-null  object \n",
      " 19  product_category_name          127097 non-null  object \n",
      " 20  product_weight_g               127097 non-null  float64\n",
      " 21  product_length_cm              127097 non-null  float64\n",
      " 22  product_height_cm              127097 non-null  float64\n",
      " 23  product_width_cm               127097 non-null  float64\n",
      " 24  product_volume                 127097 non-null  float64\n",
      "dtypes: float64(10), int64(1), object(14)\n",
      "memory usage: 24.2+ MB\n"
     ]
    }
   ],
   "source": [
    "retail_df_merged.info()"
   ]
  },
  {
   "cell_type": "markdown",
   "metadata": {},
   "source": [
    "# 불필요한 컬럼 삭제"
   ]
  },
  {
   "cell_type": "code",
   "execution_count": 12,
   "metadata": {},
   "outputs": [],
   "source": [
    "# delivered 만\n",
    "retail_df_merged = retail_df_merged[retail_df_merged['order_status']=='delivered']\n",
    "retail_df_merged = retail_df_merged[retail_df_merged['order_delivered_timestamp'].notnull()]\n",
    "retail_df_merged = retail_df_merged[retail_df_merged['order_approved_at'].notnull()]\n",
    "\n",
    "# 컬럼 삭제\n",
    "retail_df_merged= retail_df_merged.drop(labels= 'customer_zip_code_prefix', axis= 1)\n",
    "retail_df_merged= retail_df_merged.drop(labels= 'customer_city', axis= 1)\n",
    "retail_df_merged= retail_df_merged.drop(labels= 'order_estimated_delivery_date', axis= 1)\n",
    "retail_df_merged= retail_df_merged.drop(labels= 'order_delivered_timestamp', axis= 1)\n",
    "retail_df_merged= retail_df_merged.drop(labels= 'product_width_cm', axis= 1)\n",
    "retail_df_merged= retail_df_merged.drop(labels= 'product_height_cm', axis= 1)\n",
    "retail_df_merged= retail_df_merged.drop(labels= 'product_length_cm', axis= 1)\n"
   ]
  },
  {
   "cell_type": "markdown",
   "metadata": {},
   "source": [
    "## order - purchased_month"
   ]
  },
  {
   "cell_type": "code",
   "execution_count": 13,
   "metadata": {},
   "outputs": [
    {
     "data": {
      "text/plain": [
       "<Axes: xlabel='count', ylabel='payment_monthly'>"
      ]
     },
     "execution_count": 13,
     "metadata": {},
     "output_type": "execute_result"
    },
    {
     "data": {
      "image/png": "[encoded data removed]",
      "text/plain": [
       "<Figure size 640x480 with 1 Axes>"
      ]
     },
     "metadata": {},
     "output_type": "display_data"
    }
   ],
   "source": [
    "retail_df_merged['order_purchase_timestamp']= pd.to_datetime(retail_df_merged['order_purchase_timestamp'])\n",
    "retail_df_merged['order_purchase_timestamp'].dt.strftime('%Y-%m')\n",
    "retail_df_merged['payment_monthly']= retail_df_merged['order_purchase_timestamp'].dt.strftime('%Y-%m')\n",
    "retail_df_merged['payment_monthly']= pd.to_datetime(retail_df_merged['payment_monthly'])\n",
    "retail_df_merged['payment_monthly']= retail_df_merged['order_purchase_timestamp'].dt.to_period('M')\n",
    "\n",
    "sns.countplot(data= retail_df_merged, y= retail_df_merged['payment_monthly']\n",
    "              , order= sorted(retail_df_merged['payment_monthly']))"
   ]
  },
  {
   "cell_type": "markdown",
   "metadata": {},
   "source": [
    "## customer_state 원핫인코딩\n",
    "- 1200개 이상 값만\n",
    "\n",
    "SP 사람들만 군집화해도 됨. 룰..베이스 + 머신러닝 결합\n",
    "해보고나서 성능 안좋다싶으면 줄여도 ok"
   ]
  },
  {
   "cell_type": "code",
   "execution_count": 14,
   "metadata": {},
   "outputs": [],
   "source": [
    "# state_counts= retail_df_merged['customer_state'].value_counts()\n",
    "# state_above_1200= state_counts[state_counts>1200].index\n",
    "# retail_df_merged= retail_df_merged[retail_df_merged['customer_state'].isin(state_above_1200)]\n",
    "# retail_df_merged['customer_state'].value_counts()\n",
    "\n",
    "\n",
    "# from sklearn.preprocessing import OneHotEncoder\n",
    "# oe= OneHotEncoder(sparse_output=False) # 배열형태\n",
    "\n",
    "# oe.fit(retail_df_merged[['customer_state']])\n",
    "\n",
    "# state_csr = oe.transform(retail_df_merged[['customer_state']])\n",
    "# state_csr_df = pd.DataFrame(state_csr, columns= oe.get_feature_names_out())\n",
    "# # 배열형태로 했으니 toarray() 삭제\n",
    "\n",
    "# # state_csr_df 인덱스 초기화\n",
    "# state_csr_df.reset_index(drop= True, inplace= True)\n",
    "\n",
    "# retail_df_merged= pd.concat([retail_df_merged.reset_index(drop= True), state_csr_df], axis= 1)\n",
    "# retail_df_merged"
   ]
  },
  {
   "cell_type": "markdown",
   "metadata": {},
   "source": [
    "## payment_type 원핫인코딩"
   ]
  },
  {
   "cell_type": "code",
   "execution_count": 15,
   "metadata": {},
   "outputs": [
    {
     "data": {
      "text/html": [
       "<div>\n",
       "<style scoped>\n",
       "    .dataframe tbody tr th:only-of-type {\n",
       "        vertical-align: middle;\n",
       "    }\n",
       "\n",
       "    .dataframe tbody tr th {\n",
       "        vertical-align: top;\n",
       "    }\n",
       "\n",
       "    .dataframe thead th {\n",
       "        text-align: right;\n",
       "    }\n",
       "</style>\n",
       "<table border=\"1\" class=\"dataframe\">\n",
       "  <thead>\n",
       "    <tr style=\"text-align: right;\">\n",
       "      <th></th>\n",
       "      <th>order_id</th>\n",
       "      <th>customer_id</th>\n",
       "      <th>order_status</th>\n",
       "      <th>order_purchase_timestamp</th>\n",
       "      <th>order_approved_at</th>\n",
       "      <th>order_item_id</th>\n",
       "      <th>product_id</th>\n",
       "      <th>seller_id</th>\n",
       "      <th>price</th>\n",
       "      <th>shipping_charges</th>\n",
       "      <th>payment_sequential</th>\n",
       "      <th>payment_type</th>\n",
       "      <th>payment_installments</th>\n",
       "      <th>payment_value</th>\n",
       "      <th>customer_state</th>\n",
       "      <th>product_category_name</th>\n",
       "      <th>product_weight_g</th>\n",
       "      <th>product_volume</th>\n",
       "      <th>payment_monthly</th>\n",
       "      <th>payment_type_credit_card</th>\n",
       "      <th>payment_type_debit_card</th>\n",
       "      <th>payment_type_voucher</th>\n",
       "      <th>payment_type_wallet</th>\n",
       "    </tr>\n",
       "  </thead>\n",
       "  <tbody>\n",
       "    <tr>\n",
       "      <th>0</th>\n",
       "      <td>e17e4f88e31525f7deef66779844ddce</td>\n",
       "      <td>b1a1199364a4a7fe27c4486ab63f550d</td>\n",
       "      <td>delivered</td>\n",
       "      <td>2018-04-24 16:16:00</td>\n",
       "      <td>4/24/2018 19:04</td>\n",
       "      <td>1</td>\n",
       "      <td>1e9e8ef04dbcff4541ed26657ea517e5</td>\n",
       "      <td>5670f4db5b62c43d542e1b2d56b0cf7c</td>\n",
       "      <td>10.91</td>\n",
       "      <td>7.39</td>\n",
       "      <td>1.0</td>\n",
       "      <td>debit_card</td>\n",
       "      <td>1.0</td>\n",
       "      <td>18.30</td>\n",
       "      <td>SP</td>\n",
       "      <td>perfumery</td>\n",
       "      <td>225.0</td>\n",
       "      <td>2240.0</td>\n",
       "      <td>2018-04</td>\n",
       "      <td>0.0</td>\n",
       "      <td>1.0</td>\n",
       "      <td>0.0</td>\n",
       "      <td>0.0</td>\n",
       "    </tr>\n",
       "    <tr>\n",
       "      <th>1</th>\n",
       "      <td>5236307716393b7114b53ee991f36956</td>\n",
       "      <td>4b86049cb99e4aa774031daa9cd18f18</td>\n",
       "      <td>delivered</td>\n",
       "      <td>2018-01-31 18:55:00</td>\n",
       "      <td>1/31/2018 19:11</td>\n",
       "      <td>1</td>\n",
       "      <td>3aa071139cb16b67ca9e5dea641aaa2f</td>\n",
       "      <td>b561927807645834b59ef0d16ba55a24</td>\n",
       "      <td>248.00</td>\n",
       "      <td>17.99</td>\n",
       "      <td>1.0</td>\n",
       "      <td>voucher</td>\n",
       "      <td>1.0</td>\n",
       "      <td>265.99</td>\n",
       "      <td>RJ</td>\n",
       "      <td>art</td>\n",
       "      <td>1000.0</td>\n",
       "      <td>10800.0</td>\n",
       "      <td>2018-01</td>\n",
       "      <td>0.0</td>\n",
       "      <td>0.0</td>\n",
       "      <td>1.0</td>\n",
       "      <td>0.0</td>\n",
       "    </tr>\n",
       "    <tr>\n",
       "      <th>2</th>\n",
       "      <td>01f66e58769f84129811d43eefd187fb</td>\n",
       "      <td>f63805d9c7edb84d92413af34b86a39c</td>\n",
       "      <td>delivered</td>\n",
       "      <td>2018-07-09 21:18:00</td>\n",
       "      <td>7/9/2018 21:30</td>\n",
       "      <td>1</td>\n",
       "      <td>96bd76ec8810374ed1b65e291975717f</td>\n",
       "      <td>7b07b3c7487f0ea825fc6df75abd658b</td>\n",
       "      <td>79.80</td>\n",
       "      <td>7.82</td>\n",
       "      <td>1.0</td>\n",
       "      <td>credit_card</td>\n",
       "      <td>1.0</td>\n",
       "      <td>87.62</td>\n",
       "      <td>SP</td>\n",
       "      <td>sports_leisure</td>\n",
       "      <td>154.0</td>\n",
       "      <td>2430.0</td>\n",
       "      <td>2018-07</td>\n",
       "      <td>1.0</td>\n",
       "      <td>0.0</td>\n",
       "      <td>0.0</td>\n",
       "      <td>0.0</td>\n",
       "    </tr>\n",
       "  </tbody>\n",
       "</table>\n",
       "</div>"
      ],
      "text/plain": [
       "                           order_id                       customer_id  \\\n",
       "0  e17e4f88e31525f7deef66779844ddce  b1a1199364a4a7fe27c4486ab63f550d   \n",
       "1  5236307716393b7114b53ee991f36956  4b86049cb99e4aa774031daa9cd18f18   \n",
       "2  01f66e58769f84129811d43eefd187fb  f63805d9c7edb84d92413af34b86a39c   \n",
       "\n",
       "  order_status order_purchase_timestamp order_approved_at order_item_id  \\\n",
       "0    delivered      2018-04-24 16:16:00   4/24/2018 19:04             1   \n",
       "1    delivered      2018-01-31 18:55:00   1/31/2018 19:11             1   \n",
       "2    delivered      2018-07-09 21:18:00    7/9/2018 21:30             1   \n",
       "\n",
       "                         product_id                         seller_id   price  \\\n",
       "0  1e9e8ef04dbcff4541ed26657ea517e5  5670f4db5b62c43d542e1b2d56b0cf7c   10.91   \n",
       "1  3aa071139cb16b67ca9e5dea641aaa2f  b561927807645834b59ef0d16ba55a24  248.00   \n",
       "2  96bd76ec8810374ed1b65e291975717f  7b07b3c7487f0ea825fc6df75abd658b   79.80   \n",
       "\n",
       "   shipping_charges  payment_sequential payment_type  payment_installments  \\\n",
       "0              7.39                 1.0   debit_card                   1.0   \n",
       "1             17.99                 1.0      voucher                   1.0   \n",
       "2              7.82                 1.0  credit_card                   1.0   \n",
       "\n",
       "   payment_value customer_state product_category_name  product_weight_g  \\\n",
       "0          18.30             SP             perfumery             225.0   \n",
       "1         265.99             RJ                   art            1000.0   \n",
       "2          87.62             SP        sports_leisure             154.0   \n",
       "\n",
       "   product_volume payment_monthly  payment_type_credit_card  \\\n",
       "0          2240.0         2018-04                       0.0   \n",
       "1         10800.0         2018-01                       0.0   \n",
       "2          2430.0         2018-07                       1.0   \n",
       "\n",
       "   payment_type_debit_card  payment_type_voucher  payment_type_wallet  \n",
       "0                      1.0                   0.0                  0.0  \n",
       "1                      0.0                   1.0                  0.0  \n",
       "2                      0.0                   0.0                  0.0  "
      ]
     },
     "execution_count": 15,
     "metadata": {},
     "output_type": "execute_result"
    }
   ],
   "source": [
    "from sklearn.preprocessing import OneHotEncoder\n",
    "oe= OneHotEncoder(sparse_output=False) # 배열형태\n",
    "\n",
    "retail_df_merged['payment_type'].value_counts()\n",
    "# not_defined        4개 지우고 원핫인코딩\n",
    "retail_df_merged['payment_type'].isna().sum()\n",
    "\n",
    "# not_defined 제외\n",
    "pay_type = retail_df_merged['payment_type'].value_counts()\n",
    "defined_payment = pay_type[pay_type.index != 'not_defined'].index\n",
    "retail_df_merged= retail_df_merged[retail_df_merged['payment_type'].isin(defined_payment)]\n",
    "retail_df_merged['payment_type'].value_counts()\n",
    "\n",
    "oe.fit(retail_df_merged[['payment_type']])\n",
    "payment_csr = oe.transform(retail_df_merged[['payment_type']])\n",
    "payment_csr_df = pd.DataFrame(payment_csr, columns= oe.get_feature_names_out())\n",
    "payment_csr_df.reset_index(drop= True, inplace= True)\n",
    "\n",
    "retail_df_merged= pd.concat([retail_df_merged.reset_index(drop= True), payment_csr_df], axis= 1)\n",
    "retail_df_merged.head(3)"
   ]
  },
  {
   "cell_type": "markdown",
   "metadata": {},
   "source": [
    "## category_name 분류하기"
   ]
  },
  {
   "cell_type": "code",
   "execution_count": 16,
   "metadata": {},
   "outputs": [],
   "source": [
    "# 'category_column'이 null이 아닌 데이터만 필터링\n",
    "filtered_df = retail_df_merged[retail_df_merged['product_category_name'].notna()]"
   ]
  },
  {
   "cell_type": "code",
   "execution_count": 17,
   "metadata": {},
   "outputs": [],
   "source": [
    "# 각 범주에 속하는 항목 리스트를 정의\n",
    "home_living = [\n",
    "    'housewares', 'furniture_decor', 'small_appliances', 'bed_bath_table',\n",
    "    'kitchen_dining_laundry_garden_furniture', 'home_comfort', 'furniture_living_room',\n",
    "    'home_appliances', 'home_appliances', 'home_construction', 'home_comfort',\n",
    "    'furniture_bedroom', 'furniture_mattress_and_upholstery', 'garden_tools',\n",
    "    'construction_tools_construction', 'construction_tools_safety', 'construction_tools_lights',\n",
    "    'costruction_tools_garden', 'costruction_tools','pet_shop','baby', 'diapers_and_hygiene', 'fashion_childrens_clothes', 'air_conditioning'\n",
    "]\n",
    "\n",
    "fashion_accessories = [\n",
    "    'fashion_underwear_beach', 'fashion_bags_accessories', 'fashion_shoes',\n",
    "    'fashion_sport', 'fashion_male_clothing', 'fashion_childrens_clothes',\n",
    "    'fashio_female_clothing', 'watches_gifts', 'luggage_accessories'\n",
    "]\n",
    "\n",
    "electronics_appliances = [\n",
    "    'electronics', 'telephony', 'computers_accessories', 'computers',\n",
    "    'tablets_printing_image', 'audio', 'small_appliances_home_oven_and_coffee',\n",
    "    'cine_photo', 'consoles_games', 'fixed_telephony'\n",
    "]\n",
    "\n",
    "hobbies_leisure = [\n",
    "    'sports_leisure', 'musical_instruments', 'party_supplies', 'christmas_supplies',\n",
    "    'art', 'arts_and_craftmanship', 'music', 'dvds_blu_ray', 'books_general_interest',\n",
    "    'books_technical', 'books_imported', 'flowers','auto','cool_stuff','health_beauty', 'perfumery'\n",
    "]\n",
    "\n",
    "baby_kids = ['toys']\n",
    "\n",
    "office_industry = [\n",
    "    'stationery', 'office_furniture', 'industry_commerce_and_business',\n",
    "    'agro_industry_and_commerce', 'signaling_and_security', 'security_and_services'\n",
    "]\n",
    "\n",
    "food_beverage = ['food', 'drinks', 'food_drink','cuisine','market_place']"
   ]
  },
  {
   "cell_type": "code",
   "execution_count": 18,
   "metadata": {},
   "outputs": [
    {
     "name": "stdout",
     "output_type": "stream",
     "text": [
      "집 관련 (Home & Living): 11374개\n",
      "패션 관련 (Fashion & Accessories): 2586개\n",
      "전자제품 및 기기 (Electronics & Appliances): 5038개\n",
      "취미 및 여가 (Hobbies & Leisure): 9506개\n",
      "아동 관련 (Baby & Kids): 93644개\n",
      "사무용품 및 산업 (Office & Industry): 1609개\n",
      "식품 및 음료 (Food & Beverage): 350개\n"
     ]
    }
   ],
   "source": [
    "# 각 범주의 갯수를 세는 함수\n",
    "def count_items_in_category(df, category_list):\n",
    "    return df[df['product_category_name'].isin(category_list)].shape[0]\n",
    "\n",
    "# 필터링된 데이터프레임을 사용하여 각 범주의 항목 수 계산\n",
    "home_living_count = count_items_in_category(retail_df_merged, home_living)\n",
    "fashion_accessories_count = count_items_in_category(retail_df_merged, fashion_accessories)\n",
    "electronics_appliances_count = count_items_in_category(retail_df_merged, electronics_appliances)\n",
    "hobbies_leisure_count = count_items_in_category(retail_df_merged, hobbies_leisure)\n",
    "baby_kids_count = count_items_in_category(retail_df_merged, baby_kids)\n",
    "office_industry_count = count_items_in_category(retail_df_merged, office_industry)\n",
    "food_beverage_count = count_items_in_category(retail_df_merged, food_beverage)\n",
    "\n",
    "\n",
    "# 결과 출력\n",
    "print(f\"집 관련 (Home & Living): {home_living_count}개\")\n",
    "print(f\"패션 관련 (Fashion & Accessories): {fashion_accessories_count}개\")\n",
    "print(f\"전자제품 및 기기 (Electronics & Appliances): {electronics_appliances_count}개\")\n",
    "print(f\"취미 및 여가 (Hobbies & Leisure): {hobbies_leisure_count}개\")\n",
    "print(f\"아동 관련 (Baby & Kids): {baby_kids_count}개\")\n",
    "print(f\"사무용품 및 산업 (Office & Industry): {office_industry_count}개\")\n",
    "print(f\"식품 및 음료 (Food & Beverage): {food_beverage_count}개\")\n"
   ]
  },
  {
   "cell_type": "markdown",
   "metadata": {},
   "source": [
    "#### 할부기간(단기/장기 나누기) : median 값 기준으로 나누기 , 레이블 인코딩 하기"
   ]
  },
  {
   "cell_type": "code",
   "execution_count": 19,
   "metadata": {},
   "outputs": [
    {
     "data": {
      "text/html": [
       "<div>\n",
       "<style scoped>\n",
       "    .dataframe tbody tr th:only-of-type {\n",
       "        vertical-align: middle;\n",
       "    }\n",
       "\n",
       "    .dataframe tbody tr th {\n",
       "        vertical-align: top;\n",
       "    }\n",
       "\n",
       "    .dataframe thead th {\n",
       "        text-align: right;\n",
       "    }\n",
       "</style>\n",
       "<table border=\"1\" class=\"dataframe\">\n",
       "  <thead>\n",
       "    <tr style=\"text-align: right;\">\n",
       "      <th></th>\n",
       "      <th>order_id</th>\n",
       "      <th>customer_id</th>\n",
       "      <th>order_status</th>\n",
       "      <th>order_purchase_timestamp</th>\n",
       "      <th>order_approved_at</th>\n",
       "      <th>order_item_id</th>\n",
       "      <th>product_id</th>\n",
       "      <th>seller_id</th>\n",
       "      <th>price</th>\n",
       "      <th>shipping_charges</th>\n",
       "      <th>payment_sequential</th>\n",
       "      <th>payment_type</th>\n",
       "      <th>payment_installments</th>\n",
       "      <th>payment_value</th>\n",
       "      <th>customer_state</th>\n",
       "      <th>product_category_name</th>\n",
       "      <th>product_weight_g</th>\n",
       "      <th>product_volume</th>\n",
       "      <th>payment_monthly</th>\n",
       "      <th>payment_type_credit_card</th>\n",
       "      <th>payment_type_debit_card</th>\n",
       "      <th>payment_type_voucher</th>\n",
       "      <th>payment_type_wallet</th>\n",
       "    </tr>\n",
       "  </thead>\n",
       "  <tbody>\n",
       "    <tr>\n",
       "      <th>0</th>\n",
       "      <td>e17e4f88e31525f7deef66779844ddce</td>\n",
       "      <td>b1a1199364a4a7fe27c4486ab63f550d</td>\n",
       "      <td>delivered</td>\n",
       "      <td>2018-04-24 16:16:00</td>\n",
       "      <td>4/24/2018 19:04</td>\n",
       "      <td>1</td>\n",
       "      <td>1e9e8ef04dbcff4541ed26657ea517e5</td>\n",
       "      <td>5670f4db5b62c43d542e1b2d56b0cf7c</td>\n",
       "      <td>10.91</td>\n",
       "      <td>7.39</td>\n",
       "      <td>1.0</td>\n",
       "      <td>debit_card</td>\n",
       "      <td>1.0</td>\n",
       "      <td>18.30</td>\n",
       "      <td>SP</td>\n",
       "      <td>perfumery</td>\n",
       "      <td>225.0</td>\n",
       "      <td>2240.0</td>\n",
       "      <td>2018-04</td>\n",
       "      <td>0.0</td>\n",
       "      <td>1.0</td>\n",
       "      <td>0.0</td>\n",
       "      <td>0.0</td>\n",
       "    </tr>\n",
       "    <tr>\n",
       "      <th>1</th>\n",
       "      <td>5236307716393b7114b53ee991f36956</td>\n",
       "      <td>4b86049cb99e4aa774031daa9cd18f18</td>\n",
       "      <td>delivered</td>\n",
       "      <td>2018-01-31 18:55:00</td>\n",
       "      <td>1/31/2018 19:11</td>\n",
       "      <td>1</td>\n",
       "      <td>3aa071139cb16b67ca9e5dea641aaa2f</td>\n",
       "      <td>b561927807645834b59ef0d16ba55a24</td>\n",
       "      <td>248.00</td>\n",
       "      <td>17.99</td>\n",
       "      <td>1.0</td>\n",
       "      <td>voucher</td>\n",
       "      <td>1.0</td>\n",
       "      <td>265.99</td>\n",
       "      <td>RJ</td>\n",
       "      <td>art</td>\n",
       "      <td>1000.0</td>\n",
       "      <td>10800.0</td>\n",
       "      <td>2018-01</td>\n",
       "      <td>0.0</td>\n",
       "      <td>0.0</td>\n",
       "      <td>1.0</td>\n",
       "      <td>0.0</td>\n",
       "    </tr>\n",
       "    <tr>\n",
       "      <th>2</th>\n",
       "      <td>01f66e58769f84129811d43eefd187fb</td>\n",
       "      <td>f63805d9c7edb84d92413af34b86a39c</td>\n",
       "      <td>delivered</td>\n",
       "      <td>2018-07-09 21:18:00</td>\n",
       "      <td>7/9/2018 21:30</td>\n",
       "      <td>1</td>\n",
       "      <td>96bd76ec8810374ed1b65e291975717f</td>\n",
       "      <td>7b07b3c7487f0ea825fc6df75abd658b</td>\n",
       "      <td>79.80</td>\n",
       "      <td>7.82</td>\n",
       "      <td>1.0</td>\n",
       "      <td>credit_card</td>\n",
       "      <td>1.0</td>\n",
       "      <td>87.62</td>\n",
       "      <td>SP</td>\n",
       "      <td>sports_leisure</td>\n",
       "      <td>154.0</td>\n",
       "      <td>2430.0</td>\n",
       "      <td>2018-07</td>\n",
       "      <td>1.0</td>\n",
       "      <td>0.0</td>\n",
       "      <td>0.0</td>\n",
       "      <td>0.0</td>\n",
       "    </tr>\n",
       "  </tbody>\n",
       "</table>\n",
       "</div>"
      ],
      "text/plain": [
       "                           order_id                       customer_id  \\\n",
       "0  e17e4f88e31525f7deef66779844ddce  b1a1199364a4a7fe27c4486ab63f550d   \n",
       "1  5236307716393b7114b53ee991f36956  4b86049cb99e4aa774031daa9cd18f18   \n",
       "2  01f66e58769f84129811d43eefd187fb  f63805d9c7edb84d92413af34b86a39c   \n",
       "\n",
       "  order_status order_purchase_timestamp order_approved_at order_item_id  \\\n",
       "0    delivered      2018-04-24 16:16:00   4/24/2018 19:04             1   \n",
       "1    delivered      2018-01-31 18:55:00   1/31/2018 19:11             1   \n",
       "2    delivered      2018-07-09 21:18:00    7/9/2018 21:30             1   \n",
       "\n",
       "                         product_id                         seller_id   price  \\\n",
       "0  1e9e8ef04dbcff4541ed26657ea517e5  5670f4db5b62c43d542e1b2d56b0cf7c   10.91   \n",
       "1  3aa071139cb16b67ca9e5dea641aaa2f  b561927807645834b59ef0d16ba55a24  248.00   \n",
       "2  96bd76ec8810374ed1b65e291975717f  7b07b3c7487f0ea825fc6df75abd658b   79.80   \n",
       "\n",
       "   shipping_charges  payment_sequential payment_type  payment_installments  \\\n",
       "0              7.39                 1.0   debit_card                   1.0   \n",
       "1             17.99                 1.0      voucher                   1.0   \n",
       "2              7.82                 1.0  credit_card                   1.0   \n",
       "\n",
       "   payment_value customer_state product_category_name  product_weight_g  \\\n",
       "0          18.30             SP             perfumery             225.0   \n",
       "1         265.99             RJ                   art            1000.0   \n",
       "2          87.62             SP        sports_leisure             154.0   \n",
       "\n",
       "   product_volume payment_monthly  payment_type_credit_card  \\\n",
       "0          2240.0         2018-04                       0.0   \n",
       "1         10800.0         2018-01                       0.0   \n",
       "2          2430.0         2018-07                       1.0   \n",
       "\n",
       "   payment_type_debit_card  payment_type_voucher  payment_type_wallet  \n",
       "0                      1.0                   0.0                  0.0  \n",
       "1                      0.0                   1.0                  0.0  \n",
       "2                      0.0                   0.0                  0.0  "
      ]
     },
     "execution_count": 19,
     "metadata": {},
     "output_type": "execute_result"
    }
   ],
   "source": [
    "# payment관련 컬럼들의 결측치 3개가 존재하는데 이거 모두 삭제해주기\n",
    "# 'payment_installments' 컬럼에서 결측치가 있는 행만 삭제\n",
    "retail_df_merged = retail_df_merged.dropna(subset=['payment_installments','payment_type','payment_value'])\n",
    "retail_df_merged.head(3)"
   ]
  },
  {
   "cell_type": "code",
   "execution_count": 20,
   "metadata": {},
   "outputs": [
    {
     "data": {
      "text/plain": [
       "2.0"
      ]
     },
     "execution_count": 20,
     "metadata": {},
     "output_type": "execute_result"
    }
   ],
   "source": [
    "# 중앙값 구하기\n",
    "payment_installments_median = retail_df_merged['payment_installments'].median()\n",
    "payment_installments_median "
   ]
  },
  {
   "cell_type": "code",
   "execution_count": 21,
   "metadata": {},
   "outputs": [],
   "source": [
    "# 단기와 장기로 나누기\n",
    "def classify_installments(installments, median):\n",
    "    if installments <= median:\n",
    "        return 'Short-Term'\n",
    "    else:\n",
    "        return 'Long-Term'\n",
    "    \n",
    "    \n",
    "retail_df_merged['payment_installments_category'] = retail_df_merged['payment_installments'].apply(lambda x: classify_installments(x, payment_installments_median))"
   ]
  },
  {
   "cell_type": "code",
   "execution_count": 22,
   "metadata": {},
   "outputs": [
    {
     "data": {
      "text/plain": [
       "payment_installments_category\n",
       "Short-Term    76117\n",
       "Long-Term     48211\n",
       "Name: count, dtype: int64"
      ]
     },
     "execution_count": 22,
     "metadata": {},
     "output_type": "execute_result"
    }
   ],
   "source": [
    "retail_df_merged['payment_installments_category'].value_counts()"
   ]
  },
  {
   "cell_type": "code",
   "execution_count": 23,
   "metadata": {},
   "outputs": [
    {
     "data": {
      "text/plain": [
       "payment_installments_category\n",
       "1    76117\n",
       "0    48211\n",
       "Name: count, dtype: int64"
      ]
     },
     "execution_count": 23,
     "metadata": {},
     "output_type": "execute_result"
    }
   ],
   "source": [
    "# 레이블 인코딩\n",
    "from sklearn.preprocessing import LabelEncoder\n",
    "label_encoder = LabelEncoder()\n",
    "retail_df_merged['payment_installments_category'] = label_encoder.fit_transform(retail_df_merged['payment_installments_category'])\n",
    "\n",
    "retail_df_merged['payment_installments_category'].value_counts() ## 1:단기 / 0: 장기"
   ]
  },
  {
   "cell_type": "code",
   "execution_count": 24,
   "metadata": {},
   "outputs": [
    {
     "data": {
      "text/plain": [
       "order_id                         0\n",
       "customer_id                      0\n",
       "order_status                     0\n",
       "order_purchase_timestamp         0\n",
       "order_approved_at                0\n",
       "order_item_id                    0\n",
       "product_id                       0\n",
       "seller_id                        0\n",
       "price                            0\n",
       "shipping_charges                 0\n",
       "payment_sequential               0\n",
       "payment_type                     0\n",
       "payment_installments             0\n",
       "payment_value                    0\n",
       "customer_state                   0\n",
       "product_category_name            0\n",
       "product_weight_g                 0\n",
       "product_volume                   0\n",
       "payment_monthly                  0\n",
       "payment_type_credit_card         0\n",
       "payment_type_debit_card          0\n",
       "payment_type_voucher             0\n",
       "payment_type_wallet              0\n",
       "payment_installments_category    0\n",
       "dtype: int64"
      ]
     },
     "execution_count": 24,
     "metadata": {},
     "output_type": "execute_result"
    }
   ],
   "source": [
    "retail_df_merged.isna().sum()\n",
    "# 결측치 존재 X 확인"
   ]
  },
  {
   "cell_type": "code",
   "execution_count": 25,
   "metadata": {},
   "outputs": [],
   "source": [
    "# 월별 매출 = month_value 컬럼 생성\n",
    "\n",
    "month_value= retail_df_merged.groupby('payment_monthly').payment_value.sum()\n",
    "month_value\n",
    "\n",
    "retail_df_merged['payment_monthly_sum']= retail_df_merged['payment_monthly'].map(month_value)"
   ]
  },
  {
   "cell_type": "code",
   "execution_count": 26,
   "metadata": {},
   "outputs": [
    {
     "data": {
      "text/plain": [
       "payment_monthly\n",
       "2016-10      64288.22\n",
       "2016-12         39.24\n",
       "2017-01     193772.21\n",
       "2017-02     337776.25\n",
       "2017-03     537697.94\n",
       "2017-04     484812.57\n",
       "2017-05     768889.21\n",
       "2017-06     638324.38\n",
       "2017-07     792862.63\n",
       "2017-08     919573.82\n",
       "2017-09    1070266.38\n",
       "2017-10    1081309.90\n",
       "2017-11    1675466.29\n",
       "2017-12    1097486.10\n",
       "2018-01    1469974.38\n",
       "2018-02    1431389.57\n",
       "2018-03    1540269.36\n",
       "2018-04    1573819.86\n",
       "2018-05    1582326.72\n",
       "2018-06    1352854.01\n",
       "2018-07    1391770.10\n",
       "2018-08    1348941.79\n",
       "Freq: M, Name: payment_value, dtype: float64"
      ]
     },
     "execution_count": 26,
     "metadata": {},
     "output_type": "execute_result"
    }
   ],
   "source": [
    "month_value"
   ]
  },
  {
   "cell_type": "code",
   "execution_count": 27,
   "metadata": {},
   "outputs": [
    {
     "name": "stdout",
     "output_type": "stream",
     "text": [
      "['perfumery' 'art' 'sports_leisure' 'baby' 'housewares'\n",
      " 'musical_instruments' 'cool_stuff' 'furniture_decor' 'home_appliances'\n",
      " 'toys' 'bed_bath_table' 'construction_tools_safety'\n",
      " 'computers_accessories' 'health_beauty' 'luggage_accessories'\n",
      " 'garden_tools' 'office_furniture' 'auto' 'electronics' 'fashion_shoes'\n",
      " 'telephony' 'stationery' 'fashion_bags_accessories' 'computers'\n",
      " 'home_construction' 'watches_gifts' 'construction_tools_construction'\n",
      " 'pet_shop' 'small_appliances' 'agro_industry_and_commerce'\n",
      " 'furniture_living_room' 'signaling_and_security' 'air_conditioning'\n",
      " 'consoles_games' 'books_general_interest' 'costruction_tools_tools'\n",
      " 'fashion_underwear_beach' 'fashion_male_clothing'\n",
      " 'kitchen_dining_laundry_garden_furniture'\n",
      " 'industry_commerce_and_business' 'fixed_telephony'\n",
      " 'construction_tools_lights' 'books_technical' 'home_appliances_2'\n",
      " 'party_supplies' 'drinks' 'market_place' 'la_cuisine'\n",
      " 'costruction_tools_garden' 'fashio_female_clothing' 'home_confort'\n",
      " 'audio' 'food_drink' 'music' 'food' 'tablets_printing_image'\n",
      " 'small_appliances_home_oven_and_coffee' 'fashion_sport'\n",
      " 'christmas_supplies' 'fashion_childrens_clothes' 'dvds_blu_ray'\n",
      " 'arts_and_craftmanship' 'books_imported' 'furniture_bedroom' 'cine_photo'\n",
      " 'diapers_and_hygiene' 'flowers' 'home_comfort_2' 'security_and_services'\n",
      " 'furniture_mattress_and_upholstery']\n"
     ]
    }
   ],
   "source": [
    "print(retail_df_merged['product_category_name'].unique())"
   ]
  },
  {
   "cell_type": "code",
   "execution_count": 28,
   "metadata": {},
   "outputs": [
    {
     "data": {
      "text/plain": [
       "<Axes: xlabel='payment_monthly', ylabel='payment_value'>"
      ]
     },
     "execution_count": 28,
     "metadata": {},
     "output_type": "execute_result"
    },
    {
     "data": {
      "image/png": "[encoded data removed]",
      "text/plain": [
       "<Figure size 640x480 with 1 Axes>"
      ]
     },
     "metadata": {},
     "output_type": "display_data"
    }
   ],
   "source": [
    "# day_sum 기준 그래프\n",
    "day_sum = pd.DataFrame(retail_df_merged.groupby('payment_monthly').payment_value.sum()).reset_index()\n",
    "\n",
    "plt.ticklabel_format(style='plain')\n",
    "sns.lineplot(data= day_sum, x=day_sum['payment_monthly'].astype(str)\n",
    "             ,y= day_sum['payment_value']\n",
    "              )"
   ]
  },
  {
   "cell_type": "markdown",
   "metadata": {},
   "source": [
    "# 최종 데이터프레임"
   ]
  },
  {
   "cell_type": "code",
   "execution_count": 29,
   "metadata": {},
   "outputs": [
    {
     "data": {
      "text/plain": [
       "Index(['order_id', 'customer_id', 'order_status', 'order_purchase_timestamp',\n",
       "       'order_approved_at', 'order_item_id', 'product_id', 'seller_id',\n",
       "       'price', 'shipping_charges', 'payment_sequential', 'payment_type',\n",
       "       'payment_installments', 'payment_value', 'customer_state',\n",
       "       'product_category_name', 'product_weight_g', 'product_volume',\n",
       "       'payment_monthly', 'payment_type_credit_card',\n",
       "       'payment_type_debit_card', 'payment_type_voucher',\n",
       "       'payment_type_wallet', 'payment_installments_category',\n",
       "       'payment_monthly_sum'],\n",
       "      dtype='object')"
      ]
     },
     "execution_count": 29,
     "metadata": {},
     "output_type": "execute_result"
    }
   ],
   "source": [
    "retail_df_merged.columns"
   ]
  },
  {
   "cell_type": "markdown",
   "metadata": {},
   "source": [
    "# 표준화"
   ]
  },
  {
   "cell_type": "code",
   "execution_count": 30,
   "metadata": {},
   "outputs": [],
   "source": [
    "from sklearn.preprocessing import StandardScaler\n",
    "sd_sc1 = StandardScaler()\n",
    "retail_df_merged['shipping_charges_sd_sc'] = sd_sc1.fit_transform(retail_df_merged[['shipping_charges']])\n",
    "sd_sc2 = StandardScaler()\n",
    "retail_df_merged['price_sd_sc'] = sd_sc1.fit_transform(retail_df_merged[['price']])\n",
    "sd_sc3 = StandardScaler()\n",
    "retail_df_merged['payment_value_sd_sc'] = sd_sc1.fit_transform(retail_df_merged[['payment_value']])\n",
    "sd_sc4 = StandardScaler()\n",
    "retail_df_merged['product_volume_sd_sc'] = sd_sc1.fit_transform(retail_df_merged[['product_volume']])"
   ]
  },
  {
   "cell_type": "markdown",
   "metadata": {},
   "source": [
    "# 빈도 인코딩\n",
    "- customer_state, payment_type, 카테고리 네임"
   ]
  },
  {
   "cell_type": "code",
   "execution_count": 31,
   "metadata": {},
   "outputs": [
    {
     "data": {
      "text/plain": [
       "Index(['order_id', 'customer_id', 'order_status', 'order_purchase_timestamp',\n",
       "       'order_approved_at', 'order_item_id', 'product_id', 'seller_id',\n",
       "       'price', 'shipping_charges', 'payment_sequential', 'payment_type',\n",
       "       'payment_installments', 'payment_value', 'customer_state',\n",
       "       'product_category_name', 'product_weight_g', 'product_volume',\n",
       "       'payment_monthly', 'payment_type_credit_card',\n",
       "       'payment_type_debit_card', 'payment_type_voucher',\n",
       "       'payment_type_wallet', 'payment_installments_category',\n",
       "       'payment_monthly_sum', 'shipping_charges_sd_sc', 'price_sd_sc',\n",
       "       'payment_value_sd_sc', 'product_volume_sd_sc'],\n",
       "      dtype='object')"
      ]
     },
     "execution_count": 31,
     "metadata": {},
     "output_type": "execute_result"
    }
   ],
   "source": [
    "retail_df_merged.columns"
   ]
  },
  {
   "cell_type": "code",
   "execution_count": 32,
   "metadata": {},
   "outputs": [
    {
     "data": {
      "text/plain": [
       "array(['SP', 'RJ', 'MG', 'BA', 'PI', 'RS', 'PE', 'SC', 'MT', 'AL', 'CE',\n",
       "       'ES', 'DF', 'TO', 'GO', 'PA', 'RN', 'PR', 'PB', 'SE', 'MS', 'MA',\n",
       "       'AM', 'AC', 'RO', 'AP', 'RR'], dtype=object)"
      ]
     },
     "execution_count": 32,
     "metadata": {},
     "output_type": "execute_result"
    }
   ],
   "source": [
    "retail_df_merged['customer_state'].unique()\n",
    "# 12"
   ]
  },
  {
   "cell_type": "code",
   "execution_count": 33,
   "metadata": {},
   "outputs": [],
   "source": [
    "# !pip install feature_engine"
   ]
  },
  {
   "cell_type": "code",
   "execution_count": 34,
   "metadata": {},
   "outputs": [],
   "source": [
    "retail_df_merged['customer_state_origin'] = retail_df_merged['customer_state']"
   ]
  },
  {
   "cell_type": "code",
   "execution_count": 35,
   "metadata": {},
   "outputs": [
    {
     "data": {
      "text/plain": [
       "{'customer_state': {'SP': 0.4238063831156296,\n",
       "  'RJ': 0.12956051734122642,\n",
       "  'MG': 0.11614439225275079,\n",
       "  'RS': 0.055948780644746156,\n",
       "  'PR': 0.05067241490251593,\n",
       "  'SC': 0.036355446882439996,\n",
       "  'BA': 0.03393443150376424,\n",
       "  'DF': 0.020735473907727946,\n",
       "  'GO': 0.02037352808699569,\n",
       "  'ES': 0.020164403835017053,\n",
       "  'PE': 0.016295605173412265,\n",
       "  'CE': 0.012507238916414646,\n",
       "  'MT': 0.009281899491667203,\n",
       "  'PA': 0.009233640048902902,\n",
       "  'MS': 0.00714239752911653,\n",
       "  'MA': 0.007126311048195097,\n",
       "  'PB': 0.005364841387298115,\n",
       "  'RN': 0.004697252429058619,\n",
       "  'PI': 0.004697252429058619,\n",
       "  'AL': 0.0037320635737726014,\n",
       "  'SE': 0.003329901550736761,\n",
       "  'TO': 0.002799047680329451,\n",
       "  'RO': 0.0026462261115758317,\n",
       "  'AM': 0.0015282156875361945,\n",
       "  'AC': 0.0008284537674538318,\n",
       "  'AP': 0.0006997619200823628,\n",
       "  'RR': 0.00039411878257512384}}"
      ]
     },
     "execution_count": 35,
     "metadata": {},
     "output_type": "execute_result"
    }
   ],
   "source": [
    "from feature_engine.encoding import CountFrequencyEncoder\n",
    "\n",
    "encoder= CountFrequencyEncoder(\n",
    "    encoding_method= 'count',\n",
    "    variables= 'customer_state')\n",
    "\n",
    "encoder.fit(retail_df_merged)\n",
    "\n",
    "encoder= CountFrequencyEncoder(\n",
    "    encoding_method= 'frequency',\n",
    "    variables= 'customer_state')\n",
    "\n",
    "encoder.fit(retail_df_merged)\n",
    "\n",
    "encoder.encoder_dict_\n"
   ]
  },
  {
   "cell_type": "code",
   "execution_count": 36,
   "metadata": {},
   "outputs": [],
   "source": [
    "retail_df_merged= encoder.fit_transform(retail_df_merged)"
   ]
  },
  {
   "cell_type": "code",
   "execution_count": 37,
   "metadata": {},
   "outputs": [
    {
     "data": {
      "text/plain": [
       "payment_type\n",
       "credit_card    91724\n",
       "wallet         24084\n",
       "voucher         6786\n",
       "debit_card      1734\n",
       "Name: count, dtype: int64"
      ]
     },
     "execution_count": 37,
     "metadata": {},
     "output_type": "execute_result"
    }
   ],
   "source": [
    "retail_df_merged['payment_type'].value_counts()"
   ]
  },
  {
   "cell_type": "markdown",
   "metadata": {},
   "source": [
    "# 클러스터링"
   ]
  },
  {
   "cell_type": "code",
   "execution_count": 38,
   "metadata": {},
   "outputs": [
    {
     "data": {
      "text/plain": [
       "<Axes: xlabel='product_volume', ylabel='payment_value'>"
      ]
     },
     "execution_count": 38,
     "metadata": {},
     "output_type": "execute_result"
    },
    {
     "data": {
      "image/png": "[encoded data removed]",
      "text/plain": [
       "<Figure size 640x480 with 1 Axes>"
      ]
     },
     "metadata": {},
     "output_type": "display_data"
    }
   ],
   "source": [
    "# K-Means Clustering\n",
    "# 인코딩 한 거 아직 안 넣음!\n",
    "continuous_col = ['price', 'shipping_charges', \n",
    "                  'payment_sequential', 'payment_installments', \n",
    "                  'payment_value', 'product_volume']\n",
    "\n",
    "from sklearn.cluster import KMeans\n",
    "kmeans = KMeans(n_clusters=4, random_state=42)\n",
    "kmeans.fit(retail_df_merged[continuous_col])\n",
    "kmeans_test_df = retail_df_merged.copy()\n",
    "kmeans_test_df['cluster'] = kmeans.labels_\n",
    "sns.scatterplot(data=kmeans_test_df,\n",
    "                x= 'product_volume',\n",
    "                y='payment_value',\n",
    "                hue='cluster',\n",
    "                palette='viridis'\n",
    "                )"
   ]
  },
  {
   "cell_type": "code",
   "execution_count": 39,
   "metadata": {},
   "outputs": [],
   "source": [
    "# 엘보우\n",
    "\n",
    "import matplotlib.pyplot as plt\n",
    "from sklearn.cluster import KMeans\n",
    "def elbow(X):\n",
    "    sse = [] # 군집 내 거리의 합\n",
    "    for i in range(1, 11):\n",
    "        km = KMeans(n_clusters=i, init='k-means++', random_state=42)\n",
    "        km.fit(X)\n",
    "        sse.append(km.inertia_)\n",
    "    plt.plot(range(1, 11), sse, marker='o')\n",
    "    plt.xlabel('클러스터 개수')\n",
    "    plt.ylabel('SSE')\n",
    "    plt.show()"
   ]
  },
  {
   "cell_type": "code",
   "execution_count": 40,
   "metadata": {},
   "outputs": [
    {
     "data": {
      "image/png": "[encoded data removed]",
      "text/plain": [
       "<Figure size 640x480 with 1 Axes>"
      ]
     },
     "metadata": {},
     "output_type": "display_data"
    }
   ],
   "source": [
    "elbow(kmeans_test_df[continuous_col])\n",
    "# 4개!!!"
   ]
  },
  {
   "cell_type": "code",
   "execution_count": 41,
   "metadata": {},
   "outputs": [
    {
     "data": {
      "image/png": "[encoded data removed]",
      "text/plain": [
       "<Figure size 1000x600 with 1 Axes>"
      ]
     },
     "metadata": {},
     "output_type": "display_data"
    }
   ],
   "source": [
    "import matplotlib.pyplot as plt\n",
    "from sklearn.mixture import GaussianMixture\n",
    "import numpy as np\n",
    "def gmm_elbow(X):\n",
    "    aic = []\n",
    "    bic = []\n",
    "    components = range(1,10)\n",
    "    for i in components:\n",
    "        gmm = GaussianMixture(n_components=i, random_state=0)\n",
    "        gmm.fit(X)\n",
    "        aic.append(gmm.aic(X))\n",
    "        bic.append(gmm.bic(X))\n",
    "    plt.figure(figsize=(10, 6))\n",
    "    plt.plot(components, aic, marker='o', linestyle='-', color='b', label='AIC')\n",
    "    plt.plot(components, bic, marker='o', linestyle='--', color='r', label='BIC')\n",
    "    plt.xlabel('클러스터 개수')\n",
    "    plt.ylabel('정보 기준 (AIC/BIC)')\n",
    "    plt.title('GMM 클러스터 개수에 따른 AIC/BIC 값')\n",
    "    plt.legend()\n",
    "    plt.grid(True)\n",
    "    plt.show()\n",
    "gmm_elbow(kmeans_test_df[continuous_col])\n"
   ]
  },
  {
   "cell_type": "markdown",
   "metadata": {},
   "source": [
    "# 표준화"
   ]
  },
  {
   "cell_type": "code",
   "execution_count": 42,
   "metadata": {},
   "outputs": [],
   "source": [
    "# 'price', 'shipping_charge', 'payment_value', 'product_volume' 표준화: \n",
    "# 이유: raw 데이터가 치우쳐져 있다. 이상치 존재."
   ]
  },
  {
   "cell_type": "code",
   "execution_count": 43,
   "metadata": {},
   "outputs": [],
   "source": [
    "from sklearn.preprocessing import StandardScaler\n",
    "sd_sc1 = StandardScaler()\n",
    "retail_df_merged['shipping_charges_sd_sc'] = sd_sc1.fit_transform(retail_df_merged[['shipping_charges']])\n",
    "sd_sc2 = StandardScaler()\n",
    "retail_df_merged['price_sd_sc'] = sd_sc1.fit_transform(retail_df_merged[['price']])\n",
    "sd_sc3 = StandardScaler()\n",
    "retail_df_merged['payment_value_sd_sc'] = sd_sc1.fit_transform(retail_df_merged[['payment_value']])\n",
    "sd_sc4 = StandardScaler()\n",
    "retail_df_merged['product_volume_sd_sc'] = sd_sc1.fit_transform(retail_df_merged[['product_volume']])"
   ]
  },
  {
   "cell_type": "markdown",
   "metadata": {},
   "source": [
    "# BERT 적용 전 전처리"
   ]
  },
  {
   "cell_type": "code",
   "execution_count": 44,
   "metadata": {},
   "outputs": [],
   "source": [
    "retail_df_merged['product_category_name'] = retail_df_merged['product_category_name'].replace('home_confort', 'home_comfort')\n",
    "retail_df_merged['product_category_name'] = retail_df_merged['product_category_name'].replace('costruction_tools_tools', 'costruction_tools')\n",
    "retail_df_merged['product_category_name'] = retail_df_merged['product_category_name'].replace('la_cuisine', 'cuisine')"
   ]
  },
  {
   "cell_type": "code",
   "execution_count": 45,
   "metadata": {},
   "outputs": [],
   "source": [
    "# 카테고리명 정리 함수\n",
    "def remove_suffix(item):\n",
    "    return item.replace('_2', '')\n",
    "retail_df_merged['product_category_name'] = retail_df_merged['product_category_name'].apply(remove_suffix)"
   ]
  },
  {
   "cell_type": "code",
   "execution_count": 46,
   "metadata": {},
   "outputs": [],
   "source": [
    "# origin 남겨두기\n",
    "retail_df_merged['product_category_name_origin'] = retail_df_merged['product_category_name']"
   ]
  },
  {
   "cell_type": "code",
   "execution_count": 47,
   "metadata": {},
   "outputs": [],
   "source": [
    "# 언더바, and 값으로 단어들 나누는 함수 정의\n",
    "def category_split(item):\n",
    "    and_split = item.split('and')\n",
    "    split_name = []\n",
    "    for part in and_split:\n",
    "        for word in part.split('_'):\n",
    "            if word:  # 빈 문자열이 아닐 경우에만 추가\n",
    "                split_name.append(word.strip())  # 공백 제거 후 추가\n",
    "    return split_name\n",
    "\n",
    "retail_df_merged['product_category_name']= retail_df_merged['product_category_name'].apply(category_split)"
   ]
  },
  {
   "cell_type": "code",
   "execution_count": 48,
   "metadata": {},
   "outputs": [],
   "source": [
    "category_list= {\"home_living\": home_living, \"fashion_accessories\": fashion_accessories, \"electronics_appliances\": electronics_appliances, \n",
    "                \"hobbies_leisure\": hobbies_leisure, \"baby_kids\": baby_kids, \"office_industry\": office_industry, \"food_beverage\": food_beverage}\n",
    "# dict 타입으로 변환. 키값:home_living, 밸류: 해당 값.\n",
    "\n",
    "def product_categorizing(product):\n",
    "    for key, value in category_list.items():\n",
    "        if product in value:\n",
    "            return key\n",
    "        \n",
    "retail_df_merged[\"product_category_name_cf_en\"] = retail_df_merged['product_category_name_origin'].apply(product_categorizing)\n"
   ]
  },
  {
   "cell_type": "markdown",
   "metadata": {},
   "source": [
    "# 빈도수 인코딩 (product_category)"
   ]
  },
  {
   "cell_type": "code",
   "execution_count": 49,
   "metadata": {},
   "outputs": [],
   "source": [
    "from feature_engine.encoding import CountFrequencyEncoder\n",
    "\n",
    "encoder= CountFrequencyEncoder(\n",
    "    encoding_method= 'count',\n",
    "    variables= 'product_category_name_cf_en')\n",
    "encoder.fit(retail_df_merged)\n",
    "\n",
    "encoder= CountFrequencyEncoder(\n",
    "    encoding_method= 'frequency',\n",
    "    variables= 'product_category_name_cf_en')\n",
    "encoder.fit(retail_df_merged)\n",
    "retail_df_merged= encoder.fit_transform(retail_df_merged)"
   ]
  },
  {
   "cell_type": "code",
   "execution_count": 50,
   "metadata": {},
   "outputs": [
    {
     "data": {
      "text/plain": [
       "0"
      ]
     },
     "execution_count": 50,
     "metadata": {},
     "output_type": "execute_result"
    }
   ],
   "source": [
    "retail_df_merged['product_category_name_cf_en'].isna().sum()\n",
    "## 흠흠흠흠흠\n"
   ]
  }
 ],
 "metadata": {
  "kernelspec": {
   "display_name": "Python 3",
   "language": "python",
   "name": "python3"
  },
  "language_info": {
   "codemirror_mode": {
    "name": "ipython",
    "version": 3
   },
   "file_extension": ".py",
   "mimetype": "text/x-python",
   "name": "python",
   "nbconvert_exporter": "python",
   "pygments_lexer": "ipython3",
   "version": "3.12.4"
  }
 },
 "nbformat": 4,
 "nbformat_minor": 2
}
