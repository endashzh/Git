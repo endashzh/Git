{
 "cells": [
  {
   "cell_type": "markdown",
   "metadata": {},
   "source": [
    ">우리가 놓치고 있는 중요한 고객의 패턴 확인  \n",
    "혹은 새로운 기준에 따라 유저 그룹화  \n",
    "특정 기준에 따라 군집화. 군집별 인사이트 도출 -> 서비스 반영에 대한 방향성 제시\n",
    "\n",
    "주제\n",
    "- 데이터셋 현황 파악\n",
    "- 다양한 조건(군집갯수, 컬럼갯수)을 통해 결과를 비교\n",
    "- 군집(클러스터)별로 유의미한 특징을 살펴보고 이를 시각화\n",
    "- 군집별 인사이트를 제시\n",
    "\n",
    "설명\n",
    "- 각 테이블을 결합하여, 클러스터링을 위한 하나의 데이터셋으로 \n",
    "- 이상치 처리 기법을 활용하거나, 특정 기준을 세워 이상치를 정의 하고 그 이유를 설명\n",
    "- 클러스터링시, 초기 군집의 갯수와 사용할 컬럼의 갯수는 python 머신러닝 라이브러리를 활용\n",
    "- 컬럼별 raw data 분포 시각화\n",
    "- 컬럼 간 상관계수를 히트맵 차트로 구현해주세요.  \n",
    "(유의미한 기준은 +0.6(양의 상관관계) 또는 -0.6(음의 상관관계)으로 판단해주시면 됩니다) \n",
    "\n",
    "선택사항\n",
    "- 필요하다면 파생변수를 생성\n",
    "- 표준화 방법을 여러가지 사용해보시고, 비교해주셔도 됩니다.\n",
    "- 범주형 데이터를 사용할 경우, 인코딩을 진행해주세요. 원-핫 인코딩/라벨인코딩 모두 사용해도 됩니다.  \n",
    "다만, 범주의 갯수가 많은 경우, 별도 세그멘테이션이 필요할 수 있겠습니다. 의미있는 기준을 세워주시고 그 값을 인코딩 진행해주세요.  \n",
    "(예시: 국가가 100개인 경우 육대륙으로 나누어 인코딩). 참고자료: https://nicola-ml.tistory.com/62#google_vignette   \n",
    "- 분석 결과를 한 눈에 파악할 수 있도록 datapane 으로 리포트를 구현\n"
   ]
  },
  {
   "cell_type": "markdown",
   "metadata": {},
   "source": [
    "# 데이터 불러오기"
   ]
  },
  {
   "cell_type": "code",
   "execution_count": 1,
   "metadata": {},
   "outputs": [],
   "source": [
    "# !kaggle datasets download -d quangvinhhuynh/marketing-and-retail-analyst-e-comerce"
   ]
  },
  {
   "cell_type": "code",
   "execution_count": 2,
   "metadata": {},
   "outputs": [],
   "source": [
    "# import shutil\n",
    "\n",
    "# filename = 'marketing-and-retail-analyst-e-comerce.zip' # 압축 해제할 파일 이름\n",
    "# extrac_dir = 'dataset' # 압축 해제할 폴더 이름\n",
    "# archive_format = 'zip' # 압축 파일 형태\n",
    "\n",
    "# shutil.unpack_archive(filename, extrac_dir, archive_format)\n",
    "\n",
    "# import os\n",
    "\n",
    "# # 파일들이 있는 폴더명으로 폴더내 파일 목록 확인\n",
    "# os.listdir('dataset/') "
   ]
  },
  {
   "cell_type": "markdown",
   "metadata": {},
   "source": [
    "# import"
   ]
  },
  {
   "cell_type": "code",
   "execution_count": 3,
   "metadata": {},
   "outputs": [],
   "source": [
    "import pandas as pd\n",
    "import seaborn as sns\n",
    "import matplotlib.pyplot as plt"
   ]
  },
  {
   "cell_type": "code",
   "execution_count": 4,
   "metadata": {},
   "outputs": [],
   "source": [
    "# dataset = pd.read_excel('데이터셋/Retail_dataset.xlsx', sheet_name = None)\n",
    "# dataset"
   ]
  },
  {
   "cell_type": "code",
   "execution_count": 5,
   "metadata": {},
   "outputs": [],
   "source": [
    "customers= pd.read_csv('dataset/customers.csv')\n",
    "orders= pd.read_csv('dataset/orders.csv')\n",
    "order_items= pd.read_csv('dataset/order_items.csv')\n",
    "payments= pd.read_csv('dataset/payments.csv')\n",
    "products= pd.read_csv('dataset/products.csv')"
   ]
  },
  {
   "cell_type": "markdown",
   "metadata": {},
   "source": [
    "customers 파악\n"
   ]
  },
  {
   "cell_type": "code",
   "execution_count": 6,
   "metadata": {},
   "outputs": [
    {
     "data": {
      "text/html": [
       "<div>\n",
       "<style scoped>\n",
       "    .dataframe tbody tr th:only-of-type {\n",
       "        vertical-align: middle;\n",
       "    }\n",
       "\n",
       "    .dataframe tbody tr th {\n",
       "        vertical-align: top;\n",
       "    }\n",
       "\n",
       "    .dataframe thead th {\n",
       "        text-align: right;\n",
       "    }\n",
       "</style>\n",
       "<table border=\"1\" class=\"dataframe\">\n",
       "  <thead>\n",
       "    <tr style=\"text-align: right;\">\n",
       "      <th></th>\n",
       "      <th>customer_id</th>\n",
       "      <th>customer_zip_code_prefix</th>\n",
       "      <th>customer_city</th>\n",
       "      <th>customer_state</th>\n",
       "    </tr>\n",
       "  </thead>\n",
       "  <tbody>\n",
       "    <tr>\n",
       "      <th>0</th>\n",
       "      <td>861eff4711a542e4b93843c6dd7febb0</td>\n",
       "      <td>14409</td>\n",
       "      <td>franca</td>\n",
       "      <td>SP</td>\n",
       "    </tr>\n",
       "    <tr>\n",
       "      <th>1</th>\n",
       "      <td>290c77bc529b7ac935b93aa66c333dc3</td>\n",
       "      <td>9790</td>\n",
       "      <td>sao bernardo do campo</td>\n",
       "      <td>SP</td>\n",
       "    </tr>\n",
       "    <tr>\n",
       "      <th>2</th>\n",
       "      <td>060e732b5b29e8181a18229c7b0b2b5e</td>\n",
       "      <td>1151</td>\n",
       "      <td>sao paulo</td>\n",
       "      <td>SP</td>\n",
       "    </tr>\n",
       "  </tbody>\n",
       "</table>\n",
       "</div>"
      ],
      "text/plain": [
       "                        customer_id  customer_zip_code_prefix  \\\n",
       "0  861eff4711a542e4b93843c6dd7febb0                     14409   \n",
       "1  290c77bc529b7ac935b93aa66c333dc3                      9790   \n",
       "2  060e732b5b29e8181a18229c7b0b2b5e                      1151   \n",
       "\n",
       "           customer_city customer_state  \n",
       "0                 franca             SP  \n",
       "1  sao bernardo do campo             SP  \n",
       "2              sao paulo             SP  "
      ]
     },
     "execution_count": 6,
     "metadata": {},
     "output_type": "execute_result"
    }
   ],
   "source": [
    "# customers = pd.read_excel('dataset/Retail_dataset.xlsx', sheet_name= 'customers')\n",
    "# customers.equals(customers_csv)\n",
    "# -- 결과 True 나옴\n",
    "customers.head(3)"
   ]
  },
  {
   "cell_type": "markdown",
   "metadata": {},
   "source": [
    "- customer_zip_code_prefix\n",
    ": 고객 우편번호 접두사\n",
    "- customer_city\n",
    ": 도시\n",
    "- customer_state\n",
    ": 주\n",
    "\n",
    "--> 브라질"
   ]
  },
  {
   "cell_type": "code",
   "execution_count": 7,
   "metadata": {},
   "outputs": [
    {
     "name": "stdout",
     "output_type": "stream",
     "text": [
      "<class 'pandas.core.frame.DataFrame'>\n",
      "RangeIndex: 99441 entries, 0 to 99440\n",
      "Data columns (total 4 columns):\n",
      " #   Column                    Non-Null Count  Dtype \n",
      "---  ------                    --------------  ----- \n",
      " 0   customer_id               99441 non-null  object\n",
      " 1   customer_zip_code_prefix  99441 non-null  int64 \n",
      " 2   customer_city             99441 non-null  object\n",
      " 3   customer_state            99441 non-null  object\n",
      "dtypes: int64(1), object(3)\n",
      "memory usage: 3.0+ MB\n"
     ]
    }
   ],
   "source": [
    "customers.info()"
   ]
  },
  {
   "cell_type": "code",
   "execution_count": 8,
   "metadata": {},
   "outputs": [
    {
     "data": {
      "text/plain": [
       "customer_zip_code_prefix\n",
       "22790    142\n",
       "24220    124\n",
       "22793    121\n",
       "24230    117\n",
       "22775    110\n",
       "        ... \n",
       "35698      1\n",
       "99370      1\n",
       "64808      1\n",
       "60876      1\n",
       "99043      1\n",
       "Name: count, Length: 14994, dtype: int64"
      ]
     },
     "execution_count": 8,
     "metadata": {},
     "output_type": "execute_result"
    }
   ],
   "source": [
    "customers['customer_zip_code_prefix'].value_counts()\n",
    "customers['customer_zip_code_prefix'].unique()\n",
    "customers['customer_zip_code_prefix'].nunique()\n",
    "customers['customer_zip_code_prefix'].value_counts()"
   ]
  },
  {
   "cell_type": "code",
   "execution_count": 9,
   "metadata": {},
   "outputs": [
    {
     "data": {
      "text/html": [
       "<div>\n",
       "<style scoped>\n",
       "    .dataframe tbody tr th:only-of-type {\n",
       "        vertical-align: middle;\n",
       "    }\n",
       "\n",
       "    .dataframe tbody tr th {\n",
       "        vertical-align: top;\n",
       "    }\n",
       "\n",
       "    .dataframe thead th {\n",
       "        text-align: right;\n",
       "    }\n",
       "</style>\n",
       "<table border=\"1\" class=\"dataframe\">\n",
       "  <thead>\n",
       "    <tr style=\"text-align: right;\">\n",
       "      <th></th>\n",
       "      <th>customer_id</th>\n",
       "      <th>customer_zip_code_prefix</th>\n",
       "      <th>customer_city</th>\n",
       "      <th>customer_state</th>\n",
       "    </tr>\n",
       "  </thead>\n",
       "  <tbody>\n",
       "    <tr>\n",
       "      <th>1</th>\n",
       "      <td>290c77bc529b7ac935b93aa66c333dc3</td>\n",
       "      <td>9790</td>\n",
       "      <td>sao bernardo do campo</td>\n",
       "      <td>SP</td>\n",
       "    </tr>\n",
       "    <tr>\n",
       "      <th>8375</th>\n",
       "      <td>d62a4aa312159ff0bb1266d53a891f47</td>\n",
       "      <td>9790</td>\n",
       "      <td>sao bernardo do campo</td>\n",
       "      <td>SP</td>\n",
       "    </tr>\n",
       "    <tr>\n",
       "      <th>14443</th>\n",
       "      <td>7fd9feb1225a53711abe04e7c2b1348d</td>\n",
       "      <td>9790</td>\n",
       "      <td>sao bernardo do campo</td>\n",
       "      <td>SP</td>\n",
       "    </tr>\n",
       "    <tr>\n",
       "      <th>15996</th>\n",
       "      <td>0a58eee37208a659eba0b9d8fbb373d4</td>\n",
       "      <td>9790</td>\n",
       "      <td>sao bernardo do campo</td>\n",
       "      <td>SP</td>\n",
       "    </tr>\n",
       "    <tr>\n",
       "      <th>18060</th>\n",
       "      <td>46d8cbad99a81795a10171a0db3a0def</td>\n",
       "      <td>9790</td>\n",
       "      <td>sao bernardo do campo</td>\n",
       "      <td>SP</td>\n",
       "    </tr>\n",
       "    <tr>\n",
       "      <th>19467</th>\n",
       "      <td>7fb1599a88a6b7d15f100b29908d25bd</td>\n",
       "      <td>9790</td>\n",
       "      <td>sao bernardo do campo</td>\n",
       "      <td>SP</td>\n",
       "    </tr>\n",
       "    <tr>\n",
       "      <th>20260</th>\n",
       "      <td>de0a38ba2aba5b3c8466302afe76508c</td>\n",
       "      <td>9790</td>\n",
       "      <td>sao bernardo do campo</td>\n",
       "      <td>SP</td>\n",
       "    </tr>\n",
       "    <tr>\n",
       "      <th>21405</th>\n",
       "      <td>83048e04387482dd32e70974b6f656b5</td>\n",
       "      <td>9790</td>\n",
       "      <td>sao bernardo do campo</td>\n",
       "      <td>SP</td>\n",
       "    </tr>\n",
       "    <tr>\n",
       "      <th>36126</th>\n",
       "      <td>5c4532e92c92ee3c58cd84d7eb15e0be</td>\n",
       "      <td>9790</td>\n",
       "      <td>sao bernardo do campo</td>\n",
       "      <td>SP</td>\n",
       "    </tr>\n",
       "    <tr>\n",
       "      <th>39257</th>\n",
       "      <td>07764275128858358b70ccccaa68d3a4</td>\n",
       "      <td>9790</td>\n",
       "      <td>sao bernardo do campo</td>\n",
       "      <td>SP</td>\n",
       "    </tr>\n",
       "    <tr>\n",
       "      <th>40717</th>\n",
       "      <td>0129d48dce554d95f641d01eaa88904a</td>\n",
       "      <td>9790</td>\n",
       "      <td>sao bernardo do campo</td>\n",
       "      <td>SP</td>\n",
       "    </tr>\n",
       "    <tr>\n",
       "      <th>47027</th>\n",
       "      <td>a36ee442cfdb8a3ffad0927508c4205e</td>\n",
       "      <td>9790</td>\n",
       "      <td>sao bernardo do campo</td>\n",
       "      <td>SP</td>\n",
       "    </tr>\n",
       "    <tr>\n",
       "      <th>54453</th>\n",
       "      <td>5397ad82386afca0aad93e8c247afb68</td>\n",
       "      <td>9790</td>\n",
       "      <td>sao bernardo do campo</td>\n",
       "      <td>SP</td>\n",
       "    </tr>\n",
       "    <tr>\n",
       "      <th>56354</th>\n",
       "      <td>41d46af955f5d04d7b0dcd7bab7736b6</td>\n",
       "      <td>9790</td>\n",
       "      <td>sao bernardo do campo</td>\n",
       "      <td>SP</td>\n",
       "    </tr>\n",
       "    <tr>\n",
       "      <th>69024</th>\n",
       "      <td>a069914e4670f00ee7d2e9d70584d1f7</td>\n",
       "      <td>9790</td>\n",
       "      <td>sao bernardo do campo</td>\n",
       "      <td>SP</td>\n",
       "    </tr>\n",
       "    <tr>\n",
       "      <th>71006</th>\n",
       "      <td>6ff2b31b4f80df6b9788d08a13de9ba0</td>\n",
       "      <td>9790</td>\n",
       "      <td>sao bernardo do campo</td>\n",
       "      <td>SP</td>\n",
       "    </tr>\n",
       "    <tr>\n",
       "      <th>72958</th>\n",
       "      <td>92bdba5468727361c12ee22b41ebaefc</td>\n",
       "      <td>9790</td>\n",
       "      <td>sao bernardo do campo</td>\n",
       "      <td>SP</td>\n",
       "    </tr>\n",
       "    <tr>\n",
       "      <th>78451</th>\n",
       "      <td>3f3e4f00e65a3ae4e3731cef10c91bb6</td>\n",
       "      <td>9790</td>\n",
       "      <td>sao bernardo do campo</td>\n",
       "      <td>SP</td>\n",
       "    </tr>\n",
       "    <tr>\n",
       "      <th>83649</th>\n",
       "      <td>ee4d047e8cf84484bdb439da5c3fd3f8</td>\n",
       "      <td>9790</td>\n",
       "      <td>sao bernardo do campo</td>\n",
       "      <td>SP</td>\n",
       "    </tr>\n",
       "  </tbody>\n",
       "</table>\n",
       "</div>"
      ],
      "text/plain": [
       "                            customer_id  customer_zip_code_prefix  \\\n",
       "1      290c77bc529b7ac935b93aa66c333dc3                      9790   \n",
       "8375   d62a4aa312159ff0bb1266d53a891f47                      9790   \n",
       "14443  7fd9feb1225a53711abe04e7c2b1348d                      9790   \n",
       "15996  0a58eee37208a659eba0b9d8fbb373d4                      9790   \n",
       "18060  46d8cbad99a81795a10171a0db3a0def                      9790   \n",
       "19467  7fb1599a88a6b7d15f100b29908d25bd                      9790   \n",
       "20260  de0a38ba2aba5b3c8466302afe76508c                      9790   \n",
       "21405  83048e04387482dd32e70974b6f656b5                      9790   \n",
       "36126  5c4532e92c92ee3c58cd84d7eb15e0be                      9790   \n",
       "39257  07764275128858358b70ccccaa68d3a4                      9790   \n",
       "40717  0129d48dce554d95f641d01eaa88904a                      9790   \n",
       "47027  a36ee442cfdb8a3ffad0927508c4205e                      9790   \n",
       "54453  5397ad82386afca0aad93e8c247afb68                      9790   \n",
       "56354  41d46af955f5d04d7b0dcd7bab7736b6                      9790   \n",
       "69024  a069914e4670f00ee7d2e9d70584d1f7                      9790   \n",
       "71006  6ff2b31b4f80df6b9788d08a13de9ba0                      9790   \n",
       "72958  92bdba5468727361c12ee22b41ebaefc                      9790   \n",
       "78451  3f3e4f00e65a3ae4e3731cef10c91bb6                      9790   \n",
       "83649  ee4d047e8cf84484bdb439da5c3fd3f8                      9790   \n",
       "\n",
       "               customer_city customer_state  \n",
       "1      sao bernardo do campo             SP  \n",
       "8375   sao bernardo do campo             SP  \n",
       "14443  sao bernardo do campo             SP  \n",
       "15996  sao bernardo do campo             SP  \n",
       "18060  sao bernardo do campo             SP  \n",
       "19467  sao bernardo do campo             SP  \n",
       "20260  sao bernardo do campo             SP  \n",
       "21405  sao bernardo do campo             SP  \n",
       "36126  sao bernardo do campo             SP  \n",
       "39257  sao bernardo do campo             SP  \n",
       "40717  sao bernardo do campo             SP  \n",
       "47027  sao bernardo do campo             SP  \n",
       "54453  sao bernardo do campo             SP  \n",
       "56354  sao bernardo do campo             SP  \n",
       "69024  sao bernardo do campo             SP  \n",
       "71006  sao bernardo do campo             SP  \n",
       "72958  sao bernardo do campo             SP  \n",
       "78451  sao bernardo do campo             SP  \n",
       "83649  sao bernardo do campo             SP  "
      ]
     },
     "execution_count": 9,
     "metadata": {},
     "output_type": "execute_result"
    }
   ],
   "source": [
    "customers[customers['customer_zip_code_prefix'] == 9790]\n",
    "# 우편번호를 알면 state를 알 수 있음 (우편번호 맨 앞자리로)"
   ]
  },
  {
   "cell_type": "code",
   "execution_count": 10,
   "metadata": {},
   "outputs": [
    {
     "data": {
      "text/plain": [
       "customer_city\n",
       "sao paulo            15540\n",
       "rio de janeiro        6882\n",
       "belo horizonte        2773\n",
       "brasilia              2131\n",
       "curitiba              1521\n",
       "                     ...  \n",
       "bequimao                 1\n",
       "andarai                  1\n",
       "vargem grande            1\n",
       "curvelandia              1\n",
       "eugenio de castro        1\n",
       "Name: count, Length: 4119, dtype: int64"
      ]
     },
     "execution_count": 10,
     "metadata": {},
     "output_type": "execute_result"
    }
   ],
   "source": [
    "customers['customer_city'].value_counts()"
   ]
  },
  {
   "cell_type": "code",
   "execution_count": 11,
   "metadata": {},
   "outputs": [
    {
     "data": {
      "text/plain": [
       "customer_state\n",
       "SP    41746\n",
       "RJ    12852\n",
       "MG    11635\n",
       "RS     5466\n",
       "PR     5045\n",
       "SC     3637\n",
       "BA     3380\n",
       "DF     2140\n",
       "ES     2033\n",
       "GO     2020\n",
       "PE     1652\n",
       "CE     1336\n",
       "PA      975\n",
       "MT      907\n",
       "MA      747\n",
       "MS      715\n",
       "PB      536\n",
       "PI      495\n",
       "RN      485\n",
       "AL      413\n",
       "SE      350\n",
       "TO      280\n",
       "RO      253\n",
       "AM      148\n",
       "AC       81\n",
       "AP       68\n",
       "RR       46\n",
       "Name: count, dtype: int64"
      ]
     },
     "execution_count": 11,
     "metadata": {},
     "output_type": "execute_result"
    }
   ],
   "source": [
    "customers['customer_state'].value_counts()\n",
    "customers['customer_state'].nunique() # 27개\n",
    "customers['customer_state'].value_counts()\n",
    "# 9만 9천개 가량의 데이터가 있는데 약 4만개가 상파울루"
   ]
  },
  {
   "cell_type": "markdown",
   "metadata": {},
   "source": [
    "-> 분석 시 state로 묶는 것이 좋을 것이라 예상됨. 비교적 간단한 값이라. "
   ]
  },
  {
   "cell_type": "markdown",
   "metadata": {},
   "source": [
    "관광지이거나 브라질내에서 유명한 장소 -- 1 2 3등이 전부 관광지?  \n",
    "+ 각 데이터 분포"
   ]
  },
  {
   "cell_type": "code",
   "execution_count": 12,
   "metadata": {},
   "outputs": [
    {
     "data": {
      "text/html": [
       "<div>\n",
       "<style scoped>\n",
       "    .dataframe tbody tr th:only-of-type {\n",
       "        vertical-align: middle;\n",
       "    }\n",
       "\n",
       "    .dataframe tbody tr th {\n",
       "        vertical-align: top;\n",
       "    }\n",
       "\n",
       "    .dataframe thead th {\n",
       "        text-align: right;\n",
       "    }\n",
       "</style>\n",
       "<table border=\"1\" class=\"dataframe\">\n",
       "  <thead>\n",
       "    <tr style=\"text-align: right;\">\n",
       "      <th></th>\n",
       "      <th>customer_id</th>\n",
       "      <th>customer_zip_code_prefix</th>\n",
       "      <th>customer_city</th>\n",
       "      <th>customer_state</th>\n",
       "    </tr>\n",
       "  </thead>\n",
       "  <tbody>\n",
       "    <tr>\n",
       "      <th>count</th>\n",
       "      <td>99441</td>\n",
       "      <td>99441.000000</td>\n",
       "      <td>99441</td>\n",
       "      <td>99441</td>\n",
       "    </tr>\n",
       "    <tr>\n",
       "      <th>unique</th>\n",
       "      <td>96096</td>\n",
       "      <td>NaN</td>\n",
       "      <td>4119</td>\n",
       "      <td>27</td>\n",
       "    </tr>\n",
       "    <tr>\n",
       "      <th>top</th>\n",
       "      <td>8d50f5eadf50201ccdcedfb9e2ac8455</td>\n",
       "      <td>NaN</td>\n",
       "      <td>sao paulo</td>\n",
       "      <td>SP</td>\n",
       "    </tr>\n",
       "    <tr>\n",
       "      <th>freq</th>\n",
       "      <td>17</td>\n",
       "      <td>NaN</td>\n",
       "      <td>15540</td>\n",
       "      <td>41746</td>\n",
       "    </tr>\n",
       "    <tr>\n",
       "      <th>mean</th>\n",
       "      <td>NaN</td>\n",
       "      <td>35137.474583</td>\n",
       "      <td>NaN</td>\n",
       "      <td>NaN</td>\n",
       "    </tr>\n",
       "    <tr>\n",
       "      <th>std</th>\n",
       "      <td>NaN</td>\n",
       "      <td>29797.938996</td>\n",
       "      <td>NaN</td>\n",
       "      <td>NaN</td>\n",
       "    </tr>\n",
       "    <tr>\n",
       "      <th>min</th>\n",
       "      <td>NaN</td>\n",
       "      <td>1003.000000</td>\n",
       "      <td>NaN</td>\n",
       "      <td>NaN</td>\n",
       "    </tr>\n",
       "    <tr>\n",
       "      <th>25%</th>\n",
       "      <td>NaN</td>\n",
       "      <td>11347.000000</td>\n",
       "      <td>NaN</td>\n",
       "      <td>NaN</td>\n",
       "    </tr>\n",
       "    <tr>\n",
       "      <th>50%</th>\n",
       "      <td>NaN</td>\n",
       "      <td>24416.000000</td>\n",
       "      <td>NaN</td>\n",
       "      <td>NaN</td>\n",
       "    </tr>\n",
       "    <tr>\n",
       "      <th>75%</th>\n",
       "      <td>NaN</td>\n",
       "      <td>58900.000000</td>\n",
       "      <td>NaN</td>\n",
       "      <td>NaN</td>\n",
       "    </tr>\n",
       "    <tr>\n",
       "      <th>max</th>\n",
       "      <td>NaN</td>\n",
       "      <td>99990.000000</td>\n",
       "      <td>NaN</td>\n",
       "      <td>NaN</td>\n",
       "    </tr>\n",
       "  </tbody>\n",
       "</table>\n",
       "</div>"
      ],
      "text/plain": [
       "                             customer_id  customer_zip_code_prefix  \\\n",
       "count                              99441              99441.000000   \n",
       "unique                             96096                       NaN   \n",
       "top     8d50f5eadf50201ccdcedfb9e2ac8455                       NaN   \n",
       "freq                                  17                       NaN   \n",
       "mean                                 NaN              35137.474583   \n",
       "std                                  NaN              29797.938996   \n",
       "min                                  NaN               1003.000000   \n",
       "25%                                  NaN              11347.000000   \n",
       "50%                                  NaN              24416.000000   \n",
       "75%                                  NaN              58900.000000   \n",
       "max                                  NaN              99990.000000   \n",
       "\n",
       "       customer_city customer_state  \n",
       "count          99441          99441  \n",
       "unique          4119             27  \n",
       "top        sao paulo             SP  \n",
       "freq           15540          41746  \n",
       "mean             NaN            NaN  \n",
       "std              NaN            NaN  \n",
       "min              NaN            NaN  \n",
       "25%              NaN            NaN  \n",
       "50%              NaN            NaN  \n",
       "75%              NaN            NaN  \n",
       "max              NaN            NaN  "
      ]
     },
     "execution_count": 12,
     "metadata": {},
     "output_type": "execute_result"
    }
   ],
   "source": [
    "customers.describe(include='all')"
   ]
  },
  {
   "cell_type": "code",
   "execution_count": 13,
   "metadata": {},
   "outputs": [
    {
     "data": {
      "text/plain": [
       "Index(['customer_id', 'customer_zip_code_prefix', 'customer_city',\n",
       "       'customer_state'],\n",
       "      dtype='object')"
      ]
     },
     "execution_count": 13,
     "metadata": {},
     "output_type": "execute_result"
    }
   ],
   "source": [
    "customers.columns"
   ]
  },
  {
   "cell_type": "code",
   "execution_count": 14,
   "metadata": {},
   "outputs": [
    {
     "data": {
      "text/plain": [
       "<Axes: ylabel='customer_zip_code_prefix'>"
      ]
     },
     "execution_count": 14,
     "metadata": {},
     "output_type": "execute_result"
    },
    {
     "data": {
      "image/png": "[encoded data removed]",
      "text/plain": [
       "<Figure size 640x480 with 1 Axes>"
      ]
     },
     "metadata": {},
     "output_type": "display_data"
    }
   ],
   "source": [
    "sns.boxplot(customers['customer_zip_code_prefix'])\n",
    "# 0nnnn: 상파울루(수도)\n",
    "# 1nnnn: 상파울루 주\n",
    "# 2nnnn: 리우데자네이루 & 에스피리투 산투\n",
    "# 3nnnn: 미나스 제라이스\n",
    "\n",
    "# 리우데자네이루: 브라질에서 두 번째로 큰 경제 규모. 브라질 인구의 8.2 거주\n",
    "# 에스피리투 산투: 국가의 주요 항구 중 일부 존재. 관광 명소\n",
    "# 미나스 제라이스: 브라질 내 GDP 3등. 금, 커피, 수력 발전소"
   ]
  },
  {
   "cell_type": "code",
   "execution_count": 15,
   "metadata": {},
   "outputs": [],
   "source": [
    "#sns.scatterplot(customers['customer_city'], alpha= 0.1)\n",
    "# 신기하당.. 근데 별로 상관없는 데이터! city 라서도 그렇고, x축은 데이터프레임 행 순서일 뿐"
   ]
  },
  {
   "cell_type": "code",
   "execution_count": 16,
   "metadata": {},
   "outputs": [
    {
     "data": {
      "text/plain": [
       "<Axes: ylabel='customer_state'>"
      ]
     },
     "execution_count": 16,
     "metadata": {},
     "output_type": "execute_result"
    },
    {
     "data": {
      "image/png": "[encoded data removed]",
      "text/plain": [
       "<Figure size 640x480 with 1 Axes>"
      ]
     },
     "metadata": {},
     "output_type": "display_data"
    }
   ],
   "source": [
    "sns.boxplot(customers['customer_state'])\n",
    "\n",
    "# SP: 상파울루 São Paulo\n",
    "# SC: 산타 카타리나 Santa Catarina\n",
    "# MG: 미나스 제라이스 Minas Gerais\n",
    "# PR: 파라나 Paraná\n",
    "# RJ: 리우데자네이루 Rio de Janeiro\n",
    "# RS: 히우그란지두술 Rio Grande do Sul"
   ]
  },
  {
   "cell_type": "code",
   "execution_count": 17,
   "metadata": {},
   "outputs": [
    {
     "data": {
      "text/plain": [
       "customer_state\n",
       "SP    41746\n",
       "RJ    12852\n",
       "MG    11635\n",
       "RS     5466\n",
       "PR     5045\n",
       "SC     3637\n",
       "Name: count, dtype: int64"
      ]
     },
     "execution_count": 17,
     "metadata": {},
     "output_type": "execute_result"
    }
   ],
   "source": [
    "customers['customer_state'].value_counts().head(6)"
   ]
  },
  {
   "cell_type": "markdown",
   "metadata": {},
   "source": [
    "명목형에 맞는 시각화"
   ]
  },
  {
   "cell_type": "code",
   "execution_count": 23,
   "metadata": {},
   "outputs": [
    {
     "data": {
      "text/plain": [
       "([<matplotlib.patches.Wedge at 0x1b692549e50>,\n",
       "  <matplotlib.patches.Wedge at 0x1b6924f6930>,\n",
       "  <matplotlib.patches.Wedge at 0x1b69254a540>,\n",
       "  <matplotlib.patches.Wedge at 0x1b69254aa50>,\n",
       "  <matplotlib.patches.Wedge at 0x1b69254b050>,\n",
       "  <matplotlib.patches.Wedge at 0x1b69254b620>,\n",
       "  <matplotlib.patches.Wedge at 0x1b69254bbf0>,\n",
       "  <matplotlib.patches.Wedge at 0x1b692550290>,\n",
       "  <matplotlib.patches.Wedge at 0x1b692550800>,\n",
       "  <matplotlib.patches.Wedge at 0x1b692550e00>,\n",
       "  <matplotlib.patches.Wedge at 0x1b692551400>,\n",
       "  <matplotlib.patches.Wedge at 0x1b6925519d0>,\n",
       "  <matplotlib.patches.Wedge at 0x1b692551fa0>,\n",
       "  <matplotlib.patches.Wedge at 0x1b6925525a0>,\n",
       "  <matplotlib.patches.Wedge at 0x1b692552ba0>,\n",
       "  <matplotlib.patches.Wedge at 0x1b6925531a0>,\n",
       "  <matplotlib.patches.Wedge at 0x1b692553740>,\n",
       "  <matplotlib.patches.Wedge at 0x1b692553ce0>,\n",
       "  <matplotlib.patches.Wedge at 0x1b69458c350>,\n",
       "  <matplotlib.patches.Wedge at 0x1b69458c8f0>,\n",
       "  <matplotlib.patches.Wedge at 0x1b69458ce60>,\n",
       "  <matplotlib.patches.Wedge at 0x1b69458d460>,\n",
       "  <matplotlib.patches.Wedge at 0x1b69458db20>,\n",
       "  <matplotlib.patches.Wedge at 0x1b69458e0f0>,\n",
       "  <matplotlib.patches.Wedge at 0x1b69458e6c0>,\n",
       "  <matplotlib.patches.Wedge at 0x1b69458ec90>,\n",
       "  <matplotlib.patches.Wedge at 0x1b69458f500>],\n",
       " [Text(0.2742057728919482, 1.0652751729542604, 'SP'),\n",
       "  Text(-1.0947390103737555, 0.1074546377123405, 'RJ'),\n",
       "  Text(-0.8582521080374302, -0.6880431084236709, 'MG'),\n",
       "  Text(-0.38211043352397644, -1.031499692967535, 'RS'),\n",
       "  Text(-0.024967038715228162, -1.0997166212155713, 'PR'),\n",
       "  Text(0.2738355154504174, -1.0653704099880024, 'SC'),\n",
       "  Text(0.5013810120500376, -0.979089924754453, 'BA'),\n",
       "  Text(0.6636563769401317, -0.877245811244886, 'DF'),\n",
       "  Text(0.7732148606721951, -0.7823929826089175, 'ES'),\n",
       "  Text(0.8667925401440212, -0.6772523107016141, 'GO'),\n",
       "  Text(0.9393569407893235, -0.572370979165544, 'PE'),\n",
       "  Text(0.9891254457406187, -0.4812804302986177, 'CE'),\n",
       "  Text(1.021597580612774, -0.4078460288958656, 'PA'),\n",
       "  Text(1.0440274336865478, -0.3464198575570992, 'MT'),\n",
       "  Text(1.0606960082553372, -0.29141718904552255, 'MA'),\n",
       "  Text(1.0730200601983397, -0.24213209289962268, 'MS'),\n",
       "  Text(1.081749250857177, -0.19954588011266033, 'PB'),\n",
       "  Text(1.0876739110057536, -0.16421164184505377, 'PI'),\n",
       "  Text(1.0922359418382241, -0.13046320307568543, 'RN'),\n",
       "  Text(1.095497177989632, -0.09942802933153629, 'AL'),\n",
       "  Text(1.0975754112843448, -0.07299463366578154, 'SE'),\n",
       "  Text(1.0988107587754345, -0.051136253278413875, 'TO'),\n",
       "  Text(1.099516014230796, -0.03262720414047303, 'RO'),\n",
       "  Text(1.0998411128807255, -0.01869562561903761, 'AM'),\n",
       "  Text(1.0999475856239023, -0.010738197248535324, 'AC'),\n",
       "  Text(1.0999859466122497, -0.005560328727075136, 'AP'),\n",
       "  Text(1.0999988383275983, -0.0015986487839742018, 'RR')],\n",
       " [Text(0.1495667852137899, 0.5810591852477783, '42.0%'),\n",
       "  Text(-0.5971303692947757, 0.058611620570367534, '12.9%'),\n",
       "  Text(-0.4681375134749619, -0.37529624095836595, '11.7%'),\n",
       "  Text(-0.20842387283125985, -0.56263619616411, '5.5%'),\n",
       "  Text(-0.013618384753760813, -0.599845429753948, '5.1%'),\n",
       "  Text(0.14936482660931855, -0.5811111327207286, '3.7%'),\n",
       "  Text(0.2734805520272932, -0.5340490498660652, '3.4%'),\n",
       "  Text(0.36199438742188994, -0.4784977152244832, '2.2%'),\n",
       "  Text(0.42175356036665185, -0.4267598086957732, '2.0%'),\n",
       "  Text(0.4727959309876479, -0.36941035129178945, '2.0%'),\n",
       "  Text(0.5123765131578127, -0.31220235227211485, '1.7%'),\n",
       "  Text(0.5395229704039738, -0.26251659834470054, '1.3%'),\n",
       "  Text(0.5572350439706039, -0.22246147030683575, '1.0%'),\n",
       "  Text(0.5694695092835715, -0.1889562859402359, '0.9%'),\n",
       "  Text(0.5785614590483656, -0.15895483038846683, '0.8%'),\n",
       "  Text(0.5852836691990944, -0.13207205067252145, '0.7%'),\n",
       "  Text(0.5900450459220966, -0.10884320733417835, '0.5%'),\n",
       "  Text(0.593276678730411, -0.0895699864609384, '0.5%'),\n",
       "  Text(0.5957650591844859, -0.07116174713219205, '0.5%'),\n",
       "  Text(0.597543915267072, -0.05423347054447433, '0.4%'),\n",
       "  Text(0.5986774970641879, -0.03981525472678993, '0.4%'),\n",
       "  Text(0.5993513229684188, -0.027892501788225745, '0.3%'),\n",
       "  Text(0.5997360077622523, -0.017796656803894376, '0.3%'),\n",
       "  Text(0.5999133342985775, -0.010197613974020513, '0.1%'),\n",
       "  Text(0.5999714103403102, -0.005857198499201085, '0.1%'),\n",
       "  Text(0.5999923345157725, -0.003032906578404619, '0.1%'),\n",
       "  Text(0.5999993663605081, -0.0008719902458041099, '0.0%')])"
      ]
     },
     "execution_count": 23,
     "metadata": {},
     "output_type": "execute_result"
    },
    {
     "data": {
      "image/png": "[encoded data removed]",
      "text/plain": [
       "<Figure size 640x480 with 1 Axes>"
      ]
     },
     "metadata": {},
     "output_type": "display_data"
    }
   ],
   "source": [
    "plt.pie(customers['customer_state'].value_counts()\n",
    "        , labels= customers['customer_state'].value_counts().index\n",
    "        , autopct = '%1.1f%%')"
   ]
  },
  {
   "cell_type": "markdown",
   "metadata": {},
   "source": [
    "10% 이상인 상위 3개"
   ]
  },
  {
   "cell_type": "code",
   "execution_count": 25,
   "metadata": {},
   "outputs": [
    {
     "data": {
      "text/plain": [
       "<Axes: xlabel='customer_state', ylabel='count'>"
      ]
     },
     "execution_count": 25,
     "metadata": {},
     "output_type": "execute_result"
    },
    {
     "data": {
      "image/png": "[encoded data removed]",
      "text/plain": [
       "<Figure size 640x480 with 1 Axes>"
      ]
     },
     "metadata": {},
     "output_type": "display_data"
    }
   ],
   "source": [
    "sns.countplot(data= customers, x= 'customer_state'\n",
    "              , order= customers['customer_state'].value_counts().index)"
   ]
  },
  {
   "cell_type": "code",
   "execution_count": null,
   "metadata": {},
   "outputs": [],
   "source": []
  }
 ],
 "metadata": {
  "kernelspec": {
   "display_name": "base",
   "language": "python",
   "name": "python3"
  },
  "language_info": {
   "codemirror_mode": {
    "name": "ipython",
    "version": 3
   },
   "file_extension": ".py",
   "mimetype": "text/x-python",
   "name": "python",
   "nbconvert_exporter": "python",
   "pygments_lexer": "ipython3",
   "version": "3.12.4"
  }
 },
 "nbformat": 4,
 "nbformat_minor": 2
}
