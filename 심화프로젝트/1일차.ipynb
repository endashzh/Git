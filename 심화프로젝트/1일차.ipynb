{
 "cells": [
  {
   "cell_type": "code",
   "execution_count": 1,
   "metadata": {},
   "outputs": [
    {
     "name": "stdout",
     "output_type": "stream",
     "text": [
      "Dataset URL: https://www.kaggle.com/datasets/quangvinhhuynh/marketing-and-retail-analyst-e-comerce\n",
      "License(s): apache-2.0\n",
      "Downloading marketing-and-retail-analyst-e-comerce.zip to c:\\Git\\심화프로젝트\n",
      "\n"
     ]
    },
    {
     "name": "stderr",
     "output_type": "stream",
     "text": [
      "\n",
      "  0%|          | 0.00/48.0M [00:00<?, ?B/s]\n",
      "  2%|▏         | 1.00M/48.0M [00:00<00:15, 3.25MB/s]\n",
      "  6%|▋         | 3.00M/48.0M [00:00<00:06, 6.97MB/s]\n",
      " 10%|█         | 5.00M/48.0M [00:00<00:05, 8.84MB/s]\n",
      " 15%|█▍        | 7.00M/48.0M [00:00<00:04, 9.90MB/s]\n",
      " 19%|█▉        | 9.00M/48.0M [00:01<00:03, 10.3MB/s]\n",
      " 23%|██▎       | 11.0M/48.0M [00:01<00:03, 10.1MB/s]\n",
      " 27%|██▋       | 13.0M/48.0M [00:01<00:03, 10.3MB/s]\n",
      " 31%|███▏      | 15.0M/48.0M [00:01<00:03, 10.7MB/s]\n",
      " 35%|███▌      | 17.0M/48.0M [00:01<00:03, 10.8MB/s]\n",
      " 40%|███▉      | 19.0M/48.0M [00:02<00:02, 11.0MB/s]\n",
      " 44%|████▍     | 21.0M/48.0M [00:02<00:02, 11.0MB/s]\n",
      " 48%|████▊     | 23.0M/48.0M [00:02<00:02, 11.3MB/s]\n",
      " 52%|█████▏    | 25.0M/48.0M [00:02<00:02, 11.4MB/s]\n",
      " 56%|█████▋    | 27.0M/48.0M [00:02<00:01, 11.2MB/s]\n",
      " 60%|██████    | 29.0M/48.0M [00:02<00:01, 11.4MB/s]\n",
      " 65%|██████▍   | 31.0M/48.0M [00:03<00:01, 11.4MB/s]\n",
      " 69%|██████▉   | 33.0M/48.0M [00:03<00:01, 11.5MB/s]\n",
      " 73%|███████▎  | 35.0M/48.0M [00:03<00:01, 11.6MB/s]\n",
      " 77%|███████▋  | 37.0M/48.0M [00:03<00:00, 11.5MB/s]\n",
      " 81%|████████▏ | 39.0M/48.0M [00:03<00:00, 11.6MB/s]\n",
      " 85%|████████▌ | 41.0M/48.0M [00:04<00:00, 11.6MB/s]\n",
      " 90%|████████▉ | 43.0M/48.0M [00:04<00:00, 11.7MB/s]\n",
      " 94%|█████████▍| 45.0M/48.0M [00:04<00:00, 11.7MB/s]\n",
      " 98%|█████████▊| 47.0M/48.0M [00:04<00:00, 11.8MB/s]\n",
      "100%|██████████| 48.0M/48.0M [00:04<00:00, 10.9MB/s]\n"
     ]
    }
   ],
   "source": [
    "!kaggle datasets download -d quangvinhhuynh/marketing-and-retail-analyst-e-comerce"
   ]
  },
  {
   "cell_type": "code",
   "execution_count": 2,
   "metadata": {},
   "outputs": [],
   "source": [
    "import shutil\n",
    "\n",
    "filename = 'marketing-and-retail-analyst-e-comerce.zip' # 압축 해제할 파일 이름\n",
    "extrac_dir = 'dataset' # 압축 해제할 폴더 이름\n",
    "archive_format = 'zip' # 압축 파일 형태\n",
    "\n",
    "shutil.unpack_archive(filename, extrac_dir, archive_format)\n",
    "\n",
    "import os\n",
    "\n",
    "# 파일들이 있는 폴더명으로 폴더내 파일 목록 확인\n",
    "os.listdir('dataset/') "
   ]
  },
  {
   "cell_type": "markdown",
   "metadata": {},
   "source": [
    "# import"
   ]
  },
  {
   "cell_type": "code",
   "execution_count": null,
   "metadata": {},
   "outputs": [],
   "source": [
    "import pandas as pd"
   ]
  },
  {
   "cell_type": "code",
   "execution_count": null,
   "metadata": {},
   "outputs": [],
   "source": [
    "# dataset = pd.read_excel('데이터셋/Retail_dataset.xlsx', sheet_name = None)\n",
    "# dataset"
   ]
  },
  {
   "cell_type": "code",
   "execution_count": null,
   "metadata": {},
   "outputs": [],
   "source": [
    "customers= pd.read_csv('dataset/customers.csv')\n",
    "orders= pd.read_csv('dataset/orders.csv')\n",
    "order_items= pd.read_csv('dataset/order_items.csv')\n",
    "payments= pd.read_csv('dataset/payments.csv')\n",
    "products= pd.read_csv('dataset/products.csv')"
   ]
  },
  {
   "cell_type": "markdown",
   "metadata": {},
   "source": [
    "PK 기준 concat\n",
    "- order_id\n",
    "- customer_id\n",
    "- product_id"
   ]
  },
  {
   "cell_type": "code",
   "execution_count": null,
   "metadata": {},
   "outputs": [
    {
     "name": "stdout",
     "output_type": "stream",
     "text": [
      "<class 'pandas.core.frame.DataFrame'>\n",
      "Index: 315977 entries, 0 to 103885\n",
      "Data columns (total 16 columns):\n",
      " #   Column                         Non-Null Count   Dtype  \n",
      "---  ------                         --------------   -----  \n",
      " 0   order_id                       315977 non-null  object \n",
      " 1   customer_id                    99441 non-null   object \n",
      " 2   order_status                   99441 non-null   object \n",
      " 3   order_purchase_timestamp       99441 non-null   object \n",
      " 4   order_approved_at              99281 non-null   object \n",
      " 5   order_delivered_timestamp      96476 non-null   object \n",
      " 6   order_estimated_delivery_date  99441 non-null   object \n",
      " 7   order_item_id                  112650 non-null  float64\n",
      " 8   product_id                     112650 non-null  object \n",
      " 9   seller_id                      112650 non-null  object \n",
      " 10  price                          112650 non-null  float64\n",
      " 11  shipping_charges               112650 non-null  float64\n",
      " 12  payment_sequential             103886 non-null  float64\n",
      " 13  payment_type                   103886 non-null  object \n",
      " 14  payment_installments           103886 non-null  float64\n",
      " 15  payment_value                  103886 non-null  float64\n",
      "dtypes: float64(6), object(10)\n",
      "memory usage: 41.0+ MB\n",
      "<class 'pandas.core.frame.DataFrame'>\n",
      "Index: 198882 entries, 0 to 99440\n",
      "Data columns (total 10 columns):\n",
      " #   Column                         Non-Null Count   Dtype  \n",
      "---  ------                         --------------   -----  \n",
      " 0   customer_id                    198882 non-null  object \n",
      " 1   customer_zip_code_prefix       99441 non-null   float64\n",
      " 2   customer_city                  99441 non-null   object \n",
      " 3   customer_state                 99441 non-null   object \n",
      " 4   order_id                       99441 non-null   object \n",
      " 5   order_status                   99441 non-null   object \n",
      " 6   order_purchase_timestamp       99441 non-null   object \n",
      " 7   order_approved_at              99281 non-null   object \n",
      " 8   order_delivered_timestamp      96476 non-null   object \n",
      " 9   order_estimated_delivery_date  99441 non-null   object \n",
      "dtypes: float64(1), object(9)\n",
      "memory usage: 16.7+ MB\n",
      "<class 'pandas.core.frame.DataFrame'>\n",
      "Index: 145601 entries, 0 to 32950\n",
      "Data columns (total 11 columns):\n",
      " #   Column                 Non-Null Count   Dtype  \n",
      "---  ------                 --------------   -----  \n",
      " 0   order_id               112650 non-null  object \n",
      " 1   order_item_id          112650 non-null  float64\n",
      " 2   product_id             145601 non-null  object \n",
      " 3   seller_id              112650 non-null  object \n",
      " 4   price                  112650 non-null  float64\n",
      " 5   shipping_charges       112650 non-null  float64\n",
      " 6   product_category_name  32781 non-null   object \n",
      " 7   product_weight_g       32949 non-null   float64\n",
      " 8   product_length_cm      32949 non-null   float64\n",
      " 9   product_height_cm      32949 non-null   float64\n",
      " 10  product_width_cm       32949 non-null   float64\n",
      "dtypes: float64(7), object(4)\n",
      "memory usage: 13.3+ MB\n"
     ]
    }
   ],
   "source": [
    "order_id = pd.concat([orders, order_items, payments])\n",
    "order_id.head(3)\n",
    "order_id.info()\n",
    "\n",
    "customer_id= pd.concat([customers, orders])\n",
    "customer_id.head(3)\n",
    "customer_id.info()\n",
    "\n",
    "product_id= pd.concat([order_items, products])\n",
    "product_id.head(3)\n",
    "product_id.info()\n"
   ]
  }
 ],
 "metadata": {
  "kernelspec": {
   "display_name": "base",
   "language": "python",
   "name": "python3"
  },
  "language_info": {
   "codemirror_mode": {
    "name": "ipython",
    "version": 3
   },
   "file_extension": ".py",
   "mimetype": "text/x-python",
   "name": "python",
   "nbconvert_exporter": "python",
   "pygments_lexer": "ipython3",
   "version": "3.12.4"
  }
 },
 "nbformat": 4,
 "nbformat_minor": 2
}
