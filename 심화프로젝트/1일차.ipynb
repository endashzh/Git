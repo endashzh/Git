{
 "cells": [
  {
   "cell_type": "code",
   "execution_count": 1,
   "metadata": {},
   "outputs": [
    {
     "name": "stdout",
     "output_type": "stream",
     "text": [
      "Dataset URL: https://www.kaggle.com/datasets/quangvinhhuynh/marketing-and-retail-analyst-e-comerce\n",
      "License(s): apache-2.0\n",
      "Downloading marketing-and-retail-analyst-e-comerce.zip to c:\\Git\\심화프로젝트\n",
      "\n"
     ]
    },
    {
     "name": "stderr",
     "output_type": "stream",
     "text": [
      "\n",
      "  0%|          | 0.00/48.0M [00:00<?, ?B/s]\n",
      "  2%|▏         | 1.00M/48.0M [00:00<00:15, 3.25MB/s]\n",
      "  6%|▋         | 3.00M/48.0M [00:00<00:06, 6.97MB/s]\n",
      " 10%|█         | 5.00M/48.0M [00:00<00:05, 8.84MB/s]\n",
      " 15%|█▍        | 7.00M/48.0M [00:00<00:04, 9.90MB/s]\n",
      " 19%|█▉        | 9.00M/48.0M [00:01<00:03, 10.3MB/s]\n",
      " 23%|██▎       | 11.0M/48.0M [00:01<00:03, 10.1MB/s]\n",
      " 27%|██▋       | 13.0M/48.0M [00:01<00:03, 10.3MB/s]\n",
      " 31%|███▏      | 15.0M/48.0M [00:01<00:03, 10.7MB/s]\n",
      " 35%|███▌      | 17.0M/48.0M [00:01<00:03, 10.8MB/s]\n",
      " 40%|███▉      | 19.0M/48.0M [00:02<00:02, 11.0MB/s]\n",
      " 44%|████▍     | 21.0M/48.0M [00:02<00:02, 11.0MB/s]\n",
      " 48%|████▊     | 23.0M/48.0M [00:02<00:02, 11.3MB/s]\n",
      " 52%|█████▏    | 25.0M/48.0M [00:02<00:02, 11.4MB/s]\n",
      " 56%|█████▋    | 27.0M/48.0M [00:02<00:01, 11.2MB/s]\n",
      " 60%|██████    | 29.0M/48.0M [00:02<00:01, 11.4MB/s]\n",
      " 65%|██████▍   | 31.0M/48.0M [00:03<00:01, 11.4MB/s]\n",
      " 69%|██████▉   | 33.0M/48.0M [00:03<00:01, 11.5MB/s]\n",
      " 73%|███████▎  | 35.0M/48.0M [00:03<00:01, 11.6MB/s]\n",
      " 77%|███████▋  | 37.0M/48.0M [00:03<00:00, 11.5MB/s]\n",
      " 81%|████████▏ | 39.0M/48.0M [00:03<00:00, 11.6MB/s]\n",
      " 85%|████████▌ | 41.0M/48.0M [00:04<00:00, 11.6MB/s]\n",
      " 90%|████████▉ | 43.0M/48.0M [00:04<00:00, 11.7MB/s]\n",
      " 94%|█████████▍| 45.0M/48.0M [00:04<00:00, 11.7MB/s]\n",
      " 98%|█████████▊| 47.0M/48.0M [00:04<00:00, 11.8MB/s]\n",
      "100%|██████████| 48.0M/48.0M [00:04<00:00, 10.9MB/s]\n"
     ]
    }
   ],
   "source": [
    "!kaggle datasets download -d quangvinhhuynh/marketing-and-retail-analyst-e-comerce"
   ]
  },
  {
   "cell_type": "code",
   "execution_count": 2,
   "metadata": {},
   "outputs": [],
   "source": [
    "import shutil\n",
    "\n",
    "filename = 'marketing-and-retail-analyst-e-comerce.zip' # 압축 해제할 파일 이름\n",
    "extrac_dir = '데이터셋' # 압축 해제할 폴더 이름\n",
    "archive_format = 'zip' # 압축 파일 형태\n",
    "\n",
    "shutil.unpack_archive(filename, extrac_dir, archive_format)"
   ]
  },
  {
   "cell_type": "code",
   "execution_count": 3,
   "metadata": {},
   "outputs": [
    {
     "data": {
      "text/plain": [
       "['capstone_data_cleaned.csv',\n",
       " 'customers.csv',\n",
       " 'orders.csv',\n",
       " 'order_items.csv',\n",
       " 'payments.csv',\n",
       " 'products.csv',\n",
       " 'Retail_dataset.xlsx']"
      ]
     },
     "execution_count": 3,
     "metadata": {},
     "output_type": "execute_result"
    }
   ],
   "source": [
    "import os\n",
    "\n",
    "os.listdir('데이터셋/')"
   ]
  },
  {
   "cell_type": "code",
   "execution_count": null,
   "metadata": {},
   "outputs": [],
   "source": []
  }
 ],
 "metadata": {
  "kernelspec": {
   "display_name": "base",
   "language": "python",
   "name": "python3"
  },
  "language_info": {
   "codemirror_mode": {
    "name": "ipython",
    "version": 3
   },
   "file_extension": ".py",
   "mimetype": "text/x-python",
   "name": "python",
   "nbconvert_exporter": "python",
   "pygments_lexer": "ipython3",
   "version": "3.12.4"
  }
 },
 "nbformat": 4,
 "nbformat_minor": 2
}
