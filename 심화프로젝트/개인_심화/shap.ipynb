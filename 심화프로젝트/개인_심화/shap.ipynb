{
 "cells": [
  {
   "cell_type": "code",
   "execution_count": 3,
   "metadata": {},
   "outputs": [],
   "source": [
    "import pandas as pd"
   ]
  },
  {
   "cell_type": "code",
   "execution_count": 4,
   "metadata": {},
   "outputs": [],
   "source": [
    "retail_df= pd.read_csv('C:/Git/심화프로젝트/개인_심화/retail_df_merged.csv')"
   ]
  },
  {
   "cell_type": "code",
   "execution_count": 3,
   "metadata": {},
   "outputs": [
    {
     "data": {
      "text/html": [
       "<div>\n",
       "<style scoped>\n",
       "    .dataframe tbody tr th:only-of-type {\n",
       "        vertical-align: middle;\n",
       "    }\n",
       "\n",
       "    .dataframe tbody tr th {\n",
       "        vertical-align: top;\n",
       "    }\n",
       "\n",
       "    .dataframe thead th {\n",
       "        text-align: right;\n",
       "    }\n",
       "</style>\n",
       "<table border=\"1\" class=\"dataframe\">\n",
       "  <thead>\n",
       "    <tr style=\"text-align: right;\">\n",
       "      <th></th>\n",
       "      <th>Unnamed: 0</th>\n",
       "      <th>order_id</th>\n",
       "      <th>payment_value</th>\n",
       "      <th>price</th>\n",
       "      <th>shipping_charges</th>\n",
       "      <th>customer_id</th>\n",
       "      <th>order_status</th>\n",
       "      <th>order_purchase_timestamp</th>\n",
       "      <th>order_approved_at</th>\n",
       "      <th>customer_state</th>\n",
       "      <th>...</th>\n",
       "      <th>payment_monthly_sum</th>\n",
       "      <th>shipping_charges_sd_sc</th>\n",
       "      <th>price_sd_sc</th>\n",
       "      <th>payment_value_sd_sc</th>\n",
       "      <th>product_volume_sd_sc</th>\n",
       "      <th>customer_state_origin</th>\n",
       "      <th>product_weight_g_sd_sc</th>\n",
       "      <th>product_category_name_origin</th>\n",
       "      <th>product_category_name_cf_en</th>\n",
       "      <th>Cluster</th>\n",
       "    </tr>\n",
       "  </thead>\n",
       "  <tbody>\n",
       "    <tr>\n",
       "      <th>0</th>\n",
       "      <td>5</td>\n",
       "      <td>000576fe39319847cbb9d288c5617fa6</td>\n",
       "      <td>880.75</td>\n",
       "      <td>810.00</td>\n",
       "      <td>70.75</td>\n",
       "      <td>fda4476abb6307ab3c415b7e6d026526</td>\n",
       "      <td>delivered</td>\n",
       "      <td>2018-07-04 12:08:00</td>\n",
       "      <td>7/5/2018 16:35</td>\n",
       "      <td>1.0</td>\n",
       "      <td>...</td>\n",
       "      <td>523548.49</td>\n",
       "      <td>2.267826</td>\n",
       "      <td>3.375529</td>\n",
       "      <td>3.417273</td>\n",
       "      <td>4.390055</td>\n",
       "      <td>SP</td>\n",
       "      <td>3.115111</td>\n",
       "      <td>garden_tools</td>\n",
       "      <td>0.400703</td>\n",
       "      <td>2</td>\n",
       "    </tr>\n",
       "    <tr>\n",
       "      <th>1</th>\n",
       "      <td>6</td>\n",
       "      <td>0005a1a1728c9d785b8e2b08b904576c</td>\n",
       "      <td>157.60</td>\n",
       "      <td>145.95</td>\n",
       "      <td>11.65</td>\n",
       "      <td>639d23421f5517f69d0c3d6e6564cf0e</td>\n",
       "      <td>delivered</td>\n",
       "      <td>2018-03-19 18:40:00</td>\n",
       "      <td>3/20/2018 18:35</td>\n",
       "      <td>1.0</td>\n",
       "      <td>...</td>\n",
       "      <td>620635.50</td>\n",
       "      <td>-0.430154</td>\n",
       "      <td>0.039638</td>\n",
       "      <td>-0.007256</td>\n",
       "      <td>-0.401498</td>\n",
       "      <td>SP</td>\n",
       "      <td>-0.010542</td>\n",
       "      <td>health_beauty</td>\n",
       "      <td>0.310035</td>\n",
       "      <td>0</td>\n",
       "    </tr>\n",
       "    <tr>\n",
       "      <th>2</th>\n",
       "      <td>10</td>\n",
       "      <td>0008288aa423d2a3f00fcb17cd7d8719</td>\n",
       "      <td>126.54</td>\n",
       "      <td>99.80</td>\n",
       "      <td>26.74</td>\n",
       "      <td>9e4159995424971423b98c4a8bc11529</td>\n",
       "      <td>delivered</td>\n",
       "      <td>2018-02-13 22:10:00</td>\n",
       "      <td>2/15/2018 3:55</td>\n",
       "      <td>1.0</td>\n",
       "      <td>...</td>\n",
       "      <td>572951.92</td>\n",
       "      <td>0.258721</td>\n",
       "      <td>-0.192199</td>\n",
       "      <td>-0.154343</td>\n",
       "      <td>0.197206</td>\n",
       "      <td>SP</td>\n",
       "      <td>-0.103213</td>\n",
       "      <td>garden_tools</td>\n",
       "      <td>0.400703</td>\n",
       "      <td>0</td>\n",
       "    </tr>\n",
       "    <tr>\n",
       "      <th>3</th>\n",
       "      <td>11</td>\n",
       "      <td>0008288aa423d2a3f00fcb17cd7d8719</td>\n",
       "      <td>126.54</td>\n",
       "      <td>99.80</td>\n",
       "      <td>26.74</td>\n",
       "      <td>9e4159995424971423b98c4a8bc11529</td>\n",
       "      <td>delivered</td>\n",
       "      <td>2018-02-13 22:10:00</td>\n",
       "      <td>2/15/2018 3:55</td>\n",
       "      <td>1.0</td>\n",
       "      <td>...</td>\n",
       "      <td>572951.92</td>\n",
       "      <td>0.258721</td>\n",
       "      <td>-0.192199</td>\n",
       "      <td>-0.154343</td>\n",
       "      <td>0.197206</td>\n",
       "      <td>SP</td>\n",
       "      <td>-0.103213</td>\n",
       "      <td>garden_tools</td>\n",
       "      <td>0.400703</td>\n",
       "      <td>0</td>\n",
       "    </tr>\n",
       "    <tr>\n",
       "      <th>4</th>\n",
       "      <td>14</td>\n",
       "      <td>000c3e6612759851cc3cbb4b83257986</td>\n",
       "      <td>112.71</td>\n",
       "      <td>99.00</td>\n",
       "      <td>13.71</td>\n",
       "      <td>f5f088001070650f9e9a8cd773621f35</td>\n",
       "      <td>delivered</td>\n",
       "      <td>2017-08-12 10:08:00</td>\n",
       "      <td>8/15/2017 3:35</td>\n",
       "      <td>1.0</td>\n",
       "      <td>...</td>\n",
       "      <td>329681.79</td>\n",
       "      <td>-0.336113</td>\n",
       "      <td>-0.196218</td>\n",
       "      <td>-0.219836</td>\n",
       "      <td>-0.472456</td>\n",
       "      <td>SP</td>\n",
       "      <td>-0.063497</td>\n",
       "      <td>sports_leisure</td>\n",
       "      <td>0.310035</td>\n",
       "      <td>0</td>\n",
       "    </tr>\n",
       "  </tbody>\n",
       "</table>\n",
       "<p>5 rows × 33 columns</p>\n",
       "</div>"
      ],
      "text/plain": [
       "   Unnamed: 0                          order_id  payment_value   price  \\\n",
       "0           5  000576fe39319847cbb9d288c5617fa6         880.75  810.00   \n",
       "1           6  0005a1a1728c9d785b8e2b08b904576c         157.60  145.95   \n",
       "2          10  0008288aa423d2a3f00fcb17cd7d8719         126.54   99.80   \n",
       "3          11  0008288aa423d2a3f00fcb17cd7d8719         126.54   99.80   \n",
       "4          14  000c3e6612759851cc3cbb4b83257986         112.71   99.00   \n",
       "\n",
       "   shipping_charges                       customer_id order_status  \\\n",
       "0             70.75  fda4476abb6307ab3c415b7e6d026526    delivered   \n",
       "1             11.65  639d23421f5517f69d0c3d6e6564cf0e    delivered   \n",
       "2             26.74  9e4159995424971423b98c4a8bc11529    delivered   \n",
       "3             26.74  9e4159995424971423b98c4a8bc11529    delivered   \n",
       "4             13.71  f5f088001070650f9e9a8cd773621f35    delivered   \n",
       "\n",
       "  order_purchase_timestamp order_approved_at  customer_state  ...  \\\n",
       "0      2018-07-04 12:08:00    7/5/2018 16:35             1.0  ...   \n",
       "1      2018-03-19 18:40:00   3/20/2018 18:35             1.0  ...   \n",
       "2      2018-02-13 22:10:00    2/15/2018 3:55             1.0  ...   \n",
       "3      2018-02-13 22:10:00    2/15/2018 3:55             1.0  ...   \n",
       "4      2017-08-12 10:08:00    8/15/2017 3:35             1.0  ...   \n",
       "\n",
       "   payment_monthly_sum shipping_charges_sd_sc  price_sd_sc  \\\n",
       "0            523548.49               2.267826     3.375529   \n",
       "1            620635.50              -0.430154     0.039638   \n",
       "2            572951.92               0.258721    -0.192199   \n",
       "3            572951.92               0.258721    -0.192199   \n",
       "4            329681.79              -0.336113    -0.196218   \n",
       "\n",
       "  payment_value_sd_sc product_volume_sd_sc  customer_state_origin  \\\n",
       "0            3.417273             4.390055                     SP   \n",
       "1           -0.007256            -0.401498                     SP   \n",
       "2           -0.154343             0.197206                     SP   \n",
       "3           -0.154343             0.197206                     SP   \n",
       "4           -0.219836            -0.472456                     SP   \n",
       "\n",
       "   product_weight_g_sd_sc product_category_name_origin  \\\n",
       "0                3.115111                 garden_tools   \n",
       "1               -0.010542                health_beauty   \n",
       "2               -0.103213                 garden_tools   \n",
       "3               -0.103213                 garden_tools   \n",
       "4               -0.063497               sports_leisure   \n",
       "\n",
       "   product_category_name_cf_en  Cluster  \n",
       "0                     0.400703        2  \n",
       "1                     0.310035        0  \n",
       "2                     0.400703        0  \n",
       "3                     0.400703        0  \n",
       "4                     0.310035        0  \n",
       "\n",
       "[5 rows x 33 columns]"
      ]
     },
     "execution_count": 3,
     "metadata": {},
     "output_type": "execute_result"
    }
   ],
   "source": [
    "retail_df.head()"
   ]
  },
  {
   "cell_type": "code",
   "execution_count": 4,
   "metadata": {},
   "outputs": [
    {
     "name": "stdout",
     "output_type": "stream",
     "text": [
      "<class 'pandas.core.frame.DataFrame'>\n",
      "RangeIndex: 12805 entries, 0 to 12804\n",
      "Data columns (total 33 columns):\n",
      " #   Column                         Non-Null Count  Dtype  \n",
      "---  ------                         --------------  -----  \n",
      " 0   Unnamed: 0                     12805 non-null  int64  \n",
      " 1   order_id                       12805 non-null  object \n",
      " 2   payment_value                  12805 non-null  float64\n",
      " 3   price                          12805 non-null  float64\n",
      " 4   shipping_charges               12805 non-null  float64\n",
      " 5   customer_id                    12805 non-null  object \n",
      " 6   order_status                   12805 non-null  object \n",
      " 7   order_purchase_timestamp       12805 non-null  object \n",
      " 8   order_approved_at              12805 non-null  object \n",
      " 9   customer_state                 12805 non-null  float64\n",
      " 10  payment_sequential             12805 non-null  int64  \n",
      " 11  payment_type                   12805 non-null  object \n",
      " 12  payment_installments           12805 non-null  int64  \n",
      " 13  product_id                     12805 non-null  object \n",
      " 14  product_category_name          12805 non-null  object \n",
      " 15  product_volume                 12805 non-null  float64\n",
      " 16  product_weight_g               12805 non-null  float64\n",
      " 17  payment_monthly                12805 non-null  object \n",
      " 18  payment_type_credit_card       12805 non-null  float64\n",
      " 19  payment_type_debit_card        12805 non-null  float64\n",
      " 20  payment_type_voucher           12805 non-null  float64\n",
      " 21  payment_type_wallet            12805 non-null  float64\n",
      " 22  payment_installments_category  12805 non-null  int64  \n",
      " 23  payment_monthly_sum            12805 non-null  float64\n",
      " 24  shipping_charges_sd_sc         12805 non-null  float64\n",
      " 25  price_sd_sc                    12805 non-null  float64\n",
      " 26  payment_value_sd_sc            12805 non-null  float64\n",
      " 27  product_volume_sd_sc           12805 non-null  float64\n",
      " 28  customer_state_origin          12805 non-null  object \n",
      " 29  product_weight_g_sd_sc         12805 non-null  float64\n",
      " 30  product_category_name_origin   12805 non-null  object \n",
      " 31  product_category_name_cf_en    12805 non-null  float64\n",
      " 32  Cluster                        12805 non-null  int64  \n",
      "dtypes: float64(17), int64(5), object(11)\n",
      "memory usage: 3.2+ MB\n"
     ]
    }
   ],
   "source": [
    "retail_df.info()"
   ]
  },
  {
   "cell_type": "code",
   "execution_count": 5,
   "metadata": {},
   "outputs": [],
   "source": [
    "#pip install shap"
   ]
  },
  {
   "cell_type": "code",
   "execution_count": 6,
   "metadata": {},
   "outputs": [],
   "source": [
    "# pip install XGBoost"
   ]
  },
  {
   "cell_type": "code",
   "execution_count": 7,
   "metadata": {},
   "outputs": [
    {
     "data": {
      "text/plain": [
       "Index(['Unnamed: 0', 'order_id', 'payment_value', 'price', 'shipping_charges',\n",
       "       'customer_id', 'order_status', 'order_purchase_timestamp',\n",
       "       'order_approved_at', 'customer_state', 'payment_sequential',\n",
       "       'payment_type', 'payment_installments', 'product_id',\n",
       "       'product_category_name', 'product_volume', 'product_weight_g',\n",
       "       'payment_monthly', 'payment_type_credit_card',\n",
       "       'payment_type_debit_card', 'payment_type_voucher',\n",
       "       'payment_type_wallet', 'payment_installments_category',\n",
       "       'payment_monthly_sum', 'shipping_charges_sd_sc', 'price_sd_sc',\n",
       "       'payment_value_sd_sc', 'product_volume_sd_sc', 'customer_state_origin',\n",
       "       'product_weight_g_sd_sc', 'product_category_name_origin',\n",
       "       'product_category_name_cf_en', 'Cluster'],\n",
       "      dtype='object')"
      ]
     },
     "execution_count": 7,
     "metadata": {},
     "output_type": "execute_result"
    }
   ],
   "source": [
    "retail_df.columns"
   ]
  },
  {
   "cell_type": "code",
   "execution_count": 8,
   "metadata": {},
   "outputs": [],
   "source": [
    "import xgboost\n",
    "import shap\n",
    "\n",
    "X= retail_df['payment_value']\n",
    "y= retail_df[['product_volume_sd_sc', 'payment_type_debit_card', 'payment_type_wallet']]"
   ]
  },
  {
   "cell_type": "code",
   "execution_count": 9,
   "metadata": {},
   "outputs": [],
   "source": [
    "# XGB 모델 학습\n",
    "model= xgboost.XGBRegressor().fit(X.values.reshape(-1, 1), y)"
   ]
  },
  {
   "cell_type": "code",
   "execution_count": 10,
   "metadata": {},
   "outputs": [],
   "source": [
    "# shap 를 사용한 모델 예측 설명\n",
    "explainer= shap.Explainer(model)\n",
    "shap_values= explainer(X.values.reshape(-1, 1))"
   ]
  },
  {
   "cell_type": "code",
   "execution_count": 12,
   "metadata": {},
   "outputs": [
    {
     "ename": "TypeError",
     "evalue": "only length-1 arrays can be converted to Python scalars",
     "output_type": "error",
     "traceback": [
      "\u001b[1;31m---------------------------------------------------------------------------\u001b[0m",
      "\u001b[1;31mTypeError\u001b[0m                                 Traceback (most recent call last)",
      "Cell \u001b[1;32mIn[12], line 2\u001b[0m\n\u001b[0;32m      1\u001b[0m \u001b[38;5;66;03m# 첫 번째: 예측 설명의 시각화\u001b[39;00m\n\u001b[1;32m----> 2\u001b[0m \u001b[43mshap\u001b[49m\u001b[38;5;241;43m.\u001b[39;49m\u001b[43mplots\u001b[49m\u001b[38;5;241;43m.\u001b[39;49m\u001b[43mwaterfall\u001b[49m\u001b[43m(\u001b[49m\u001b[43mshap_values\u001b[49m\u001b[43m[\u001b[49m\u001b[38;5;241;43m0\u001b[39;49m\u001b[43m,\u001b[49m\u001b[43m \u001b[49m\u001b[38;5;241;43m0\u001b[39;49m\u001b[43m]\u001b[49m\u001b[43m)\u001b[49m\n",
      "File \u001b[1;32mc:\\Users\\h1029\\anaconda3\\Lib\\site-packages\\shap\\plots\\_waterfall.py:69\u001b[0m, in \u001b[0;36mwaterfall\u001b[1;34m(shap_values, max_display, show)\u001b[0m\n\u001b[0;32m     61\u001b[0m     emsg \u001b[38;5;241m=\u001b[39m (\n\u001b[0;32m     62\u001b[0m         \u001b[38;5;124m\"\u001b[39m\u001b[38;5;124mThe waterfall plot can currently only plot a single explanation, but a \u001b[39m\u001b[38;5;124m\"\u001b[39m\n\u001b[0;32m     63\u001b[0m         \u001b[38;5;124mf\u001b[39m\u001b[38;5;124m\"\u001b[39m\u001b[38;5;124mmatrix of explanations (shape \u001b[39m\u001b[38;5;132;01m{\u001b[39;00msv_shape\u001b[38;5;132;01m}\u001b[39;00m\u001b[38;5;124m) was passed! Perhaps try \u001b[39m\u001b[38;5;124m\"\u001b[39m\n\u001b[0;32m     64\u001b[0m         \u001b[38;5;124m\"\u001b[39m\u001b[38;5;124m`shap.plots.waterfall(shap_values[0])` or for multi-output models, \u001b[39m\u001b[38;5;124m\"\u001b[39m\n\u001b[0;32m     65\u001b[0m         \u001b[38;5;124m\"\u001b[39m\u001b[38;5;124mtry `shap.plots.waterfall(shap_values[0, 0])`.\u001b[39m\u001b[38;5;124m\"\u001b[39m\n\u001b[0;32m     66\u001b[0m     )\n\u001b[0;32m     67\u001b[0m     \u001b[38;5;28;01mraise\u001b[39;00m \u001b[38;5;167;01mValueError\u001b[39;00m(emsg)\n\u001b[1;32m---> 69\u001b[0m base_values \u001b[38;5;241m=\u001b[39m \u001b[38;5;28;43mfloat\u001b[39;49m\u001b[43m(\u001b[49m\u001b[43mshap_values\u001b[49m\u001b[38;5;241;43m.\u001b[39;49m\u001b[43mbase_values\u001b[49m\u001b[43m)\u001b[49m\n\u001b[0;32m     70\u001b[0m features \u001b[38;5;241m=\u001b[39m shap_values\u001b[38;5;241m.\u001b[39mdisplay_data \u001b[38;5;28;01mif\u001b[39;00m shap_values\u001b[38;5;241m.\u001b[39mdisplay_data \u001b[38;5;129;01mis\u001b[39;00m \u001b[38;5;129;01mnot\u001b[39;00m \u001b[38;5;28;01mNone\u001b[39;00m \u001b[38;5;28;01melse\u001b[39;00m shap_values\u001b[38;5;241m.\u001b[39mdata\n\u001b[0;32m     71\u001b[0m feature_names \u001b[38;5;241m=\u001b[39m shap_values\u001b[38;5;241m.\u001b[39mfeature_names\n",
      "\u001b[1;31mTypeError\u001b[0m: only length-1 arrays can be converted to Python scalars"
     ]
    }
   ],
   "source": [
    "# 첫 번째: 예측 설명의 시각화\n",
    "shap.plots.waterfall(shap_values[0, 0])"
   ]
  },
  {
   "cell_type": "code",
   "execution_count": null,
   "metadata": {},
   "outputs": [
    {
     "ename": "TypeError",
     "evalue": "In v0.20, force plot now requires the base value as the first parameter! Try shap.plots.force(explainer.expected_value, shap_values) or for multi-output models try shap.plots.force(explainer.expected_value[0], shap_values[..., 0]).",
     "output_type": "error",
     "traceback": [
      "\u001b[1;31m---------------------------------------------------------------------------\u001b[0m",
      "\u001b[1;31mTypeError\u001b[0m                                 Traceback (most recent call last)",
      "Cell \u001b[1;32mIn[12], line 1\u001b[0m\n\u001b[1;32m----> 1\u001b[0m \u001b[43mshap\u001b[49m\u001b[38;5;241;43m.\u001b[39;49m\u001b[43mplots\u001b[49m\u001b[38;5;241;43m.\u001b[39;49m\u001b[43mforce\u001b[49m\u001b[43m(\u001b[49m\u001b[43mexplainer\u001b[49m\u001b[38;5;241;43m.\u001b[39;49m\u001b[43mexpected_value\u001b[49m\u001b[43m,\u001b[49m\u001b[43m \u001b[49m\u001b[43mshap_values\u001b[49m\u001b[43m)\u001b[49m\n",
      "File \u001b[1;32mc:\\Users\\h1029\\anaconda3\\Lib\\site-packages\\shap\\plots\\_force.py:129\u001b[0m, in \u001b[0;36mforce\u001b[1;34m(base_value, shap_values, features, feature_names, out_names, link, plot_cmap, matplotlib, show, figsize, ordering_keys, ordering_keys_time_format, text_rotation, contribution_threshold)\u001b[0m\n\u001b[0;32m    122\u001b[0m     \u001b[38;5;28;01mif\u001b[39;00m \u001b[38;5;129;01mnot\u001b[39;00m \u001b[38;5;28misinstance\u001b[39m(shap_values, (\u001b[38;5;28mlist\u001b[39m, np\u001b[38;5;241m.\u001b[39mndarray)) \u001b[38;5;129;01mor\u001b[39;00m \u001b[38;5;28mlen\u001b[39m(shap_values) \u001b[38;5;241m!=\u001b[39m \u001b[38;5;28mlen\u001b[39m(base_value):\n\u001b[0;32m    123\u001b[0m         emsg \u001b[38;5;241m=\u001b[39m (\n\u001b[0;32m    124\u001b[0m             \u001b[38;5;124m\"\u001b[39m\u001b[38;5;124mIn v0.20, force plot now requires the base value as the first parameter! \u001b[39m\u001b[38;5;124m\"\u001b[39m\n\u001b[0;32m    125\u001b[0m             \u001b[38;5;124m\"\u001b[39m\u001b[38;5;124mTry shap.plots.force(explainer.expected_value, shap_values) or \u001b[39m\u001b[38;5;124m\"\u001b[39m\n\u001b[0;32m    126\u001b[0m             \u001b[38;5;124m\"\u001b[39m\u001b[38;5;124mfor multi-output models try \u001b[39m\u001b[38;5;124m\"\u001b[39m\n\u001b[0;32m    127\u001b[0m             \u001b[38;5;124m\"\u001b[39m\u001b[38;5;124mshap.plots.force(explainer.expected_value[0], shap_values[..., 0]).\u001b[39m\u001b[38;5;124m\"\u001b[39m\n\u001b[0;32m    128\u001b[0m         )\n\u001b[1;32m--> 129\u001b[0m         \u001b[38;5;28;01mraise\u001b[39;00m \u001b[38;5;167;01mTypeError\u001b[39;00m(emsg)\n\u001b[0;32m    131\u001b[0m \u001b[38;5;28;01mif\u001b[39;00m \u001b[38;5;28misinstance\u001b[39m(shap_values, \u001b[38;5;28mlist\u001b[39m):\n\u001b[0;32m    132\u001b[0m     emsg \u001b[38;5;241m=\u001b[39m \u001b[38;5;124m\"\u001b[39m\u001b[38;5;124mThe shap_values arg looks multi output, try `shap_values[i]` instead.\u001b[39m\u001b[38;5;124m\"\u001b[39m\n",
      "\u001b[1;31mTypeError\u001b[0m: In v0.20, force plot now requires the base value as the first parameter! Try shap.plots.force(explainer.expected_value, shap_values) or for multi-output models try shap.plots.force(explainer.expected_value[0], shap_values[..., 0])."
     ]
    }
   ],
   "source": [
    "shap.plots.force(explainer.expected_value, shap_values)"
   ]
  },
  {
   "cell_type": "code",
   "execution_count": null,
   "metadata": {},
   "outputs": [
    {
     "ename": "TypeError",
     "evalue": "In v0.20, force plot now requires the base value as the first parameter! Try shap.plots.force(explainer.expected_value, shap_values) or for multi-output models try shap.plots.force(explainer.expected_value[0], shap_values[..., 0]).",
     "output_type": "error",
     "traceback": [
      "\u001b[1;31m---------------------------------------------------------------------------\u001b[0m",
      "\u001b[1;31mTypeError\u001b[0m                                 Traceback (most recent call last)",
      "Cell \u001b[1;32mIn[13], line 1\u001b[0m\n\u001b[1;32m----> 1\u001b[0m \u001b[43mshap\u001b[49m\u001b[38;5;241;43m.\u001b[39;49m\u001b[43mplots\u001b[49m\u001b[38;5;241;43m.\u001b[39;49m\u001b[43mforce\u001b[49m\u001b[43m(\u001b[49m\u001b[43mshap_values\u001b[49m\u001b[43m)\u001b[49m\n",
      "File \u001b[1;32mc:\\Users\\h1029\\anaconda3\\Lib\\site-packages\\shap\\plots\\_force.py:129\u001b[0m, in \u001b[0;36mforce\u001b[1;34m(base_value, shap_values, features, feature_names, out_names, link, plot_cmap, matplotlib, show, figsize, ordering_keys, ordering_keys_time_format, text_rotation, contribution_threshold)\u001b[0m\n\u001b[0;32m    122\u001b[0m     \u001b[38;5;28;01mif\u001b[39;00m \u001b[38;5;129;01mnot\u001b[39;00m \u001b[38;5;28misinstance\u001b[39m(shap_values, (\u001b[38;5;28mlist\u001b[39m, np\u001b[38;5;241m.\u001b[39mndarray)) \u001b[38;5;129;01mor\u001b[39;00m \u001b[38;5;28mlen\u001b[39m(shap_values) \u001b[38;5;241m!=\u001b[39m \u001b[38;5;28mlen\u001b[39m(base_value):\n\u001b[0;32m    123\u001b[0m         emsg \u001b[38;5;241m=\u001b[39m (\n\u001b[0;32m    124\u001b[0m             \u001b[38;5;124m\"\u001b[39m\u001b[38;5;124mIn v0.20, force plot now requires the base value as the first parameter! \u001b[39m\u001b[38;5;124m\"\u001b[39m\n\u001b[0;32m    125\u001b[0m             \u001b[38;5;124m\"\u001b[39m\u001b[38;5;124mTry shap.plots.force(explainer.expected_value, shap_values) or \u001b[39m\u001b[38;5;124m\"\u001b[39m\n\u001b[0;32m    126\u001b[0m             \u001b[38;5;124m\"\u001b[39m\u001b[38;5;124mfor multi-output models try \u001b[39m\u001b[38;5;124m\"\u001b[39m\n\u001b[0;32m    127\u001b[0m             \u001b[38;5;124m\"\u001b[39m\u001b[38;5;124mshap.plots.force(explainer.expected_value[0], shap_values[..., 0]).\u001b[39m\u001b[38;5;124m\"\u001b[39m\n\u001b[0;32m    128\u001b[0m         )\n\u001b[1;32m--> 129\u001b[0m         \u001b[38;5;28;01mraise\u001b[39;00m \u001b[38;5;167;01mTypeError\u001b[39;00m(emsg)\n\u001b[0;32m    131\u001b[0m \u001b[38;5;28;01mif\u001b[39;00m \u001b[38;5;28misinstance\u001b[39m(shap_values, \u001b[38;5;28mlist\u001b[39m):\n\u001b[0;32m    132\u001b[0m     emsg \u001b[38;5;241m=\u001b[39m \u001b[38;5;124m\"\u001b[39m\u001b[38;5;124mThe shap_values arg looks multi output, try `shap_values[i]` instead.\u001b[39m\u001b[38;5;124m\"\u001b[39m\n",
      "\u001b[1;31mTypeError\u001b[0m: In v0.20, force plot now requires the base value as the first parameter! Try shap.plots.force(explainer.expected_value, shap_values) or for multi-output models try shap.plots.force(explainer.expected_value[0], shap_values[..., 0])."
     ]
    }
   ],
   "source": [
    "shap.plots.force(shap_values)"
   ]
  },
  {
   "cell_type": "code",
   "execution_count": null,
   "metadata": {},
   "outputs": [
    {
     "ename": "TypeError",
     "evalue": "only integer scalar arrays can be converted to a scalar index",
     "output_type": "error",
     "traceback": [
      "\u001b[1;31m---------------------------------------------------------------------------\u001b[0m",
      "\u001b[1;31mTypeError\u001b[0m                                 Traceback (most recent call last)",
      "Cell \u001b[1;32mIn[14], line 1\u001b[0m\n\u001b[1;32m----> 1\u001b[0m \u001b[43mshap\u001b[49m\u001b[38;5;241;43m.\u001b[39;49m\u001b[43mplots\u001b[49m\u001b[38;5;241;43m.\u001b[39;49m\u001b[43mbar\u001b[49m\u001b[43m(\u001b[49m\u001b[43mshap_values\u001b[49m\u001b[43m)\u001b[49m\n",
      "File \u001b[1;32mc:\\Users\\h1029\\anaconda3\\Lib\\site-packages\\shap\\plots\\_bar.py:220\u001b[0m, in \u001b[0;36mbar\u001b[1;34m(shap_values, max_display, order, clustering, clustering_cutoff, show_data, ax, show)\u001b[0m\n\u001b[0;32m    218\u001b[0m \u001b[38;5;66;03m# see how many individual (vs. grouped at the end) features we are plotting\u001b[39;00m\n\u001b[0;32m    219\u001b[0m \u001b[38;5;28;01mif\u001b[39;00m num_features \u001b[38;5;241m<\u001b[39m \u001b[38;5;28mlen\u001b[39m(values[\u001b[38;5;241m0\u001b[39m]):\n\u001b[1;32m--> 220\u001b[0m     num_cut \u001b[38;5;241m=\u001b[39m np\u001b[38;5;241m.\u001b[39msum([\u001b[38;5;28mlen\u001b[39m(\u001b[43morig_inds\u001b[49m\u001b[43m[\u001b[49m\u001b[43mfeature_order\u001b[49m\u001b[43m[\u001b[49m\u001b[43mi\u001b[49m\u001b[43m]\u001b[49m\u001b[43m]\u001b[49m) \u001b[38;5;28;01mfor\u001b[39;00m i \u001b[38;5;129;01min\u001b[39;00m \u001b[38;5;28mrange\u001b[39m(num_features\u001b[38;5;241m-\u001b[39m\u001b[38;5;241m1\u001b[39m, \u001b[38;5;28mlen\u001b[39m(values[\u001b[38;5;241m0\u001b[39m]))])\n\u001b[0;32m    221\u001b[0m     values[:,feature_order[num_features\u001b[38;5;241m-\u001b[39m\u001b[38;5;241m1\u001b[39m]] \u001b[38;5;241m=\u001b[39m np\u001b[38;5;241m.\u001b[39msum([values[:,feature_order[i]] \u001b[38;5;28;01mfor\u001b[39;00m i \u001b[38;5;129;01min\u001b[39;00m \u001b[38;5;28mrange\u001b[39m(num_features\u001b[38;5;241m-\u001b[39m\u001b[38;5;241m1\u001b[39m, \u001b[38;5;28mlen\u001b[39m(values[\u001b[38;5;241m0\u001b[39m]))], \u001b[38;5;241m0\u001b[39m)\n\u001b[0;32m    223\u001b[0m \u001b[38;5;66;03m# build our y-tick labels\u001b[39;00m\n",
      "\u001b[1;31mTypeError\u001b[0m: only integer scalar arrays can be converted to a scalar index"
     ]
    }
   ],
   "source": [
    "shap.plots.bar(shap_values)"
   ]
  },
  {
   "cell_type": "code",
   "execution_count": 5,
   "metadata": {},
   "outputs": [
    {
     "ename": "TypeError",
     "evalue": "only length-1 arrays can be converted to Python scalars",
     "output_type": "error",
     "traceback": [
      "\u001b[1;31m---------------------------------------------------------------------------\u001b[0m",
      "\u001b[1;31mTypeError\u001b[0m                                 Traceback (most recent call last)",
      "Cell \u001b[1;32mIn[5], line 16\u001b[0m\n\u001b[0;32m     13\u001b[0m shap_values \u001b[38;5;241m=\u001b[39m explainer(X)\n\u001b[0;32m     15\u001b[0m \u001b[38;5;66;03m# 각 출력에 대해 시각화\u001b[39;00m\n\u001b[1;32m---> 16\u001b[0m \u001b[43mshap\u001b[49m\u001b[38;5;241;43m.\u001b[39;49m\u001b[43mplots\u001b[49m\u001b[38;5;241;43m.\u001b[39;49m\u001b[43mwaterfall\u001b[49m\u001b[43m(\u001b[49m\u001b[43mshap_values\u001b[49m\u001b[43m[\u001b[49m\u001b[38;5;241;43m0\u001b[39;49m\u001b[43m,\u001b[49m\u001b[43m \u001b[49m\u001b[38;5;241;43m0\u001b[39;49m\u001b[43m]\u001b[49m\u001b[43m)\u001b[49m  \u001b[38;5;66;03m# 첫 번째 샘플의 첫 번째 출력\u001b[39;00m\n\u001b[0;32m     17\u001b[0m shap\u001b[38;5;241m.\u001b[39mplots\u001b[38;5;241m.\u001b[39mwaterfall(shap_values[\u001b[38;5;241m0\u001b[39m, \u001b[38;5;241m1\u001b[39m])  \u001b[38;5;66;03m# 첫 번째 샘플의 두 번째 출력\u001b[39;00m\n\u001b[0;32m     18\u001b[0m shap\u001b[38;5;241m.\u001b[39mplots\u001b[38;5;241m.\u001b[39mwaterfall(shap_values[\u001b[38;5;241m0\u001b[39m, \u001b[38;5;241m2\u001b[39m])  \u001b[38;5;66;03m# 첫 번째 샘플의 세 번째 출력\u001b[39;00m\n",
      "File \u001b[1;32mc:\\Users\\h1029\\anaconda3\\Lib\\site-packages\\shap\\plots\\_waterfall.py:69\u001b[0m, in \u001b[0;36mwaterfall\u001b[1;34m(shap_values, max_display, show)\u001b[0m\n\u001b[0;32m     61\u001b[0m     emsg \u001b[38;5;241m=\u001b[39m (\n\u001b[0;32m     62\u001b[0m         \u001b[38;5;124m\"\u001b[39m\u001b[38;5;124mThe waterfall plot can currently only plot a single explanation, but a \u001b[39m\u001b[38;5;124m\"\u001b[39m\n\u001b[0;32m     63\u001b[0m         \u001b[38;5;124mf\u001b[39m\u001b[38;5;124m\"\u001b[39m\u001b[38;5;124mmatrix of explanations (shape \u001b[39m\u001b[38;5;132;01m{\u001b[39;00msv_shape\u001b[38;5;132;01m}\u001b[39;00m\u001b[38;5;124m) was passed! Perhaps try \u001b[39m\u001b[38;5;124m\"\u001b[39m\n\u001b[0;32m     64\u001b[0m         \u001b[38;5;124m\"\u001b[39m\u001b[38;5;124m`shap.plots.waterfall(shap_values[0])` or for multi-output models, \u001b[39m\u001b[38;5;124m\"\u001b[39m\n\u001b[0;32m     65\u001b[0m         \u001b[38;5;124m\"\u001b[39m\u001b[38;5;124mtry `shap.plots.waterfall(shap_values[0, 0])`.\u001b[39m\u001b[38;5;124m\"\u001b[39m\n\u001b[0;32m     66\u001b[0m     )\n\u001b[0;32m     67\u001b[0m     \u001b[38;5;28;01mraise\u001b[39;00m \u001b[38;5;167;01mValueError\u001b[39;00m(emsg)\n\u001b[1;32m---> 69\u001b[0m base_values \u001b[38;5;241m=\u001b[39m \u001b[38;5;28;43mfloat\u001b[39;49m\u001b[43m(\u001b[49m\u001b[43mshap_values\u001b[49m\u001b[38;5;241;43m.\u001b[39;49m\u001b[43mbase_values\u001b[49m\u001b[43m)\u001b[49m\n\u001b[0;32m     70\u001b[0m features \u001b[38;5;241m=\u001b[39m shap_values\u001b[38;5;241m.\u001b[39mdisplay_data \u001b[38;5;28;01mif\u001b[39;00m shap_values\u001b[38;5;241m.\u001b[39mdisplay_data \u001b[38;5;129;01mis\u001b[39;00m \u001b[38;5;129;01mnot\u001b[39;00m \u001b[38;5;28;01mNone\u001b[39;00m \u001b[38;5;28;01melse\u001b[39;00m shap_values\u001b[38;5;241m.\u001b[39mdata\n\u001b[0;32m     71\u001b[0m feature_names \u001b[38;5;241m=\u001b[39m shap_values\u001b[38;5;241m.\u001b[39mfeature_names\n",
      "\u001b[1;31mTypeError\u001b[0m: only length-1 arrays can be converted to Python scalars"
     ]
    }
   ],
   "source": [
    "import xgboost\n",
    "import shap\n",
    "\n",
    "# X와 y 정의\n",
    "X = retail_df['payment_value'].values.reshape(-1, 1)  # X를 2D 배열로 변환\n",
    "y = retail_df[['product_volume_sd_sc', 'payment_type_debit_card', 'payment_type_wallet']]\n",
    "\n",
    "# XGBoost 모델 학습\n",
    "model = xgboost.XGBRegressor().fit(X, y)\n",
    "\n",
    "# SHAP 값을 계산\n",
    "explainer = shap.Explainer(model)\n",
    "shap_values = explainer(X)\n",
    "\n",
    "# 각 출력에 대해 시각화\n",
    "shap.plots.waterfall(shap_values[0, 0])  # 첫 번째 샘플의 첫 번째 출력\n",
    "shap.plots.waterfall(shap_values[0, 1])  # 첫 번째 샘플의 두 번째 출력\n",
    "shap.plots.waterfall(shap_values[0, 2])  # 첫 번째 샘플의 세 번째 출력\n"
   ]
  },
  {
   "cell_type": "code",
   "execution_count": 6,
   "metadata": {},
   "outputs": [
    {
     "ename": "ValueError",
     "evalue": "The waterfall plot can currently only plot a single explanation, but a matrix of explanations (shape (12805, 3)) was passed! Perhaps try `shap.plots.waterfall(shap_values[0])` or for multi-output models, try `shap.plots.waterfall(shap_values[0, 0])`.",
     "output_type": "error",
     "traceback": [
      "\u001b[1;31m---------------------------------------------------------------------------\u001b[0m",
      "\u001b[1;31mValueError\u001b[0m                                Traceback (most recent call last)",
      "Cell \u001b[1;32mIn[6], line 17\u001b[0m\n\u001b[0;32m     15\u001b[0m \u001b[38;5;66;03m# 각 출력에 대해 시각화\u001b[39;00m\n\u001b[0;32m     16\u001b[0m \u001b[38;5;28;01mfor\u001b[39;00m i \u001b[38;5;129;01min\u001b[39;00m \u001b[38;5;28mrange\u001b[39m(y\u001b[38;5;241m.\u001b[39mshape[\u001b[38;5;241m1\u001b[39m]):\n\u001b[1;32m---> 17\u001b[0m     \u001b[43mshap\u001b[49m\u001b[38;5;241;43m.\u001b[39;49m\u001b[43mplots\u001b[49m\u001b[38;5;241;43m.\u001b[39;49m\u001b[43mwaterfall\u001b[49m\u001b[43m(\u001b[49m\u001b[43mshap_values\u001b[49m\u001b[43m[\u001b[49m\u001b[43m:\u001b[49m\u001b[43m,\u001b[49m\u001b[43m \u001b[49m\u001b[43mi\u001b[49m\u001b[43m]\u001b[49m\u001b[43m)\u001b[49m  \u001b[38;5;66;03m# 각 출력에 대해 시각화\u001b[39;00m\n",
      "File \u001b[1;32mc:\\Users\\h1029\\anaconda3\\Lib\\site-packages\\shap\\plots\\_waterfall.py:67\u001b[0m, in \u001b[0;36mwaterfall\u001b[1;34m(shap_values, max_display, show)\u001b[0m\n\u001b[0;32m     60\u001b[0m \u001b[38;5;28;01mif\u001b[39;00m \u001b[38;5;28mlen\u001b[39m(sv_shape) \u001b[38;5;241m!=\u001b[39m \u001b[38;5;241m1\u001b[39m:\n\u001b[0;32m     61\u001b[0m     emsg \u001b[38;5;241m=\u001b[39m (\n\u001b[0;32m     62\u001b[0m         \u001b[38;5;124m\"\u001b[39m\u001b[38;5;124mThe waterfall plot can currently only plot a single explanation, but a \u001b[39m\u001b[38;5;124m\"\u001b[39m\n\u001b[0;32m     63\u001b[0m         \u001b[38;5;124mf\u001b[39m\u001b[38;5;124m\"\u001b[39m\u001b[38;5;124mmatrix of explanations (shape \u001b[39m\u001b[38;5;132;01m{\u001b[39;00msv_shape\u001b[38;5;132;01m}\u001b[39;00m\u001b[38;5;124m) was passed! Perhaps try \u001b[39m\u001b[38;5;124m\"\u001b[39m\n\u001b[0;32m     64\u001b[0m         \u001b[38;5;124m\"\u001b[39m\u001b[38;5;124m`shap.plots.waterfall(shap_values[0])` or for multi-output models, \u001b[39m\u001b[38;5;124m\"\u001b[39m\n\u001b[0;32m     65\u001b[0m         \u001b[38;5;124m\"\u001b[39m\u001b[38;5;124mtry `shap.plots.waterfall(shap_values[0, 0])`.\u001b[39m\u001b[38;5;124m\"\u001b[39m\n\u001b[0;32m     66\u001b[0m     )\n\u001b[1;32m---> 67\u001b[0m     \u001b[38;5;28;01mraise\u001b[39;00m \u001b[38;5;167;01mValueError\u001b[39;00m(emsg)\n\u001b[0;32m     69\u001b[0m base_values \u001b[38;5;241m=\u001b[39m \u001b[38;5;28mfloat\u001b[39m(shap_values\u001b[38;5;241m.\u001b[39mbase_values)\n\u001b[0;32m     70\u001b[0m features \u001b[38;5;241m=\u001b[39m shap_values\u001b[38;5;241m.\u001b[39mdisplay_data \u001b[38;5;28;01mif\u001b[39;00m shap_values\u001b[38;5;241m.\u001b[39mdisplay_data \u001b[38;5;129;01mis\u001b[39;00m \u001b[38;5;129;01mnot\u001b[39;00m \u001b[38;5;28;01mNone\u001b[39;00m \u001b[38;5;28;01melse\u001b[39;00m shap_values\u001b[38;5;241m.\u001b[39mdata\n",
      "\u001b[1;31mValueError\u001b[0m: The waterfall plot can currently only plot a single explanation, but a matrix of explanations (shape (12805, 3)) was passed! Perhaps try `shap.plots.waterfall(shap_values[0])` or for multi-output models, try `shap.plots.waterfall(shap_values[0, 0])`."
     ]
    }
   ],
   "source": [
    "import xgboost\n",
    "import shap\n",
    "\n",
    "# X와 y 정의\n",
    "X = retail_df['payment_value'].values.reshape(-1, 1)  # X를 2D 배열로 변환\n",
    "y = retail_df[['product_volume_sd_sc', 'payment_type_debit_card', 'payment_type_wallet']]\n",
    "\n",
    "# XGBoost 모델 학습\n",
    "model = xgboost.XGBRegressor().fit(X, y)\n",
    "\n",
    "# SHAP 값을 계산\n",
    "explainer = shap.Explainer(model)\n",
    "shap_values = explainer(X)\n",
    "\n",
    "# 각 출력에 대해 시각화\n",
    "for i in range(y.shape[1]):\n",
    "    shap.plots.waterfall(shap_values[:, i])  # 각 출력에 대해 시각화\n"
   ]
  },
  {
   "cell_type": "code",
   "execution_count": 7,
   "metadata": {},
   "outputs": [
    {
     "ename": "TypeError",
     "evalue": "only length-1 arrays can be converted to Python scalars",
     "output_type": "error",
     "traceback": [
      "\u001b[1;31m---------------------------------------------------------------------------\u001b[0m",
      "\u001b[1;31mTypeError\u001b[0m                                 Traceback (most recent call last)",
      "Cell \u001b[1;32mIn[7], line 17\u001b[0m\n\u001b[0;32m     15\u001b[0m \u001b[38;5;66;03m# 각 출력에 대해 시각화\u001b[39;00m\n\u001b[0;32m     16\u001b[0m \u001b[38;5;28;01mfor\u001b[39;00m i \u001b[38;5;129;01min\u001b[39;00m \u001b[38;5;28mrange\u001b[39m(y\u001b[38;5;241m.\u001b[39mshape[\u001b[38;5;241m1\u001b[39m]):\n\u001b[1;32m---> 17\u001b[0m     \u001b[43mshap\u001b[49m\u001b[38;5;241;43m.\u001b[39;49m\u001b[43mplots\u001b[49m\u001b[38;5;241;43m.\u001b[39;49m\u001b[43mwaterfall\u001b[49m\u001b[43m(\u001b[49m\u001b[43mshap_values\u001b[49m\u001b[43m[\u001b[49m\u001b[43m:\u001b[49m\u001b[43m,\u001b[49m\u001b[43m \u001b[49m\u001b[43mi\u001b[49m\u001b[43m]\u001b[49m\u001b[43m[\u001b[49m\u001b[38;5;241;43m0\u001b[39;49m\u001b[43m]\u001b[49m\u001b[43m)\u001b[49m  \u001b[38;5;66;03m# 첫 번째 샘플의 각 출력에 대해 시각화\u001b[39;00m\n",
      "File \u001b[1;32mc:\\Users\\h1029\\anaconda3\\Lib\\site-packages\\shap\\plots\\_waterfall.py:69\u001b[0m, in \u001b[0;36mwaterfall\u001b[1;34m(shap_values, max_display, show)\u001b[0m\n\u001b[0;32m     61\u001b[0m     emsg \u001b[38;5;241m=\u001b[39m (\n\u001b[0;32m     62\u001b[0m         \u001b[38;5;124m\"\u001b[39m\u001b[38;5;124mThe waterfall plot can currently only plot a single explanation, but a \u001b[39m\u001b[38;5;124m\"\u001b[39m\n\u001b[0;32m     63\u001b[0m         \u001b[38;5;124mf\u001b[39m\u001b[38;5;124m\"\u001b[39m\u001b[38;5;124mmatrix of explanations (shape \u001b[39m\u001b[38;5;132;01m{\u001b[39;00msv_shape\u001b[38;5;132;01m}\u001b[39;00m\u001b[38;5;124m) was passed! Perhaps try \u001b[39m\u001b[38;5;124m\"\u001b[39m\n\u001b[0;32m     64\u001b[0m         \u001b[38;5;124m\"\u001b[39m\u001b[38;5;124m`shap.plots.waterfall(shap_values[0])` or for multi-output models, \u001b[39m\u001b[38;5;124m\"\u001b[39m\n\u001b[0;32m     65\u001b[0m         \u001b[38;5;124m\"\u001b[39m\u001b[38;5;124mtry `shap.plots.waterfall(shap_values[0, 0])`.\u001b[39m\u001b[38;5;124m\"\u001b[39m\n\u001b[0;32m     66\u001b[0m     )\n\u001b[0;32m     67\u001b[0m     \u001b[38;5;28;01mraise\u001b[39;00m \u001b[38;5;167;01mValueError\u001b[39;00m(emsg)\n\u001b[1;32m---> 69\u001b[0m base_values \u001b[38;5;241m=\u001b[39m \u001b[38;5;28;43mfloat\u001b[39;49m\u001b[43m(\u001b[49m\u001b[43mshap_values\u001b[49m\u001b[38;5;241;43m.\u001b[39;49m\u001b[43mbase_values\u001b[49m\u001b[43m)\u001b[49m\n\u001b[0;32m     70\u001b[0m features \u001b[38;5;241m=\u001b[39m shap_values\u001b[38;5;241m.\u001b[39mdisplay_data \u001b[38;5;28;01mif\u001b[39;00m shap_values\u001b[38;5;241m.\u001b[39mdisplay_data \u001b[38;5;129;01mis\u001b[39;00m \u001b[38;5;129;01mnot\u001b[39;00m \u001b[38;5;28;01mNone\u001b[39;00m \u001b[38;5;28;01melse\u001b[39;00m shap_values\u001b[38;5;241m.\u001b[39mdata\n\u001b[0;32m     71\u001b[0m feature_names \u001b[38;5;241m=\u001b[39m shap_values\u001b[38;5;241m.\u001b[39mfeature_names\n",
      "\u001b[1;31mTypeError\u001b[0m: only length-1 arrays can be converted to Python scalars"
     ]
    }
   ],
   "source": [
    "import xgboost\n",
    "import shap\n",
    "\n",
    "# X와 y 정의\n",
    "X = retail_df['payment_value'].values.reshape(-1, 1)  # X를 2D 배열로 변환\n",
    "y = retail_df[['product_volume_sd_sc', 'payment_type_debit_card', 'payment_type_wallet']]\n",
    "\n",
    "# XGBoost 모델 학습\n",
    "model = xgboost.XGBRegressor().fit(X, y)\n",
    "\n",
    "# SHAP 값을 계산\n",
    "explainer = shap.Explainer(model)\n",
    "shap_values = explainer(X)\n",
    "\n",
    "# 각 출력에 대해 시각화\n",
    "for i in range(y.shape[1]):\n",
    "    shap.plots.waterfall(shap_values[:, i][0])  # 첫 번째 샘플의 각 출력에 대해 시각화\n"
   ]
  },
  {
   "cell_type": "code",
   "execution_count": 8,
   "metadata": {},
   "outputs": [
    {
     "ename": "TypeError",
     "evalue": "only length-1 arrays can be converted to Python scalars",
     "output_type": "error",
     "traceback": [
      "\u001b[1;31m---------------------------------------------------------------------------\u001b[0m",
      "\u001b[1;31mTypeError\u001b[0m                                 Traceback (most recent call last)",
      "Cell \u001b[1;32mIn[8], line 17\u001b[0m\n\u001b[0;32m     15\u001b[0m \u001b[38;5;66;03m# 각 출력에 대해 시각화 (첫 번째 샘플)\u001b[39;00m\n\u001b[0;32m     16\u001b[0m \u001b[38;5;28;01mfor\u001b[39;00m i \u001b[38;5;129;01min\u001b[39;00m \u001b[38;5;28mrange\u001b[39m(y\u001b[38;5;241m.\u001b[39mshape[\u001b[38;5;241m1\u001b[39m]):\n\u001b[1;32m---> 17\u001b[0m     \u001b[43mshap\u001b[49m\u001b[38;5;241;43m.\u001b[39;49m\u001b[43mplots\u001b[49m\u001b[38;5;241;43m.\u001b[39;49m\u001b[43mwaterfall\u001b[49m\u001b[43m(\u001b[49m\u001b[43mshap_values\u001b[49m\u001b[43m[\u001b[49m\u001b[43mi\u001b[49m\u001b[43m]\u001b[49m\u001b[43m[\u001b[49m\u001b[38;5;241;43m0\u001b[39;49m\u001b[43m]\u001b[49m\u001b[43m)\u001b[49m  \u001b[38;5;66;03m# 첫 번째 샘플의 각 출력에 대해 시각화\u001b[39;00m\n",
      "File \u001b[1;32mc:\\Users\\h1029\\anaconda3\\Lib\\site-packages\\shap\\plots\\_waterfall.py:69\u001b[0m, in \u001b[0;36mwaterfall\u001b[1;34m(shap_values, max_display, show)\u001b[0m\n\u001b[0;32m     61\u001b[0m     emsg \u001b[38;5;241m=\u001b[39m (\n\u001b[0;32m     62\u001b[0m         \u001b[38;5;124m\"\u001b[39m\u001b[38;5;124mThe waterfall plot can currently only plot a single explanation, but a \u001b[39m\u001b[38;5;124m\"\u001b[39m\n\u001b[0;32m     63\u001b[0m         \u001b[38;5;124mf\u001b[39m\u001b[38;5;124m\"\u001b[39m\u001b[38;5;124mmatrix of explanations (shape \u001b[39m\u001b[38;5;132;01m{\u001b[39;00msv_shape\u001b[38;5;132;01m}\u001b[39;00m\u001b[38;5;124m) was passed! Perhaps try \u001b[39m\u001b[38;5;124m\"\u001b[39m\n\u001b[0;32m     64\u001b[0m         \u001b[38;5;124m\"\u001b[39m\u001b[38;5;124m`shap.plots.waterfall(shap_values[0])` or for multi-output models, \u001b[39m\u001b[38;5;124m\"\u001b[39m\n\u001b[0;32m     65\u001b[0m         \u001b[38;5;124m\"\u001b[39m\u001b[38;5;124mtry `shap.plots.waterfall(shap_values[0, 0])`.\u001b[39m\u001b[38;5;124m\"\u001b[39m\n\u001b[0;32m     66\u001b[0m     )\n\u001b[0;32m     67\u001b[0m     \u001b[38;5;28;01mraise\u001b[39;00m \u001b[38;5;167;01mValueError\u001b[39;00m(emsg)\n\u001b[1;32m---> 69\u001b[0m base_values \u001b[38;5;241m=\u001b[39m \u001b[38;5;28;43mfloat\u001b[39;49m\u001b[43m(\u001b[49m\u001b[43mshap_values\u001b[49m\u001b[38;5;241;43m.\u001b[39;49m\u001b[43mbase_values\u001b[49m\u001b[43m)\u001b[49m\n\u001b[0;32m     70\u001b[0m features \u001b[38;5;241m=\u001b[39m shap_values\u001b[38;5;241m.\u001b[39mdisplay_data \u001b[38;5;28;01mif\u001b[39;00m shap_values\u001b[38;5;241m.\u001b[39mdisplay_data \u001b[38;5;129;01mis\u001b[39;00m \u001b[38;5;129;01mnot\u001b[39;00m \u001b[38;5;28;01mNone\u001b[39;00m \u001b[38;5;28;01melse\u001b[39;00m shap_values\u001b[38;5;241m.\u001b[39mdata\n\u001b[0;32m     71\u001b[0m feature_names \u001b[38;5;241m=\u001b[39m shap_values\u001b[38;5;241m.\u001b[39mfeature_names\n",
      "\u001b[1;31mTypeError\u001b[0m: only length-1 arrays can be converted to Python scalars"
     ]
    }
   ],
   "source": [
    "import xgboost\n",
    "import shap\n",
    "\n",
    "# X와 y 정의\n",
    "X = retail_df['payment_value'].values.reshape(-1, 1)  # X를 2D 배열로 변환\n",
    "y = retail_df[['product_volume_sd_sc', 'payment_type_debit_card', 'payment_type_wallet']]\n",
    "\n",
    "# XGBoost 모델 학습\n",
    "model = xgboost.XGBRegressor().fit(X, y)\n",
    "\n",
    "# SHAP 값을 계산\n",
    "explainer = shap.Explainer(model)\n",
    "shap_values = explainer(X)\n",
    "\n",
    "# 각 출력에 대해 시각화 (첫 번째 샘플)\n",
    "for i in range(y.shape[1]):\n",
    "    shap.plots.waterfall(shap_values[i][0])  # 첫 번째 샘플의 각 출력에 대해 시각화\n"
   ]
  },
  {
   "cell_type": "code",
   "execution_count": 9,
   "metadata": {},
   "outputs": [
    {
     "ename": "TypeError",
     "evalue": "only length-1 arrays can be converted to Python scalars",
     "output_type": "error",
     "traceback": [
      "\u001b[1;31m---------------------------------------------------------------------------\u001b[0m",
      "\u001b[1;31mTypeError\u001b[0m                                 Traceback (most recent call last)",
      "Cell \u001b[1;32mIn[9], line 17\u001b[0m\n\u001b[0;32m     15\u001b[0m \u001b[38;5;66;03m# 각 출력에 대해 시각화 (첫 번째 샘플)\u001b[39;00m\n\u001b[0;32m     16\u001b[0m \u001b[38;5;28;01mfor\u001b[39;00m i \u001b[38;5;129;01min\u001b[39;00m \u001b[38;5;28mrange\u001b[39m(y\u001b[38;5;241m.\u001b[39mshape[\u001b[38;5;241m1\u001b[39m]):\n\u001b[1;32m---> 17\u001b[0m     \u001b[43mshap\u001b[49m\u001b[38;5;241;43m.\u001b[39;49m\u001b[43mplots\u001b[49m\u001b[38;5;241;43m.\u001b[39;49m\u001b[43mwaterfall\u001b[49m\u001b[43m(\u001b[49m\u001b[43mshap_values\u001b[49m\u001b[43m[\u001b[49m\u001b[43m:\u001b[49m\u001b[43m,\u001b[49m\u001b[43m \u001b[49m\u001b[43mi\u001b[49m\u001b[43m]\u001b[49m\u001b[43m[\u001b[49m\u001b[38;5;241;43m0\u001b[39;49m\u001b[43m]\u001b[49m\u001b[43m)\u001b[49m  \u001b[38;5;66;03m# 첫 번째 샘플의 각 출력에 대해 시각화\u001b[39;00m\n",
      "File \u001b[1;32mc:\\Users\\h1029\\anaconda3\\Lib\\site-packages\\shap\\plots\\_waterfall.py:69\u001b[0m, in \u001b[0;36mwaterfall\u001b[1;34m(shap_values, max_display, show)\u001b[0m\n\u001b[0;32m     61\u001b[0m     emsg \u001b[38;5;241m=\u001b[39m (\n\u001b[0;32m     62\u001b[0m         \u001b[38;5;124m\"\u001b[39m\u001b[38;5;124mThe waterfall plot can currently only plot a single explanation, but a \u001b[39m\u001b[38;5;124m\"\u001b[39m\n\u001b[0;32m     63\u001b[0m         \u001b[38;5;124mf\u001b[39m\u001b[38;5;124m\"\u001b[39m\u001b[38;5;124mmatrix of explanations (shape \u001b[39m\u001b[38;5;132;01m{\u001b[39;00msv_shape\u001b[38;5;132;01m}\u001b[39;00m\u001b[38;5;124m) was passed! Perhaps try \u001b[39m\u001b[38;5;124m\"\u001b[39m\n\u001b[0;32m     64\u001b[0m         \u001b[38;5;124m\"\u001b[39m\u001b[38;5;124m`shap.plots.waterfall(shap_values[0])` or for multi-output models, \u001b[39m\u001b[38;5;124m\"\u001b[39m\n\u001b[0;32m     65\u001b[0m         \u001b[38;5;124m\"\u001b[39m\u001b[38;5;124mtry `shap.plots.waterfall(shap_values[0, 0])`.\u001b[39m\u001b[38;5;124m\"\u001b[39m\n\u001b[0;32m     66\u001b[0m     )\n\u001b[0;32m     67\u001b[0m     \u001b[38;5;28;01mraise\u001b[39;00m \u001b[38;5;167;01mValueError\u001b[39;00m(emsg)\n\u001b[1;32m---> 69\u001b[0m base_values \u001b[38;5;241m=\u001b[39m \u001b[38;5;28;43mfloat\u001b[39;49m\u001b[43m(\u001b[49m\u001b[43mshap_values\u001b[49m\u001b[38;5;241;43m.\u001b[39;49m\u001b[43mbase_values\u001b[49m\u001b[43m)\u001b[49m\n\u001b[0;32m     70\u001b[0m features \u001b[38;5;241m=\u001b[39m shap_values\u001b[38;5;241m.\u001b[39mdisplay_data \u001b[38;5;28;01mif\u001b[39;00m shap_values\u001b[38;5;241m.\u001b[39mdisplay_data \u001b[38;5;129;01mis\u001b[39;00m \u001b[38;5;129;01mnot\u001b[39;00m \u001b[38;5;28;01mNone\u001b[39;00m \u001b[38;5;28;01melse\u001b[39;00m shap_values\u001b[38;5;241m.\u001b[39mdata\n\u001b[0;32m     71\u001b[0m feature_names \u001b[38;5;241m=\u001b[39m shap_values\u001b[38;5;241m.\u001b[39mfeature_names\n",
      "\u001b[1;31mTypeError\u001b[0m: only length-1 arrays can be converted to Python scalars"
     ]
    }
   ],
   "source": [
    "import xgboost\n",
    "import shap\n",
    "\n",
    "# X와 y 정의\n",
    "X = retail_df['payment_value'].values.reshape(-1, 1)  # X를 2D 배열로 변환\n",
    "y = retail_df[['product_volume_sd_sc', 'payment_type_debit_card', 'payment_type_wallet']]\n",
    "\n",
    "# XGBoost 모델 학습\n",
    "model = xgboost.XGBRegressor().fit(X, y)\n",
    "\n",
    "# SHAP 값을 계산\n",
    "explainer = shap.Explainer(model)\n",
    "shap_values = explainer(X)\n",
    "\n",
    "# 각 출력에 대해 시각화 (첫 번째 샘플)\n",
    "for i in range(y.shape[1]):\n",
    "    shap.plots.waterfall(shap_values[:, i][0])  # 첫 번째 샘플의 각 출력에 대해 시각화\n"
   ]
  },
  {
   "cell_type": "code",
   "execution_count": 10,
   "metadata": {},
   "outputs": [
    {
     "ename": "TypeError",
     "evalue": "only length-1 arrays can be converted to Python scalars",
     "output_type": "error",
     "traceback": [
      "\u001b[1;31m---------------------------------------------------------------------------\u001b[0m",
      "\u001b[1;31mTypeError\u001b[0m                                 Traceback (most recent call last)",
      "Cell \u001b[1;32mIn[10], line 17\u001b[0m\n\u001b[0;32m     15\u001b[0m \u001b[38;5;66;03m# 각 출력에 대해 시각화 (첫 번째 샘플)\u001b[39;00m\n\u001b[0;32m     16\u001b[0m \u001b[38;5;28;01mfor\u001b[39;00m i \u001b[38;5;129;01min\u001b[39;00m \u001b[38;5;28mrange\u001b[39m(shap_values\u001b[38;5;241m.\u001b[39mshape[\u001b[38;5;241m1\u001b[39m]):  \u001b[38;5;66;03m# SHAP 값의 두 번째 차원 반복\u001b[39;00m\n\u001b[1;32m---> 17\u001b[0m     \u001b[43mshap\u001b[49m\u001b[38;5;241;43m.\u001b[39;49m\u001b[43mplots\u001b[49m\u001b[38;5;241;43m.\u001b[39;49m\u001b[43mwaterfall\u001b[49m\u001b[43m(\u001b[49m\u001b[43mshap_values\u001b[49m\u001b[43m[\u001b[49m\u001b[38;5;241;43m0\u001b[39;49m\u001b[43m,\u001b[49m\u001b[43m \u001b[49m\u001b[43mi\u001b[49m\u001b[43m]\u001b[49m\u001b[43m)\u001b[49m  \u001b[38;5;66;03m# 첫 번째 샘플의 각 출력에 대해 시각화\u001b[39;00m\n",
      "File \u001b[1;32mc:\\Users\\h1029\\anaconda3\\Lib\\site-packages\\shap\\plots\\_waterfall.py:69\u001b[0m, in \u001b[0;36mwaterfall\u001b[1;34m(shap_values, max_display, show)\u001b[0m\n\u001b[0;32m     61\u001b[0m     emsg \u001b[38;5;241m=\u001b[39m (\n\u001b[0;32m     62\u001b[0m         \u001b[38;5;124m\"\u001b[39m\u001b[38;5;124mThe waterfall plot can currently only plot a single explanation, but a \u001b[39m\u001b[38;5;124m\"\u001b[39m\n\u001b[0;32m     63\u001b[0m         \u001b[38;5;124mf\u001b[39m\u001b[38;5;124m\"\u001b[39m\u001b[38;5;124mmatrix of explanations (shape \u001b[39m\u001b[38;5;132;01m{\u001b[39;00msv_shape\u001b[38;5;132;01m}\u001b[39;00m\u001b[38;5;124m) was passed! Perhaps try \u001b[39m\u001b[38;5;124m\"\u001b[39m\n\u001b[0;32m     64\u001b[0m         \u001b[38;5;124m\"\u001b[39m\u001b[38;5;124m`shap.plots.waterfall(shap_values[0])` or for multi-output models, \u001b[39m\u001b[38;5;124m\"\u001b[39m\n\u001b[0;32m     65\u001b[0m         \u001b[38;5;124m\"\u001b[39m\u001b[38;5;124mtry `shap.plots.waterfall(shap_values[0, 0])`.\u001b[39m\u001b[38;5;124m\"\u001b[39m\n\u001b[0;32m     66\u001b[0m     )\n\u001b[0;32m     67\u001b[0m     \u001b[38;5;28;01mraise\u001b[39;00m \u001b[38;5;167;01mValueError\u001b[39;00m(emsg)\n\u001b[1;32m---> 69\u001b[0m base_values \u001b[38;5;241m=\u001b[39m \u001b[38;5;28;43mfloat\u001b[39;49m\u001b[43m(\u001b[49m\u001b[43mshap_values\u001b[49m\u001b[38;5;241;43m.\u001b[39;49m\u001b[43mbase_values\u001b[49m\u001b[43m)\u001b[49m\n\u001b[0;32m     70\u001b[0m features \u001b[38;5;241m=\u001b[39m shap_values\u001b[38;5;241m.\u001b[39mdisplay_data \u001b[38;5;28;01mif\u001b[39;00m shap_values\u001b[38;5;241m.\u001b[39mdisplay_data \u001b[38;5;129;01mis\u001b[39;00m \u001b[38;5;129;01mnot\u001b[39;00m \u001b[38;5;28;01mNone\u001b[39;00m \u001b[38;5;28;01melse\u001b[39;00m shap_values\u001b[38;5;241m.\u001b[39mdata\n\u001b[0;32m     71\u001b[0m feature_names \u001b[38;5;241m=\u001b[39m shap_values\u001b[38;5;241m.\u001b[39mfeature_names\n",
      "\u001b[1;31mTypeError\u001b[0m: only length-1 arrays can be converted to Python scalars"
     ]
    }
   ],
   "source": [
    "import xgboost\n",
    "import shap\n",
    "\n",
    "# X와 y 정의\n",
    "X = retail_df['payment_value'].values.reshape(-1, 1)  # X를 2D 배열로 변환\n",
    "y = retail_df[['product_volume_sd_sc', 'payment_type_debit_card', 'payment_type_wallet']]\n",
    "\n",
    "# XGBoost 모델 학습\n",
    "model = xgboost.XGBRegressor().fit(X, y)\n",
    "\n",
    "# SHAP 값을 계산\n",
    "explainer = shap.Explainer(model)\n",
    "shap_values = explainer(X)\n",
    "\n",
    "# 각 출력에 대해 시각화 (첫 번째 샘플)\n",
    "for i in range(shap_values.shape[1]):  # SHAP 값의 두 번째 차원 반복\n",
    "    shap.plots.waterfall(shap_values[0, i])  # 첫 번째 샘플의 각 출력에 대해 시각화\n"
   ]
  },
  {
   "cell_type": "code",
   "execution_count": 11,
   "metadata": {},
   "outputs": [
    {
     "ename": "TypeError",
     "evalue": "only length-1 arrays can be converted to Python scalars",
     "output_type": "error",
     "traceback": [
      "\u001b[1;31m---------------------------------------------------------------------------\u001b[0m",
      "\u001b[1;31mTypeError\u001b[0m                                 Traceback (most recent call last)",
      "Cell \u001b[1;32mIn[11], line 20\u001b[0m\n\u001b[0;32m     18\u001b[0m \u001b[38;5;66;03m# 각 출력에 대해 시각화\u001b[39;00m\n\u001b[0;32m     19\u001b[0m \u001b[38;5;28;01mfor\u001b[39;00m i \u001b[38;5;129;01min\u001b[39;00m \u001b[38;5;28mrange\u001b[39m(shap_values_sample\u001b[38;5;241m.\u001b[39mshape[\u001b[38;5;241m0\u001b[39m]):  \u001b[38;5;66;03m# 각 출력에 대해 반복\u001b[39;00m\n\u001b[1;32m---> 20\u001b[0m     \u001b[43mshap\u001b[49m\u001b[38;5;241;43m.\u001b[39;49m\u001b[43mplots\u001b[49m\u001b[38;5;241;43m.\u001b[39;49m\u001b[43mwaterfall\u001b[49m\u001b[43m(\u001b[49m\u001b[43mshap_values_sample\u001b[49m\u001b[43m[\u001b[49m\u001b[43mi\u001b[49m\u001b[43m]\u001b[49m\u001b[43m)\u001b[49m  \u001b[38;5;66;03m# 각 출력의 waterfall plot\u001b[39;00m\n",
      "File \u001b[1;32mc:\\Users\\h1029\\anaconda3\\Lib\\site-packages\\shap\\plots\\_waterfall.py:69\u001b[0m, in \u001b[0;36mwaterfall\u001b[1;34m(shap_values, max_display, show)\u001b[0m\n\u001b[0;32m     61\u001b[0m     emsg \u001b[38;5;241m=\u001b[39m (\n\u001b[0;32m     62\u001b[0m         \u001b[38;5;124m\"\u001b[39m\u001b[38;5;124mThe waterfall plot can currently only plot a single explanation, but a \u001b[39m\u001b[38;5;124m\"\u001b[39m\n\u001b[0;32m     63\u001b[0m         \u001b[38;5;124mf\u001b[39m\u001b[38;5;124m\"\u001b[39m\u001b[38;5;124mmatrix of explanations (shape \u001b[39m\u001b[38;5;132;01m{\u001b[39;00msv_shape\u001b[38;5;132;01m}\u001b[39;00m\u001b[38;5;124m) was passed! Perhaps try \u001b[39m\u001b[38;5;124m\"\u001b[39m\n\u001b[0;32m     64\u001b[0m         \u001b[38;5;124m\"\u001b[39m\u001b[38;5;124m`shap.plots.waterfall(shap_values[0])` or for multi-output models, \u001b[39m\u001b[38;5;124m\"\u001b[39m\n\u001b[0;32m     65\u001b[0m         \u001b[38;5;124m\"\u001b[39m\u001b[38;5;124mtry `shap.plots.waterfall(shap_values[0, 0])`.\u001b[39m\u001b[38;5;124m\"\u001b[39m\n\u001b[0;32m     66\u001b[0m     )\n\u001b[0;32m     67\u001b[0m     \u001b[38;5;28;01mraise\u001b[39;00m \u001b[38;5;167;01mValueError\u001b[39;00m(emsg)\n\u001b[1;32m---> 69\u001b[0m base_values \u001b[38;5;241m=\u001b[39m \u001b[38;5;28;43mfloat\u001b[39;49m\u001b[43m(\u001b[49m\u001b[43mshap_values\u001b[49m\u001b[38;5;241;43m.\u001b[39;49m\u001b[43mbase_values\u001b[49m\u001b[43m)\u001b[49m\n\u001b[0;32m     70\u001b[0m features \u001b[38;5;241m=\u001b[39m shap_values\u001b[38;5;241m.\u001b[39mdisplay_data \u001b[38;5;28;01mif\u001b[39;00m shap_values\u001b[38;5;241m.\u001b[39mdisplay_data \u001b[38;5;129;01mis\u001b[39;00m \u001b[38;5;129;01mnot\u001b[39;00m \u001b[38;5;28;01mNone\u001b[39;00m \u001b[38;5;28;01melse\u001b[39;00m shap_values\u001b[38;5;241m.\u001b[39mdata\n\u001b[0;32m     71\u001b[0m feature_names \u001b[38;5;241m=\u001b[39m shap_values\u001b[38;5;241m.\u001b[39mfeature_names\n",
      "\u001b[1;31mTypeError\u001b[0m: only length-1 arrays can be converted to Python scalars"
     ]
    }
   ],
   "source": [
    "import xgboost\n",
    "import shap\n",
    "\n",
    "# X와 y 정의\n",
    "X = retail_df['payment_value'].values.reshape(-1, 1)  # X를 2D 배열로 변환\n",
    "y = retail_df[['product_volume_sd_sc', 'payment_type_debit_card', 'payment_type_wallet']]\n",
    "\n",
    "# XGBoost 모델 학습\n",
    "model = xgboost.XGBRegressor().fit(X, y)\n",
    "\n",
    "# SHAP 값을 계산\n",
    "explainer = shap.Explainer(model)\n",
    "shap_values = explainer(X)\n",
    "\n",
    "# 첫 번째 샘플에 대한 SHAP 값 가져오기\n",
    "shap_values_sample = shap_values[0]  # 첫 번째 샘플의 SHAP 값\n",
    "\n",
    "# 각 출력에 대해 시각화\n",
    "for i in range(shap_values_sample.shape[0]):  # 각 출력에 대해 반복\n",
    "    shap.plots.waterfall(shap_values_sample[i])  # 각 출력의 waterfall plot\n"
   ]
  },
  {
   "cell_type": "code",
   "execution_count": null,
   "metadata": {},
   "outputs": [],
   "source": []
  }
 ],
 "metadata": {
  "kernelspec": {
   "display_name": "base",
   "language": "python",
   "name": "python3"
  },
  "language_info": {
   "codemirror_mode": {
    "name": "ipython",
    "version": 3
   },
   "file_extension": ".py",
   "mimetype": "text/x-python",
   "name": "python",
   "nbconvert_exporter": "python",
   "pygments_lexer": "ipython3",
   "version": "3.12.4"
  }
 },
 "nbformat": 4,
 "nbformat_minor": 2
}
